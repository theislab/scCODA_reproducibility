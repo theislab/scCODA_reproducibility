{
 "cells": [
  {
   "cell_type": "markdown",
   "metadata": {
    "collapsed": true,
    "pycharm": {
     "name": "#%% md\n"
    }
   },
   "source": [
    "# Threshold determination analysis\n",
    "\n",
    "We want to find the optimal threshold for the inclusion probability of scCODA.\n",
    "Benchmark details see paper."
   ]
  },
  {
   "cell_type": "code",
   "execution_count": 2,
   "outputs": [],
   "source": [
    "# Setup\n",
    "import warnings\n",
    "\n",
    "warnings.filterwarnings(\"ignore\")\n",
    "\n",
    "import pandas as pd\n",
    "import matplotlib.pyplot as plt\n",
    "import seaborn as sns\n",
    "import numpy as np\n",
    "\n",
    "import benchmarking.benchmark_utils as util"
   ],
   "metadata": {
    "collapsed": false,
    "pycharm": {
     "name": "#%%\n"
    }
   }
  },
  {
   "cell_type": "markdown",
   "source": [
    "Preparation:\n",
    "\n",
    "We apply every threshold in $\\{0.01, ..., 0.99\\}$ to the results determined by scCODA and\n",
    "then calculate the according classification statistics (mcc, true positive rate, true negative rate, false discovery rate, ...)\n",
    "\n",
    "The output will be a dictionary with one DataFrame for every threshold"
   ],
   "metadata": {
    "collapsed": false,
    "pycharm": {
     "name": "#%% md\n"
    }
   }
  },
  {
   "cell_type": "code",
   "execution_count": 3,
   "outputs": [],
   "source": [
    "# Get results path\n",
    "save_path = \"../../data/threshold_determination/data_threshold_determination/\"\n",
    "results = pd.read_csv(save_path + \"benchmark_results\", index_col=0)\n",
    "effects = pd.read_csv(save_path + \"sccoda_effects\", index_col=[0,1,2])\n",
    "\n",
    "# Thresholding inclusion probabilities\n",
    "\n",
    "def recalculate_inc_prob(inc_probs, threshold):\n",
    "    return [p > threshold for p in inc_probs]"
   ],
   "metadata": {
    "collapsed": false,
    "pycharm": {
     "name": "#%%\n"
    }
   }
  },
  {
   "cell_type": "code",
   "execution_count": 4,
   "outputs": [],
   "source": [
    "# Prepare output: Dict with one df for each threshold that contains evaluation of all datasets\n",
    "sim_columns = ['n_cell_types', 'n_cells', 'n_controls',\n",
    "               'n_cases', 'Base', 'Increase',\n",
    "               'log-fold increase', 'b_true', 'w_true']\n",
    "\n",
    "thresholds = np.round(np.arange(0.01, 1., 0.01), 2)"
   ],
   "metadata": {
    "collapsed": false,
    "pycharm": {
     "name": "#%%\n"
    }
   }
  },
  {
   "cell_type": "markdown",
   "source": [
    "Fill the dictionary, one result file at a time.\n",
    "A file contains the result of scCODA on all 20 generated datasets with identical parameters\n",
    "(see *data_generation* for more details on parameter values)"
   ],
   "metadata": {
    "collapsed": false,
    "pycharm": {
     "name": "#%% md\n"
    }
   }
  },
  {
   "cell_type": "code",
   "execution_count": 7,
   "outputs": [],
   "source": [
    "def apply_thresholds_to_results(thresholds):\n",
    "    threshold_dict = {}\n",
    "    for t in thresholds:\n",
    "        threshold_dict[t] = pd.DataFrame(columns=sim_columns + [\"threshold\", \"tp\", \"tn\", \"fp\", \"fn\"])\n",
    "\n",
    "    # Iterate Over all datasets and thresholds\n",
    "    # For each threshold\n",
    "    n_datasets = results.shape[0]\n",
    "\n",
    "    for t in thresholds:\n",
    "        print(f\"threshold: {t}\")\n",
    "\n",
    "        # Prepare df to append to threshold_dict entry\n",
    "        out_df = results.loc[:, sim_columns]\n",
    "        out_df[\"threshold\"] = t\n",
    "\n",
    "        tp_list = []\n",
    "        tn_list = []\n",
    "        fp_list = []\n",
    "        fn_list = []\n",
    "\n",
    "        # Iterate over all datasets in file\n",
    "        for n in range(n_datasets):\n",
    "            eff = effects.loc[n]\n",
    "\n",
    "            # no. of cell types\n",
    "            K = eff.shape[0]\n",
    "            ks = list(range(K))[1:]\n",
    "\n",
    "            # calculate significances\n",
    "            is_significant = recalculate_inc_prob(eff[\"Inclusion probability\"], t)\n",
    "\n",
    "            # Get tp, tn, fp, fn (Truth: Only first cell type significant)\n",
    "            tp = sum([is_significant[0] == True])\n",
    "            tp_list.append(tp)\n",
    "            fn = sum([is_significant[0] == False])\n",
    "            fn_list.append(fn)\n",
    "            tn = sum([is_significant[k] == False for k in ks])\n",
    "            tn_list.append(tn)\n",
    "            fp = sum([is_significant[k] == True for k in ks])\n",
    "            fp_list.append(fp)\n",
    "\n",
    "        # add tp, tn, fp, fn to output df\n",
    "        out_df[\"tp\"] = tp_list\n",
    "        out_df[\"tn\"] = tn_list\n",
    "        out_df[\"fp\"] = fp_list\n",
    "        out_df[\"fn\"] = fn_list\n",
    "\n",
    "        # append to threshold_dict entry\n",
    "        threshold_dict[t] = out_df\n",
    "\n",
    "    \n",
    "    # Get scores (mcc, ...) for all thresholds\n",
    "    for k,v in threshold_dict.items():\n",
    "        if (k * 10) % 10 ==0:\n",
    "            print(f\"get scores: {k}\")\n",
    "        threshold_dict[k] = util.get_scores(v)\n",
    "        \n",
    "    return threshold_dict"
   ],
   "metadata": {
    "collapsed": false,
    "pycharm": {
     "name": "#%%\n"
    }
   }
  },
  {
   "cell_type": "code",
   "execution_count": 8,
   "outputs": [
    {
     "name": "stdout",
     "output_type": "stream",
     "text": [
      "threshold: 0.01\n",
      "threshold: 0.02\n",
      "threshold: 0.03\n",
      "threshold: 0.04\n",
      "threshold: 0.05\n",
      "threshold: 0.06\n",
      "threshold: 0.07\n",
      "threshold: 0.08\n",
      "threshold: 0.09\n",
      "threshold: 0.1\n",
      "threshold: 0.11\n",
      "threshold: 0.12\n",
      "threshold: 0.13\n",
      "threshold: 0.14\n",
      "threshold: 0.15\n",
      "threshold: 0.16\n",
      "threshold: 0.17\n",
      "threshold: 0.18\n",
      "threshold: 0.19\n",
      "threshold: 0.2\n",
      "threshold: 0.21\n",
      "threshold: 0.22\n",
      "threshold: 0.23\n",
      "threshold: 0.24\n",
      "threshold: 0.25\n",
      "threshold: 0.26\n",
      "threshold: 0.27\n",
      "threshold: 0.28\n",
      "threshold: 0.29\n",
      "threshold: 0.3\n",
      "threshold: 0.31\n",
      "threshold: 0.32\n",
      "threshold: 0.33\n",
      "threshold: 0.34\n",
      "threshold: 0.35\n",
      "threshold: 0.36\n",
      "threshold: 0.37\n",
      "threshold: 0.38\n",
      "threshold: 0.39\n",
      "threshold: 0.4\n",
      "threshold: 0.41\n",
      "threshold: 0.42\n",
      "threshold: 0.43\n",
      "threshold: 0.44\n",
      "threshold: 0.45\n",
      "threshold: 0.46\n",
      "threshold: 0.47\n",
      "threshold: 0.48\n",
      "threshold: 0.49\n",
      "threshold: 0.5\n",
      "threshold: 0.51\n",
      "threshold: 0.52\n",
      "threshold: 0.53\n",
      "threshold: 0.54\n",
      "threshold: 0.55\n",
      "threshold: 0.56\n",
      "threshold: 0.57\n",
      "threshold: 0.58\n",
      "threshold: 0.59\n",
      "threshold: 0.6\n",
      "threshold: 0.61\n",
      "threshold: 0.62\n",
      "threshold: 0.63\n",
      "threshold: 0.64\n",
      "threshold: 0.65\n",
      "threshold: 0.66\n",
      "threshold: 0.67\n",
      "threshold: 0.68\n",
      "threshold: 0.69\n",
      "threshold: 0.7\n",
      "threshold: 0.71\n",
      "threshold: 0.72\n",
      "threshold: 0.73\n",
      "threshold: 0.74\n",
      "threshold: 0.75\n",
      "threshold: 0.76\n",
      "threshold: 0.77\n",
      "threshold: 0.78\n",
      "threshold: 0.79\n",
      "threshold: 0.8\n",
      "threshold: 0.81\n",
      "threshold: 0.82\n",
      "threshold: 0.83\n",
      "threshold: 0.84\n",
      "threshold: 0.85\n",
      "threshold: 0.86\n",
      "threshold: 0.87\n",
      "threshold: 0.88\n",
      "threshold: 0.89\n",
      "threshold: 0.9\n",
      "threshold: 0.91\n",
      "threshold: 0.92\n",
      "threshold: 0.93\n",
      "threshold: 0.94\n",
      "threshold: 0.95\n",
      "threshold: 0.96\n",
      "threshold: 0.97\n",
      "threshold: 0.98\n",
      "threshold: 0.99\n",
      "    n_cell_types  n_cells  n_controls  n_cases        Base    Increase  \\\n",
      "0             14     5000           7        7  357.142857  357.142857   \n",
      "1             14     5000           7        7  357.142857  357.142857   \n",
      "2             14     5000           7        7  357.142857  357.142857   \n",
      "3             14     5000           7        7  357.142857  357.142857   \n",
      "4             14     5000           7        7  357.142857  357.142857   \n",
      "..           ...      ...         ...      ...         ...         ...   \n",
      "15            10     5000           9        9  500.000000  125.000000   \n",
      "16            10     5000           9        9  500.000000  125.000000   \n",
      "17            10     5000           9        9  500.000000  125.000000   \n",
      "18            10     5000           9        9  500.000000  125.000000   \n",
      "19            10     5000           9        9  500.000000  125.000000   \n",
      "\n",
      "    log-fold increase                                             b_true  \\\n",
      "0                1.00  [-2.639 -2.639 -2.639 -2.639 -2.639 -2.639 -2....   \n",
      "1                1.00  [-2.639 -2.639 -2.639 -2.639 -2.639 -2.639 -2....   \n",
      "2                1.00  [-2.639 -2.639 -2.639 -2.639 -2.639 -2.639 -2....   \n",
      "3                1.00  [-2.639 -2.639 -2.639 -2.639 -2.639 -2.639 -2....   \n",
      "4                1.00  [-2.639 -2.639 -2.639 -2.639 -2.639 -2.639 -2....   \n",
      "..                ...                                                ...   \n",
      "15               0.32  [-2.303 -2.303 -2.303 -2.303 -2.303 -2.303 -2....   \n",
      "16               0.32  [-2.303 -2.303 -2.303 -2.303 -2.303 -2.303 -2....   \n",
      "17               0.32  [-2.303 -2.303 -2.303 -2.303 -2.303 -2.303 -2....   \n",
      "18               0.32  [-2.303 -2.303 -2.303 -2.303 -2.303 -2.303 -2....   \n",
      "19               0.32  [-2.303 -2.303 -2.303 -2.303 -2.303 -2.303 -2....   \n",
      "\n",
      "                                               w_true  threshold  ...  fp  fn  \\\n",
      "0   [array([0.773, 0.   , 0.   , 0.   , 0.   , 0. ...        0.3  ...   5   0   \n",
      "1   [array([0.773, 0.   , 0.   , 0.   , 0.   , 0. ...        0.3  ...   4   0   \n",
      "2   [array([0.773, 0.   , 0.   , 0.   , 0.   , 0. ...        0.3  ...   3   0   \n",
      "3   [array([0.773, 0.   , 0.   , 0.   , 0.   , 0. ...        0.3  ...   3   0   \n",
      "4   [array([0.773, 0.   , 0.   , 0.   , 0.   , 0. ...        0.3  ...   5   0   \n",
      "..                                                ...        ...  ...  ..  ..   \n",
      "15  [array([0.251, 0.   , 0.   , 0.   , 0.   , 0. ...        0.3  ...   8   0   \n",
      "16  [array([0.251, 0.   , 0.   , 0.   , 0.   , 0. ...        0.3  ...   7   0   \n",
      "17  [array([0.251, 0.   , 0.   , 0.   , 0.   , 0. ...        0.3  ...   1   0   \n",
      "18  [array([0.251, 0.   , 0.   , 0.   , 0.   , 0. ...        0.3  ...   8   0   \n",
      "19  [array([0.251, 0.   , 0.   , 0.   , 0.   , 0. ...        0.3  ...   8   0   \n",
      "\n",
      "    tpr       tnr  precision       fdr  accuracy    youden  f1_score       mcc  \n",
      "0   1.0  0.615385   0.166667  0.833333  0.642857  0.615385  0.285714  0.320256  \n",
      "1   1.0  0.692308   0.200000  0.800000  0.714286  0.692308  0.333333  0.372104  \n",
      "2   1.0  0.769231   0.250000  0.750000  0.785714  0.769231  0.400000  0.438529  \n",
      "3   1.0  0.769231   0.250000  0.750000  0.785714  0.769231  0.400000  0.438529  \n",
      "4   1.0  0.615385   0.166667  0.833333  0.642857  0.615385  0.285714  0.320256  \n",
      "..  ...       ...        ...       ...       ...       ...       ...       ...  \n",
      "15  1.0  0.111111   0.111111  0.888889  0.200000  0.111111  0.200000  0.111111  \n",
      "16  1.0  0.222222   0.125000  0.875000  0.300000  0.222222  0.222222  0.166667  \n",
      "17  1.0  0.888889   0.500000  0.500000  0.900000  0.888889  0.666667  0.666667  \n",
      "18  1.0  0.111111   0.111111  0.888889  0.200000  0.111111  0.200000  0.111111  \n",
      "19  1.0  0.111111   0.111111  0.888889  0.200000  0.111111  0.200000  0.111111  \n",
      "\n",
      "[8400 rows x 22 columns]\n"
     ]
    }
   ],
   "source": [
    "threshold_dict = apply_thresholds_to_results(thresholds)\n",
    "\n",
    "# Just an example\n",
    "print(threshold_dict[0.3])  "
   ],
   "metadata": {
    "collapsed": false,
    "pycharm": {
     "name": "#%%\n"
    }
   }
  },
  {
   "cell_type": "code",
   "execution_count": 9,
   "outputs": [
    {
     "name": "stdout",
     "output_type": "stream",
     "text": [
      "        n_cell_types  n_cells  n_controls  n_cases        Base    Increase  \\\n",
      "0                 14     5000           7        7  357.142857  357.142857   \n",
      "1                 14     5000           7        7  357.142857  357.142857   \n",
      "2                 14     5000           7        7  357.142857  357.142857   \n",
      "3                 14     5000           7        7  357.142857  357.142857   \n",
      "4                 14     5000           7        7  357.142857  357.142857   \n",
      "...              ...      ...         ...      ...         ...         ...   \n",
      "831595            10     5000           9        9  500.000000  125.000000   \n",
      "831596            10     5000           9        9  500.000000  125.000000   \n",
      "831597            10     5000           9        9  500.000000  125.000000   \n",
      "831598            10     5000           9        9  500.000000  125.000000   \n",
      "831599            10     5000           9        9  500.000000  125.000000   \n",
      "\n",
      "        log-fold increase                                             b_true  \\\n",
      "0                    1.00  [-2.639 -2.639 -2.639 -2.639 -2.639 -2.639 -2....   \n",
      "1                    1.00  [-2.639 -2.639 -2.639 -2.639 -2.639 -2.639 -2....   \n",
      "2                    1.00  [-2.639 -2.639 -2.639 -2.639 -2.639 -2.639 -2....   \n",
      "3                    1.00  [-2.639 -2.639 -2.639 -2.639 -2.639 -2.639 -2....   \n",
      "4                    1.00  [-2.639 -2.639 -2.639 -2.639 -2.639 -2.639 -2....   \n",
      "...                   ...                                                ...   \n",
      "831595               0.32  [-2.303 -2.303 -2.303 -2.303 -2.303 -2.303 -2....   \n",
      "831596               0.32  [-2.303 -2.303 -2.303 -2.303 -2.303 -2.303 -2....   \n",
      "831597               0.32  [-2.303 -2.303 -2.303 -2.303 -2.303 -2.303 -2....   \n",
      "831598               0.32  [-2.303 -2.303 -2.303 -2.303 -2.303 -2.303 -2....   \n",
      "831599               0.32  [-2.303 -2.303 -2.303 -2.303 -2.303 -2.303 -2....   \n",
      "\n",
      "                                                   w_true  threshold  ...  fp  \\\n",
      "0       [array([0.773, 0.   , 0.   , 0.   , 0.   , 0. ...       0.01  ...  12   \n",
      "1       [array([0.773, 0.   , 0.   , 0.   , 0.   , 0. ...       0.01  ...  12   \n",
      "2       [array([0.773, 0.   , 0.   , 0.   , 0.   , 0. ...       0.01  ...  12   \n",
      "3       [array([0.773, 0.   , 0.   , 0.   , 0.   , 0. ...       0.01  ...  12   \n",
      "4       [array([0.773, 0.   , 0.   , 0.   , 0.   , 0. ...       0.01  ...  12   \n",
      "...                                                   ...        ...  ...  ..   \n",
      "831595  [array([0.251, 0.   , 0.   , 0.   , 0.   , 0. ...       0.99  ...   0   \n",
      "831596  [array([0.251, 0.   , 0.   , 0.   , 0.   , 0. ...       0.99  ...   0   \n",
      "831597  [array([0.251, 0.   , 0.   , 0.   , 0.   , 0. ...       0.99  ...   0   \n",
      "831598  [array([0.251, 0.   , 0.   , 0.   , 0.   , 0. ...       0.99  ...   0   \n",
      "831599  [array([0.251, 0.   , 0.   , 0.   , 0.   , 0. ...       0.99  ...   0   \n",
      "\n",
      "        fn  tpr       tnr  precision       fdr  accuracy    youden  f1_score  \\\n",
      "0        0  1.0  0.076923   0.076923  0.923077  0.142857  0.076923  0.142857   \n",
      "1        0  1.0  0.076923   0.076923  0.923077  0.142857  0.076923  0.142857   \n",
      "2        0  1.0  0.076923   0.076923  0.923077  0.142857  0.076923  0.142857   \n",
      "3        0  1.0  0.076923   0.076923  0.923077  0.142857  0.076923  0.142857   \n",
      "4        0  1.0  0.076923   0.076923  0.923077  0.142857  0.076923  0.142857   \n",
      "...     ..  ...       ...        ...       ...       ...       ...       ...   \n",
      "831595   1  0.0  1.000000   0.000000  0.000000  0.900000  0.000000  0.000000   \n",
      "831596   1  0.0  1.000000   0.000000  0.000000  0.900000  0.000000  0.000000   \n",
      "831597   1  0.0  1.000000   0.000000  0.000000  0.900000  0.000000  0.000000   \n",
      "831598   1  0.0  1.000000   0.000000  0.000000  0.900000  0.000000  0.000000   \n",
      "831599   1  0.0  1.000000   0.000000  0.000000  0.900000  0.000000  0.000000   \n",
      "\n",
      "             mcc  \n",
      "0       0.076923  \n",
      "1       0.076923  \n",
      "2       0.076923  \n",
      "3       0.076923  \n",
      "4       0.076923  \n",
      "...          ...  \n",
      "831595  0.000000  \n",
      "831596  0.000000  \n",
      "831597  0.000000  \n",
      "831598  0.000000  \n",
      "831599  0.000000  \n",
      "\n",
      "[831600 rows x 22 columns]\n"
     ]
    }
   ],
   "source": [
    "# Join all thresholds into one DataFrame\n",
    "total_df = pd.concat(threshold_dict.values(), ignore_index=True)\n",
    "print(total_df)"
   ],
   "metadata": {
    "collapsed": false,
    "pycharm": {
     "name": "#%%\n"
    }
   }
  },
  {
   "cell_type": "markdown",
   "source": [
    "Plotting...\n",
    "\n",
    "It is immediately apparent that the optimal threshold (in terms of MCC) depends on the number of cell types.\n",
    "The blue line shows the optimal threshold function (determination see below)"
   ],
   "metadata": {
    "collapsed": false,
    "pycharm": {
     "name": "#%% md\n"
    }
   }
  },
  {
   "cell_type": "code",
   "execution_count": 11,
   "outputs": [
    {
     "data": {
      "text/plain": "<Figure size 432x288 with 2 Axes>",
      "image/png": "[encoded data removed]"
     },
     "metadata": {
      "needs_background": "light"
     },
     "output_type": "display_data"
    }
   ],
   "source": [
    "plot_df_mcc = total_df.groupby([\"n_cell_types\", \"threshold\"]).agg({\"mcc\": \"mean\"}).unstack(level=0)\n",
    "plot_df_mcc.columns = plot_df_mcc.columns.droplevel(0)\n",
    "\n",
    "ax = sns.heatmap(data=plot_df_mcc, vmin=-1, vmax=1)\n",
    "ax.invert_yaxis()\n",
    "\n",
    "xs = np.array([x+2 for x in range(14)])\n",
    "ys = 1 - (0.77/(xs**0.29))\n",
    "\n",
    "plt.plot([x+0.5 for x in range(14)], ys*99)\n",
    "\n",
    "plt.xlabel(\"# of cell types\")\n",
    "plt.title(\"Matthews correlation coefficient\")\n",
    "\n",
    "plt.show()"
   ],
   "metadata": {
    "collapsed": false,
    "pycharm": {
     "name": "#%%\n"
    }
   }
  },
  {
   "cell_type": "markdown",
   "source": [
    "True positive rate: The higher the threshold, the less likely we are to capture the effect on the first cell type correctly"
   ],
   "metadata": {
    "collapsed": false
   }
  },
  {
   "cell_type": "code",
   "execution_count": 12,
   "outputs": [
    {
     "data": {
      "text/plain": "<Figure size 432x288 with 2 Axes>",
      "image/png": "[encoded data removed]"
     },
     "metadata": {
      "needs_background": "light"
     },
     "output_type": "display_data"
    }
   ],
   "source": [
    "plot_df_tpr = total_df.groupby([\"n_cell_types\", \"threshold\"]).agg({\"tpr\": \"mean\"}).unstack(level=0)\n",
    "plot_df_tpr.columns = plot_df_tpr.columns.droplevel(0)\n",
    "\n",
    "ax = sns.heatmap(data=plot_df_tpr, vmin=0, vmax=1)\n",
    "ax.invert_yaxis()\n",
    "\n",
    "plt.plot([x+0.5 for x in range(14)], ys*99)\n",
    "\n",
    "plt.xlabel(\"# of cell types\")\n",
    "plt.title(\"True positive rate\")\n",
    "\n",
    "plt.show()"
   ],
   "metadata": {
    "collapsed": false,
    "pycharm": {
     "name": "#%%\n"
    }
   }
  },
  {
   "cell_type": "markdown",
   "source": [
    "True negative rate: The lower the threshold, the more likely we are to falsely assess an effect on one of the other cell types (2...K)\n",
    "\n",
    "K=2 is an edge case, since we set the baseline to the only cell type without an effect, therefore gaining perfect TNR"
   ],
   "metadata": {
    "collapsed": false
   }
  },
  {
   "cell_type": "code",
   "execution_count": 13,
   "outputs": [
    {
     "data": {
      "text/plain": "<Figure size 432x288 with 2 Axes>",
      "image/png": "[encoded data removed]"
     },
     "metadata": {
      "needs_background": "light"
     },
     "output_type": "display_data"
    }
   ],
   "source": [
    "plot_df_tnr = total_df.groupby([\"n_cell_types\", \"threshold\"]).agg({\"tnr\": \"mean\"}).unstack(level=0)\n",
    "plot_df_tnr.columns = plot_df_tnr.columns.droplevel(0)\n",
    "\n",
    "ax = sns.heatmap(data=plot_df_tnr, vmin=0, vmax=1)\n",
    "ax.invert_yaxis()\n",
    "\n",
    "plt.plot([x+0.5 for x in range(14)], ys*99)\n",
    "\n",
    "plt.xlabel(\"# of cell types\")\n",
    "plt.title(\"True negative rate\")\n",
    "\n",
    "plt.show()"
   ],
   "metadata": {
    "collapsed": false,
    "pycharm": {
     "name": "#%%\n"
    }
   }
  },
  {
   "cell_type": "markdown",
   "source": [
    "False Discovery Rate: We can see the same pattern as with the other metrics.\n",
    "\n",
    "The heatmap gives not much info, but interpolating the fdr for every K"
   ],
   "metadata": {
    "collapsed": false
   }
  },
  {
   "cell_type": "code",
   "execution_count": 14,
   "outputs": [
    {
     "data": {
      "text/plain": "<Figure size 432x288 with 2 Axes>",
      "image/png": "[encoded data removed]"
     },
     "metadata": {
      "needs_background": "light"
     },
     "output_type": "display_data"
    }
   ],
   "source": [
    "plot_df_fdr = total_df.groupby([\"n_cell_types\", \"threshold\"]).agg({\"fdr\": \"mean\"}).unstack(level=0)\n",
    "plot_df_fdr.columns = plot_df_fdr.columns.droplevel(0)\n",
    "\n",
    "ax = sns.heatmap(data=plot_df_fdr, vmin=0, vmax=1)\n",
    "ax.invert_yaxis()\n",
    "\n",
    "xs = np.array([x+2 for x in range(14)])\n",
    "ys = 1 - (0.77/(xs**0.29))\n",
    "plt.plot([x+0.5 for x in range(14)], ys*99)\n",
    "\n",
    "plt.xlabel(\"# of cell types\")\n",
    "plt.title(\"False discovery rate\")\n",
    "\n",
    "plt.show()"
   ],
   "metadata": {
    "collapsed": false,
    "pycharm": {
     "name": "#%%\n"
    }
   }
  },
  {
   "cell_type": "markdown",
   "source": [
    "Now determine the optimal threshold function. We suppose that the function has to be of the form $t = 1-(c/\\sqrt{K})$.\n",
    "\n",
    "To find the optimal value for c, we look at how the False Discovery Rate behaves with K.\n",
    "For every K, we want to find the threshold where MCC is maximal.\n",
    "Then, we fit a function to determine c for any K."
   ],
   "metadata": {
    "collapsed": false,
    "pycharm": {
     "name": "#%% md\n"
    }
   }
  },
  {
   "cell_type": "code",
   "execution_count": 15,
   "outputs": [
    {
     "name": "stdout",
     "output_type": "stream",
     "text": [
      "{2: 0.01, 3: 0.43, 4: 0.49, 5: 0.5, 6: 0.61, 7: 0.55, 8: 0.57, 9: 0.56, 10: 0.62, 11: 0.64, 12: 0.61, 13: 0.62, 14: 0.65, 15: 0.66}\n"
     ]
    }
   ],
   "source": [
    "# Get optimal threshold  every K\n",
    "\n",
    "# Average FDR for all K, c\n",
    "grouped_df = total_df.groupby([\"n_cell_types\", \"threshold\"]).agg({\"fdr\": \"mean\", \"mcc\": \"mean\"}).reset_index()\n",
    "ks = [x+2 for x in range(14)]\n",
    "\n",
    "threshs_mcc = {}\n",
    "\n",
    "# Find minimal threshold for every K\n",
    "for k in ks:\n",
    "    \n",
    "    max_mcc = np.max(grouped_df.loc[grouped_df[\"n_cell_types\"]==k, \"mcc\"])\n",
    "    threshs_mcc[k] = np.min(grouped_df.loc[(grouped_df[\"n_cell_types\"]==k) & (grouped_df[\"mcc\"]==max_mcc), \"threshold\"])\n",
    "    \n",
    "print(threshs_mcc)"
   ],
   "metadata": {
    "collapsed": false,
    "pycharm": {
     "name": "#%%\n"
    }
   }
  },
  {
   "cell_type": "markdown",
   "source": [
    "Now, we determine the optimal thresholding function.\n",
    "From the plot, we propose a function of the form $1 - a/(K^b); a \\in (0.5, 1.5); b \\in (0, 1)$.\n",
    "\n",
    "We leave out $K=2$, since this edge case always gives an almost perfect MCC due to the baseline cell type making up half of the cell types.\n",
    "\n",
    "We then find the optimal a and b by performing a grid search and selecting the parameter pair with the lowest sum of squared errors over all K.\n",
    "The plot shows the values of optimal threshold for every K (blue) and the fitted function (orange)."
   ],
   "metadata": {
    "collapsed": false,
    "pycharm": {
     "name": "#%% md\n"
    }
   }
  },
  {
   "cell_type": "code",
   "execution_count": 16,
   "outputs": [
    {
     "data": {
      "text/plain": "<Figure size 432x288 with 1 Axes>",
      "image/png": "[encoded data removed]"
     },
     "metadata": {
      "needs_background": "light"
     },
     "output_type": "display_data"
    }
   ],
   "source": [
    "plt.plot(threshs_mcc.keys(), threshs_mcc.values())\n",
    "plt.plot(ks, [1 - 0.77/(k**0.29) for k in ks])\n",
    "\n",
    "plt.xlabel(\"# of cell types\")\n",
    "plt.ylabel(\"threshold\")\n",
    "\n",
    "plt.show()"
   ],
   "metadata": {
    "collapsed": false,
    "pycharm": {
     "name": "#%%\n"
    }
   }
  },
  {
   "cell_type": "code",
   "execution_count": 17,
   "outputs": [
    {
     "name": "stdout",
     "output_type": "stream",
     "text": [
      "optimal parameters: a - 0.77, b - 0.29\n"
     ]
    }
   ],
   "source": [
    "# Leave out K=2 (edge case)\n",
    "cs = np.round(np.arange(0.5, 1.5, 0.01), 2)\n",
    "exps = np.round(np.arange(0.01, 1., 0.01), 2)\n",
    "\n",
    "ssq_fdr = {}\n",
    "ssq_mcc = {}\n",
    "\n",
    "for c in cs:\n",
    "    for exp in exps:\n",
    "        thresh_prop = np.array([1-c/(k**exp) for k in ks[1:]])\n",
    "\n",
    "        diffs_mcc = thresh_prop - np.fromiter(threshs_mcc.values(), dtype=float)[1:]\n",
    "        ssq_mcc[(c, exp)] = np.sum(diffs_mcc**2)\n",
    "\n",
    "min_mcc = min(ssq_mcc, key=ssq_mcc.get)\n",
    "\n",
    "print(f\"optimal parameters: a - {min_mcc[0]}, b - {min_mcc[1]}\")"
   ],
   "metadata": {
    "collapsed": false,
    "pycharm": {
     "name": "#%%\n"
    }
   }
  },
  {
   "cell_type": "code",
   "execution_count": null,
   "outputs": [],
   "source": [],
   "metadata": {
    "collapsed": false,
    "pycharm": {
     "name": "#%%\n"
    }
   }
  }
 ],
 "metadata": {
  "kernelspec": {
   "name": "pycharm-d14afe01",
   "language": "python",
   "display_name": "PyCharm (scCODA_tests)"
  },
  "language_info": {
   "codemirror_mode": {
    "name": "ipython",
    "version": 2
   },
   "file_extension": ".py",
   "mimetype": "text/x-python",
   "name": "python",
   "nbconvert_exporter": "python",
   "pygments_lexer": "ipython2",
   "version": "2.7.6"
  }
 },
 "nbformat": 4,
 "nbformat_minor": 0
}