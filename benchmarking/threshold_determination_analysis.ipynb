{
 "cells": [
  {
   "cell_type": "markdown",
   "metadata": {
    "collapsed": true,
    "pycharm": {
     "name": "#%% md\n"
    }
   },
   "source": [
    "# Threshold determination analysis\n",
    "\n",
    "We want to find the optimal threshold for the inclusion probability of SCDCdm.\n",
    "Benchmark details see paper."
   ]
  },
  {
   "cell_type": "code",
   "execution_count": 1,
   "outputs": [],
   "source": [
    "# Setup\n",
    "import warnings\n",
    "warnings.filterwarnings(\"ignore\")\n",
    "\n",
    "import pandas as pd\n",
    "import matplotlib.pyplot as plt\n",
    "import seaborn as sns\n",
    "import numpy as np\n",
    "import arviz as az\n",
    "import os\n",
    "import pickle as pkl\n",
    "\n",
    "from scdcdm.util import comp_ana as mod\n",
    "from scdcdm.util import cell_composition_data as dat\n",
    "import paper_simulation_scripts.benchmark_utils as util"
   ],
   "metadata": {
    "collapsed": false,
    "pycharm": {
     "name": "#%%\n",
     "is_executing": false
    }
   }
  },
  {
   "cell_type": "markdown",
   "source": [
    "Preparation: File location,\n",
    "thresholding function to calculate inclusion probabilities,\n",
    "output format\n",
    "\n",
    "We apply every threshold in $$\\{0.05, ..., 0.95\\}$$ to the results determined by SCDCdm and \n",
    "then calculate the according classification statistics (mcc, true positive rate, true negative rate, ...)\n",
    "\n",
    "The output will be a dictionary with one DataFrame for every threshold"
   ],
   "metadata": {
    "collapsed": false,
    "pycharm": {
     "name": "#%% md\n"
    }
   }
  },
  {
   "cell_type": "code",
   "execution_count": 2,
   "outputs": [],
   "source": [
    "# Get file names\n",
    "save_path = \"C:\\\\Users\\\\Johannes\\\\Documents\\\\Uni\\\\Master's_Thesis\\\\SCDCdm\\\\data\\\\threshold_determination\\\\threshold_determination_005_balanced\\\\\"\n",
    "files = os.listdir(save_path)\n",
    "\n",
    "# Thresholding inclusion probabilities\n",
    "def recalculate_inc_prob(inc_probs, threshold):\n",
    "    return [p > threshold for p in inc_probs]"
   ],
   "metadata": {
    "collapsed": false,
    "pycharm": {
     "name": "#%%\n",
     "is_executing": false
    }
   }
  },
  {
   "cell_type": "code",
   "execution_count": 3,
   "outputs": [],
   "source": [
    "# Prepare output: Dict with one df for each threshold that contains evaluation of all datasets\n",
    "sim_columns = ['n_cell_types', 'n_cells', 'n_controls',\n",
    "               'n_cases', 'Base', 'Increase',\n",
    "               'log-fold increase', 'b_true', 'w_true']\n",
    "\n",
    "thresholds = np.round(np.arange(0.05, 1., 0.05), 2)\n",
    "\n",
    "threshold_dict = {}\n",
    "for t in thresholds:\n",
    "    threshold_dict[t] = pd.DataFrame(columns=sim_columns + [\"threshold\", \"tp\", \"tn\", \"fp\", \"fn\"])"
   ],
   "metadata": {
    "collapsed": false,
    "pycharm": {
     "name": "#%%\n",
     "is_executing": false
    }
   }
  },
  {
   "cell_type": "markdown",
   "source": [
    "Fill the dictionary, one result file at a time.\n",
    "A file contains the result of SCDCdm onall 20 generated datasets with identical parameters\n",
    "(see *data_generation* for moere details)"
   ],
   "metadata": {
    "collapsed": false,
    "pycharm": {
     "name": "#%% md\n"
    }
   }
  },
  {
   "cell_type": "code",
   "execution_count": 4,
   "outputs": [
    {
     "name": "stdout",
     "text": [
      "file 1/420\n",
      "file 2/420\n",
      "file 3/420\n",
      "file 4/420\n",
      "file 5/420\n",
      "file 6/420\n",
      "file 7/420\n",
      "file 8/420\n",
      "file 9/420\n",
      "file 10/420\n",
      "file 11/420\n",
      "file 12/420\n",
      "file 13/420\n",
      "file 14/420\n",
      "file 15/420\n",
      "file 16/420\n",
      "file 17/420\n",
      "file 18/420\n",
      "file 19/420\n",
      "file 20/420\n",
      "file 21/420\n",
      "file 22/420\n",
      "file 23/420\n",
      "file 24/420\n",
      "file 25/420\n",
      "file 26/420\n",
      "file 27/420\n",
      "file 28/420\n",
      "file 29/420\n",
      "file 30/420\n",
      "file 31/420\n",
      "file 32/420\n",
      "file 33/420\n",
      "file 34/420\n",
      "file 35/420\n",
      "file 36/420\n",
      "file 37/420\n",
      "file 38/420\n",
      "file 39/420\n",
      "file 40/420\n",
      "file 41/420\n",
      "file 42/420\n",
      "file 43/420\n",
      "file 44/420\n",
      "file 45/420\n",
      "file 46/420\n",
      "file 47/420\n",
      "file 48/420\n",
      "file 49/420\n",
      "file 50/420\n",
      "file 51/420\n",
      "file 52/420\n",
      "file 53/420\n",
      "file 54/420\n",
      "file 55/420\n",
      "file 56/420\n",
      "file 57/420\n",
      "file 58/420\n",
      "file 59/420\n",
      "file 60/420\n",
      "file 61/420\n",
      "file 62/420\n",
      "file 63/420\n",
      "file 64/420\n",
      "file 65/420\n",
      "file 66/420\n",
      "file 67/420\n",
      "file 68/420\n",
      "file 69/420\n",
      "file 70/420\n",
      "file 71/420\n",
      "file 72/420\n",
      "file 73/420\n",
      "file 74/420\n",
      "file 75/420\n",
      "file 76/420\n",
      "file 77/420\n",
      "file 78/420\n",
      "file 79/420\n",
      "file 80/420\n",
      "file 81/420\n",
      "file 82/420\n",
      "file 83/420\n",
      "file 84/420\n",
      "file 85/420\n",
      "file 86/420\n",
      "file 87/420\n",
      "file 88/420\n",
      "file 89/420\n",
      "file 90/420\n",
      "file 91/420\n",
      "file 92/420\n",
      "file 93/420\n",
      "file 94/420\n",
      "file 95/420\n",
      "file 96/420\n",
      "file 97/420\n",
      "file 98/420\n",
      "file 99/420\n",
      "file 100/420\n",
      "file 101/420\n",
      "file 102/420\n",
      "file 103/420\n",
      "file 104/420\n",
      "file 105/420\n",
      "file 106/420\n",
      "file 107/420\n",
      "file 108/420\n",
      "file 109/420\n",
      "file 110/420\n",
      "file 111/420\n",
      "file 112/420\n",
      "file 113/420\n",
      "file 114/420\n",
      "file 115/420\n",
      "file 116/420\n",
      "file 117/420\n",
      "file 118/420\n",
      "file 119/420\n",
      "file 120/420\n",
      "file 121/420\n",
      "file 122/420\n",
      "file 123/420\n",
      "file 124/420\n",
      "file 125/420\n",
      "file 126/420\n",
      "file 127/420\n",
      "file 128/420\n",
      "file 129/420\n",
      "file 130/420\n",
      "file 131/420\n",
      "file 132/420\n",
      "file 133/420\n",
      "file 134/420\n",
      "file 135/420\n",
      "file 136/420\n",
      "file 137/420\n",
      "file 138/420\n",
      "file 139/420\n",
      "file 140/420\n",
      "file 141/420\n",
      "file 142/420\n",
      "file 143/420\n",
      "file 144/420\n",
      "file 145/420\n",
      "file 146/420\n",
      "file 147/420\n",
      "file 148/420\n",
      "file 149/420\n",
      "file 150/420\n",
      "file 151/420\n",
      "file 152/420\n",
      "file 153/420\n",
      "file 154/420\n",
      "file 155/420\n",
      "file 156/420\n",
      "file 157/420\n",
      "file 158/420\n",
      "file 159/420\n",
      "file 160/420\n",
      "file 161/420\n",
      "file 162/420\n",
      "file 163/420\n",
      "file 164/420\n",
      "file 165/420\n",
      "file 166/420\n",
      "file 167/420\n",
      "file 168/420\n",
      "file 169/420\n",
      "file 170/420\n",
      "file 171/420\n",
      "file 172/420\n",
      "file 173/420\n",
      "file 174/420\n",
      "file 175/420\n",
      "file 176/420\n",
      "file 177/420\n",
      "file 178/420\n",
      "file 179/420\n",
      "file 180/420\n",
      "file 181/420\n",
      "file 182/420\n",
      "file 183/420\n",
      "file 184/420\n",
      "file 185/420\n",
      "file 186/420\n",
      "file 187/420\n",
      "file 188/420\n",
      "file 189/420\n",
      "file 190/420\n",
      "file 191/420\n",
      "file 192/420\n",
      "file 193/420\n",
      "file 194/420\n",
      "file 195/420\n",
      "file 196/420\n",
      "file 197/420\n",
      "file 198/420\n",
      "file 199/420\n",
      "file 200/420\n",
      "file 201/420\n",
      "file 202/420\n",
      "file 203/420\n",
      "file 204/420\n",
      "file 205/420\n",
      "file 206/420\n",
      "file 207/420\n",
      "file 208/420\n",
      "file 209/420\n",
      "file 210/420\n",
      "file 211/420\n",
      "file 212/420\n",
      "file 213/420\n",
      "file 214/420\n",
      "file 215/420\n",
      "file 216/420\n",
      "file 217/420\n",
      "file 218/420\n",
      "file 219/420\n",
      "file 220/420\n",
      "file 221/420\n",
      "file 222/420\n",
      "file 223/420\n",
      "file 224/420\n",
      "file 225/420\n",
      "file 226/420\n",
      "file 227/420\n",
      "file 228/420\n",
      "file 229/420\n",
      "file 230/420\n",
      "file 231/420\n",
      "file 232/420\n",
      "file 233/420\n",
      "file 234/420\n",
      "file 235/420\n",
      "file 236/420\n",
      "file 237/420\n",
      "file 238/420\n",
      "file 239/420\n",
      "file 240/420\n",
      "file 241/420\n",
      "file 242/420\n",
      "file 243/420\n",
      "file 244/420\n",
      "file 245/420\n",
      "file 246/420\n",
      "file 247/420\n",
      "file 248/420\n",
      "file 249/420\n",
      "file 250/420\n",
      "file 251/420\n",
      "file 252/420\n",
      "file 253/420\n",
      "file 254/420\n",
      "file 255/420\n",
      "file 256/420\n",
      "file 257/420\n",
      "file 258/420\n",
      "file 259/420\n",
      "file 260/420\n",
      "file 261/420\n",
      "file 262/420\n",
      "file 263/420\n",
      "file 264/420\n",
      "file 265/420\n",
      "file 266/420\n",
      "file 267/420\n",
      "file 268/420\n",
      "file 269/420\n",
      "file 270/420\n",
      "file 271/420\n",
      "file 272/420\n",
      "file 273/420\n",
      "file 274/420\n",
      "file 275/420\n",
      "file 276/420\n",
      "file 277/420\n",
      "file 278/420\n",
      "file 279/420\n",
      "file 280/420\n",
      "file 281/420\n",
      "file 282/420\n",
      "file 283/420\n",
      "file 284/420\n",
      "file 285/420\n",
      "file 286/420\n",
      "file 287/420\n",
      "file 288/420\n",
      "file 289/420\n",
      "file 290/420\n",
      "file 291/420\n",
      "file 292/420\n",
      "file 293/420\n",
      "file 294/420\n",
      "file 295/420\n",
      "file 296/420\n",
      "file 297/420\n",
      "file 298/420\n",
      "file 299/420\n",
      "file 300/420\n",
      "file 301/420\n",
      "file 302/420\n",
      "file 303/420\n",
      "file 304/420\n",
      "file 305/420\n",
      "file 306/420\n",
      "file 307/420\n",
      "file 308/420\n",
      "file 309/420\n",
      "file 310/420\n",
      "file 311/420\n",
      "file 312/420\n",
      "file 313/420\n",
      "file 314/420\n",
      "file 315/420\n",
      "file 316/420\n",
      "file 317/420\n",
      "file 318/420\n",
      "file 319/420\n",
      "file 320/420\n",
      "file 321/420\n",
      "file 322/420\n",
      "file 323/420\n",
      "file 324/420\n",
      "file 325/420\n",
      "file 326/420\n",
      "file 327/420\n",
      "file 328/420\n",
      "file 329/420\n",
      "file 330/420\n",
      "file 331/420\n",
      "file 332/420\n",
      "file 333/420\n",
      "file 334/420\n",
      "file 335/420\n",
      "file 336/420\n",
      "file 337/420\n",
      "file 338/420\n",
      "file 339/420\n",
      "file 340/420\n",
      "file 341/420\n",
      "file 342/420\n",
      "file 343/420\n",
      "file 344/420\n",
      "file 345/420\n",
      "file 346/420\n",
      "file 347/420\n",
      "file 348/420\n",
      "file 349/420\n",
      "file 350/420\n",
      "file 351/420\n",
      "file 352/420\n",
      "file 353/420\n",
      "file 354/420\n",
      "file 355/420\n",
      "file 356/420\n",
      "file 357/420\n",
      "file 358/420\n",
      "file 359/420\n",
      "file 360/420\n",
      "file 361/420\n",
      "file 362/420\n",
      "file 363/420\n",
      "file 364/420\n",
      "file 365/420\n",
      "file 366/420\n",
      "file 367/420\n",
      "file 368/420\n",
      "file 369/420\n",
      "file 370/420\n",
      "file 371/420\n",
      "file 372/420\n",
      "file 373/420\n",
      "file 374/420\n",
      "file 375/420\n",
      "file 376/420\n",
      "file 377/420\n",
      "file 378/420\n",
      "file 379/420\n",
      "file 380/420\n",
      "file 381/420\n",
      "file 382/420\n",
      "file 383/420\n",
      "file 384/420\n",
      "file 385/420\n",
      "file 386/420\n",
      "file 387/420\n",
      "file 388/420\n",
      "file 389/420\n",
      "file 390/420\n",
      "file 391/420\n",
      "file 392/420\n",
      "file 393/420\n",
      "file 394/420\n",
      "file 395/420\n",
      "file 396/420\n",
      "file 397/420\n",
      "file 398/420\n",
      "file 399/420\n",
      "file 400/420\n",
      "file 401/420\n",
      "file 402/420\n",
      "file 403/420\n",
      "file 404/420\n",
      "file 405/420\n",
      "file 406/420\n",
      "file 407/420\n",
      "file 408/420\n",
      "file 409/420\n",
      "file 410/420\n",
      "file 411/420\n",
      "file 412/420\n",
      "file 413/420\n",
      "file 414/420\n",
      "file 415/420\n",
      "file 416/420\n",
      "file 417/420\n",
      "file 418/420\n",
      "file 419/420\n",
      "file 420/420\n"
     ],
     "output_type": "stream"
    }
   ],
   "source": [
    "i = 1\n",
    "\n",
    "# Iterate Over all files\n",
    "for file in files:\n",
    "    print(f\"file {i}/{len(files)}\")\n",
    "    \n",
    "    # open file\n",
    "    with open(save_path + file, \"rb\") as f:\n",
    "        d = pkl.load(f)\n",
    "    \n",
    "    # For each threshold\n",
    "    for t in thresholds:\n",
    "        \n",
    "        # Prepare df to append to threshold_dict entry\n",
    "        out_df = d[\"results\"].loc[:, sim_columns]\n",
    "        out_df[\"threshold\"] = t\n",
    "        \n",
    "        tp_list = []\n",
    "        tn_list = []\n",
    "        fp_list = []\n",
    "        fn_list = []\n",
    "        \n",
    "        # Iterate over all datasets in file\n",
    "        for eff in d[\"effects\"]:\n",
    "            \n",
    "            # no. of cell types\n",
    "            K = eff.shape[0]\n",
    "            ks = list(range(K))[1:]\n",
    "            \n",
    "            # calculate significances\n",
    "            is_significant = recalculate_inc_prob(eff[\"Inclusion probability\"], t)\n",
    "            \n",
    "            # Get tp, tn, fp, fn (Truth: Only first cell type significant)\n",
    "            tp = sum([is_significant[0] == True])\n",
    "            tp_list.append(tp)\n",
    "            fn = sum([is_significant[0] == False])\n",
    "            fn_list.append(fn)\n",
    "            tn = sum([is_significant[k] == False for k in ks])\n",
    "            tn_list.append(tn)\n",
    "            fp = sum([is_significant[k] == True for k in ks])\n",
    "            fp_list.append(fp)\n",
    "            \n",
    "        # add tp, tn, fp, fn to output df\n",
    "        out_df[\"tp\"] = tp_list\n",
    "        out_df[\"tn\"] = tn_list\n",
    "        out_df[\"fp\"] = fp_list\n",
    "        out_df[\"fn\"] = fn_list\n",
    "        \n",
    "        # append to threshold_dict entry\n",
    "        threshold_dict[t] = threshold_dict[t].append(out_df, ignore_index=True)\n",
    "        \n",
    "    i += 1\n",
    "        "
   ],
   "metadata": {
    "collapsed": false,
    "pycharm": {
     "name": "#%%\n",
     "is_executing": false
    }
   }
  },
  {
   "cell_type": "code",
   "execution_count": 5,
   "outputs": [
    {
     "name": "stdout",
     "text": [
      "get scores: 0.05\n",
      "get scores: 0.1\n",
      "get scores: 0.15\n",
      "get scores: 0.2\n",
      "get scores: 0.25\n",
      "get scores: 0.3\n",
      "get scores: 0.35\n",
      "get scores: 0.4\n",
      "get scores: 0.45\n",
      "get scores: 0.5\n",
      "get scores: 0.55\n",
      "get scores: 0.6\n",
      "get scores: 0.65\n",
      "get scores: 0.7\n",
      "get scores: 0.75\n",
      "get scores: 0.8\n",
      "get scores: 0.85\n",
      "get scores: 0.9\n",
      "get scores: 0.95\n"
     ],
     "output_type": "stream"
    }
   ],
   "source": [
    "# Get scores (mcc, ...) for all thresholds\n",
    "for k,v in threshold_dict.items():\n",
    "    print(f\"get scores: {k}\")\n",
    "    threshold_dict[k] = util.get_scores(v)"
   ],
   "metadata": {
    "collapsed": false,
    "pycharm": {
     "name": "#%%\n",
     "is_executing": false
    }
   }
  },
  {
   "cell_type": "code",
   "execution_count": 6,
   "outputs": [
    {
     "name": "stdout",
     "text": [
      "     n_cell_types n_cells n_controls n_cases        Base    Increase  \\\n",
      "0              12    5000          7       7  416.666667  208.333333   \n",
      "1              12    5000          7       7  416.666667  208.333333   \n",
      "2              12    5000          7       7  416.666667  208.333333   \n",
      "3              12    5000          7       7  416.666667  208.333333   \n",
      "4              12    5000          7       7  416.666667  208.333333   \n",
      "...           ...     ...        ...     ...         ...         ...   \n",
      "8395            9    5000          7       7  555.555556  138.888889   \n",
      "8396            9    5000          7       7  555.555556  138.888889   \n",
      "8397            9    5000          7       7  555.555556  138.888889   \n",
      "8398            9    5000          7       7  555.555556  138.888889   \n",
      "8399            9    5000          7       7  555.555556  138.888889   \n",
      "\n",
      "      log-fold increase                                             b_true  \\\n",
      "0                  0.58  [-2.485, -2.485, -2.485, -2.485, -2.485, -2.48...   \n",
      "1                  0.58  [-2.485, -2.485, -2.485, -2.485, -2.485, -2.48...   \n",
      "2                  0.58  [-2.485, -2.485, -2.485, -2.485, -2.485, -2.48...   \n",
      "3                  0.58  [-2.485, -2.485, -2.485, -2.485, -2.485, -2.48...   \n",
      "4                  0.58  [-2.485, -2.485, -2.485, -2.485, -2.485, -2.48...   \n",
      "...                 ...                                                ...   \n",
      "8395               0.32  [-2.197, -2.197, -2.197, -2.197, -2.197, -2.19...   \n",
      "8396               0.32  [-2.197, -2.197, -2.197, -2.197, -2.197, -2.19...   \n",
      "8397               0.32  [-2.197, -2.197, -2.197, -2.197, -2.197, -2.19...   \n",
      "8398               0.32  [-2.197, -2.197, -2.197, -2.197, -2.197, -2.19...   \n",
      "8399               0.32  [-2.197, -2.197, -2.197, -2.197, -2.197, -2.19...   \n",
      "\n",
      "                                                 w_true  threshold  ... tn fp  \\\n",
      "0     [[0.452, 0.0, 0.0, 0.0, 0.0, 0.0, 0.0, 0.0, 0....        0.3  ...  2  9   \n",
      "1     [[0.452, 0.0, 0.0, 0.0, 0.0, 0.0, 0.0, 0.0, 0....        0.3  ...  2  9   \n",
      "2     [[0.452, 0.0, 0.0, 0.0, 0.0, 0.0, 0.0, 0.0, 0....        0.3  ...  2  9   \n",
      "3     [[0.452, 0.0, 0.0, 0.0, 0.0, 0.0, 0.0, 0.0, 0....        0.3  ...  7  4   \n",
      "4     [[0.452, 0.0, 0.0, 0.0, 0.0, 0.0, 0.0, 0.0, 0....        0.3  ...  8  3   \n",
      "...                                                 ...        ...  ... .. ..   \n",
      "8395  [[0.255, 0.0, 0.0, 0.0, 0.0, 0.0, 0.0, 0.0, 0.0]]        0.3  ...  1  7   \n",
      "8396  [[0.255, 0.0, 0.0, 0.0, 0.0, 0.0, 0.0, 0.0, 0.0]]        0.3  ...  6  2   \n",
      "8397  [[0.255, 0.0, 0.0, 0.0, 0.0, 0.0, 0.0, 0.0, 0.0]]        0.3  ...  5  3   \n",
      "8398  [[0.255, 0.0, 0.0, 0.0, 0.0, 0.0, 0.0, 0.0, 0.0]]        0.3  ...  2  6   \n",
      "8399  [[0.255, 0.0, 0.0, 0.0, 0.0, 0.0, 0.0, 0.0, 0.0]]        0.3  ...  3  5   \n",
      "\n",
      "     fn  tpr       tnr  precision  accuracy    youden  f1_score       mcc  \n",
      "0     0  1.0  0.181818   0.100000  0.250000  0.181818  0.181818  0.134840  \n",
      "1     0  1.0  0.181818   0.100000  0.250000  0.181818  0.181818  0.134840  \n",
      "2     0  1.0  0.181818   0.100000  0.250000  0.181818  0.181818  0.134840  \n",
      "3     0  1.0  0.636364   0.200000  0.666667  0.636364  0.333333  0.356753  \n",
      "4     0  1.0  0.727273   0.250000  0.750000  0.727273  0.400000  0.426401  \n",
      "...  ..  ...       ...        ...       ...       ...       ...       ...  \n",
      "8395  0  1.0  0.125000   0.125000  0.222222  0.125000  0.222222  0.125000  \n",
      "8396  0  1.0  0.750000   0.333333  0.777778  0.750000  0.500000  0.500000  \n",
      "8397  1  0.0  0.625000   0.000000  0.555556 -0.375000  0.000000 -0.250000  \n",
      "8398  0  1.0  0.250000   0.142857  0.333333  0.250000  0.250000  0.188982  \n",
      "8399  0  1.0  0.375000   0.166667  0.444444  0.375000  0.285714  0.250000  \n",
      "\n",
      "[8400 rows x 21 columns]\n"
     ],
     "output_type": "stream"
    }
   ],
   "source": [
    "# Just an example\n",
    "print(threshold_dict[0.3])  "
   ],
   "metadata": {
    "collapsed": false,
    "pycharm": {
     "name": "#%%\n",
     "is_executing": false
    }
   }
  },
  {
   "cell_type": "code",
   "execution_count": 7,
   "outputs": [
    {
     "name": "stdout",
     "text": [
      "       n_cell_types n_cells n_controls n_cases        Base    Increase  \\\n",
      "0                12    5000          7       7  416.666667  208.333333   \n",
      "1                12    5000          7       7  416.666667  208.333333   \n",
      "2                12    5000          7       7  416.666667  208.333333   \n",
      "3                12    5000          7       7  416.666667  208.333333   \n",
      "4                12    5000          7       7  416.666667  208.333333   \n",
      "...             ...     ...        ...     ...         ...         ...   \n",
      "159595            9    5000          7       7  555.555556  138.888889   \n",
      "159596            9    5000          7       7  555.555556  138.888889   \n",
      "159597            9    5000          7       7  555.555556  138.888889   \n",
      "159598            9    5000          7       7  555.555556  138.888889   \n",
      "159599            9    5000          7       7  555.555556  138.888889   \n",
      "\n",
      "        log-fold increase                                             b_true  \\\n",
      "0                    0.58  [-2.485, -2.485, -2.485, -2.485, -2.485, -2.48...   \n",
      "1                    0.58  [-2.485, -2.485, -2.485, -2.485, -2.485, -2.48...   \n",
      "2                    0.58  [-2.485, -2.485, -2.485, -2.485, -2.485, -2.48...   \n",
      "3                    0.58  [-2.485, -2.485, -2.485, -2.485, -2.485, -2.48...   \n",
      "4                    0.58  [-2.485, -2.485, -2.485, -2.485, -2.485, -2.48...   \n",
      "...                   ...                                                ...   \n",
      "159595               0.32  [-2.197, -2.197, -2.197, -2.197, -2.197, -2.19...   \n",
      "159596               0.32  [-2.197, -2.197, -2.197, -2.197, -2.197, -2.19...   \n",
      "159597               0.32  [-2.197, -2.197, -2.197, -2.197, -2.197, -2.19...   \n",
      "159598               0.32  [-2.197, -2.197, -2.197, -2.197, -2.197, -2.19...   \n",
      "159599               0.32  [-2.197, -2.197, -2.197, -2.197, -2.197, -2.19...   \n",
      "\n",
      "                                                   w_true  threshold  ... tn  \\\n",
      "0       [[0.452, 0.0, 0.0, 0.0, 0.0, 0.0, 0.0, 0.0, 0....       0.05  ...  1   \n",
      "1       [[0.452, 0.0, 0.0, 0.0, 0.0, 0.0, 0.0, 0.0, 0....       0.05  ...  1   \n",
      "2       [[0.452, 0.0, 0.0, 0.0, 0.0, 0.0, 0.0, 0.0, 0....       0.05  ...  1   \n",
      "3       [[0.452, 0.0, 0.0, 0.0, 0.0, 0.0, 0.0, 0.0, 0....       0.05  ...  1   \n",
      "4       [[0.452, 0.0, 0.0, 0.0, 0.0, 0.0, 0.0, 0.0, 0....       0.05  ...  1   \n",
      "...                                                   ...        ...  ... ..   \n",
      "159595  [[0.255, 0.0, 0.0, 0.0, 0.0, 0.0, 0.0, 0.0, 0.0]]       0.95  ...  8   \n",
      "159596  [[0.255, 0.0, 0.0, 0.0, 0.0, 0.0, 0.0, 0.0, 0.0]]       0.95  ...  8   \n",
      "159597  [[0.255, 0.0, 0.0, 0.0, 0.0, 0.0, 0.0, 0.0, 0.0]]       0.95  ...  5   \n",
      "159598  [[0.255, 0.0, 0.0, 0.0, 0.0, 0.0, 0.0, 0.0, 0.0]]       0.95  ...  8   \n",
      "159599  [[0.255, 0.0, 0.0, 0.0, 0.0, 0.0, 0.0, 0.0, 0.0]]       0.95  ...  8   \n",
      "\n",
      "        fp fn  tpr       tnr  precision  accuracy    youden  f1_score  \\\n",
      "0       10  0  1.0  0.090909   0.090909  0.166667  0.090909  0.166667   \n",
      "1       10  0  1.0  0.090909   0.090909  0.166667  0.090909  0.166667   \n",
      "2       10  0  1.0  0.090909   0.090909  0.166667  0.090909  0.166667   \n",
      "3       10  0  1.0  0.090909   0.090909  0.166667  0.090909  0.166667   \n",
      "4       10  0  1.0  0.090909   0.090909  0.166667  0.090909  0.166667   \n",
      "...     .. ..  ...       ...        ...       ...       ...       ...   \n",
      "159595   0  1  0.0  1.000000   0.000000  0.888889  0.000000  0.000000   \n",
      "159596   0  1  0.0  1.000000   0.000000  0.888889  0.000000  0.000000   \n",
      "159597   3  1  0.0  0.625000   0.000000  0.555556 -0.375000  0.000000   \n",
      "159598   0  1  0.0  1.000000   0.000000  0.888889  0.000000  0.000000   \n",
      "159599   0  1  0.0  1.000000   0.000000  0.888889  0.000000  0.000000   \n",
      "\n",
      "             mcc  \n",
      "0       0.090909  \n",
      "1       0.090909  \n",
      "2       0.090909  \n",
      "3       0.090909  \n",
      "4       0.090909  \n",
      "...          ...  \n",
      "159595  0.000000  \n",
      "159596  0.000000  \n",
      "159597 -0.250000  \n",
      "159598  0.000000  \n",
      "159599  0.000000  \n",
      "\n",
      "[159600 rows x 21 columns]\n"
     ],
     "output_type": "stream"
    }
   ],
   "source": [
    "# Join all thresholds into one DataFrame\n",
    "total_df = pd.concat(threshold_dict.values(), ignore_index=True)\n",
    "print(total_df)"
   ],
   "metadata": {
    "collapsed": false,
    "pycharm": {
     "name": "#%%\n",
     "is_executing": false
    }
   }
  },
  {
   "cell_type": "markdown",
   "source": [
    "Plotting...\n",
    "\n",
    "It is immediately apparent that the optimal threshold (in terms of MCC) depends on the number of cell types.\n",
    "The blue line showes the optimal threshold function (determination see below)"
   ],
   "metadata": {
    "collapsed": false,
    "pycharm": {
     "name": "#%% md\n"
    }
   }
  },
  {
   "cell_type": "code",
   "execution_count": 8,
   "outputs": [
    {
     "name": "stdout",
     "text": [
      "[2, 3, 4, 5, 6, 7, 8, 9, 10, 11, 12, 13, 14, 15]\n",
      "[0.15854293 0.31295318 0.405      0.46781582 0.51418453 0.55022228\n",
      " 0.57927147 0.60333333 0.62368896 0.6412015  0.65647659 0.66995338\n",
      " 0.68195912 0.69274332]\n"
     ],
     "output_type": "stream"
    },
    {
     "data": {
      "text/plain": "<Figure size 432x288 with 2 Axes>",
      "image/png": "[encoded data removed]"
     },
     "metadata": {
      "needs_background": "light"
     },
     "output_type": "display_data"
    }
   ],
   "source": [
    "plot_df_mcc = total_df.groupby([\"n_cell_types\", \"threshold\"]).agg({\"mcc\": \"mean\"}).unstack(level=0)\n",
    "plot_df_mcc.columns = plot_df_mcc.columns.droplevel(0)\n",
    "\n",
    "ax = sns.heatmap(data=plot_df_mcc, vmin=-1, vmax=1)\n",
    "ax.invert_yaxis()\n",
    "\n",
    "xs = [x+2 for x in range(14)]\n",
    "ys = 1 - (1.19/np.sqrt(xs))\n",
    "print(xs)\n",
    "print(ys)\n",
    "plt.plot([x+0.5 for x in range(14)], ys*19)\n",
    "\n",
    "plt.xlabel(\"# of cell types\")\n",
    "plt.title(\"Matthews correlation coefficient\")\n",
    "\n",
    "plt.show()"
   ],
   "metadata": {
    "collapsed": false,
    "pycharm": {
     "name": "#%%\n",
     "is_executing": false
    }
   }
  },
  {
   "cell_type": "markdown",
   "source": [
    "True positive rate: The higher the threshold, the less likely we are to capture the effect on the first cell type correctly"
   ],
   "metadata": {
    "collapsed": false
   }
  },
  {
   "cell_type": "code",
   "execution_count": 9,
   "outputs": [
    {
     "data": {
      "text/plain": "<Figure size 432x288 with 2 Axes>",
      "image/png": "[encoded data removed]"
     },
     "metadata": {
      "needs_background": "light"
     },
     "output_type": "display_data"
    }
   ],
   "source": [
    "plot_df_tpr = total_df.groupby([\"n_cell_types\", \"threshold\"]).agg({\"tpr\": \"mean\"}).unstack(level=0)\n",
    "plot_df_tpr.columns = plot_df_tpr.columns.droplevel(0)\n",
    "\n",
    "ax = sns.heatmap(data=plot_df_tpr, vmin=0, vmax=1)\n",
    "ax.invert_yaxis()\n",
    "\n",
    "plt.xlabel(\"# of cell types\")\n",
    "plt.title(\"True positive rate\")\n",
    "\n",
    "plt.show()"
   ],
   "metadata": {
    "collapsed": false,
    "pycharm": {
     "name": "#%%\n",
     "is_executing": false
    }
   }
  },
  {
   "cell_type": "markdown",
   "source": [
    "True negative rate: The lower the threshold, the more likely we are to falsely assess an effect on one of the other cell types (2...K)\n",
    "\n",
    "K=2 is an edge case, since we set the baseline to the only cell type without an effect, therefore gaining perfect TNR"
   ],
   "metadata": {
    "collapsed": false
   }
  },
  {
   "cell_type": "code",
   "execution_count": 10,
   "outputs": [
    {
     "data": {
      "text/plain": "<Figure size 432x288 with 2 Axes>",
      "image/png": "[encoded data removed]"
     },
     "metadata": {
      "needs_background": "light"
     },
     "output_type": "display_data"
    }
   ],
   "source": [
    "plot_df_tnr = total_df.groupby([\"n_cell_types\", \"threshold\"]).agg({\"tnr\": \"mean\"}).unstack(level=0)\n",
    "plot_df_tnr.columns = plot_df_tnr.columns.droplevel(0)\n",
    "\n",
    "ax = sns.heatmap(data=plot_df_tnr, vmin=0, vmax=1)\n",
    "ax.invert_yaxis()\n",
    "\n",
    "plt.xlabel(\"# of cell types\")\n",
    "plt.title(\"True negative rate\")\n",
    "\n",
    "plt.show()"
   ],
   "metadata": {
    "collapsed": false,
    "pycharm": {
     "name": "#%%\n",
     "is_executing": false
    }
   }
  },
  {
   "cell_type": "markdown",
   "source": [
    "Now determine the optimal threshold function. We suppose that the function has to be of the form $$t = 1-(c/\\sqrt{K})$$.\n",
    "\n",
    "To find the optimal value for c, we calculate the average MCC for every combination of threshold and K from our benchmark data.\n",
    "For every c in $$ \\{ 0.8, 0.81, \\ldots 1.3 \\} $$, we determine the threshold t from the function above.\n",
    "We then get the expected MCC by interpolating our benchmark results for t. \n",
    "Finally, we determine the optimal c by comparing the sum of squared MCCs (over all K)."
   ],
   "metadata": {
    "collapsed": false,
    "pycharm": {
     "name": "#%% md\n"
    }
   }
  },
  {
   "cell_type": "code",
   "execution_count": 11,
   "outputs": [],
   "source": [
    "# Grouping of results and interpolaion function\n",
    "int_df = total_df.groupby([\"n_cell_types\", \"threshold\"]).agg({\"mcc\": \"mean\"})\n",
    "\n",
    "def interpolate_mcc(thresh, k, int_df):\n",
    "    residual = (thresh%0.05)\n",
    "    low_005 = np.round(thresh - residual, 2)\n",
    "    \n",
    "    low_mcc = int_df.loc[(k, low_005), :]\n",
    "    high_mcc = int_df.loc[(k, np.round(low_005 + 0.05, 2)), :]\n",
    "    \n",
    "    miss = (high_mcc - low_mcc) * (residual/0.05)\n",
    "    return (low_mcc + miss).values[0]"
   ],
   "metadata": {
    "collapsed": false,
    "pycharm": {
     "name": "#%%\n",
     "is_executing": false
    }
   }
  },
  {
   "cell_type": "code",
   "execution_count": 12,
   "outputs": [
    {
     "name": "stdout",
     "text": [
      "[5.920364272541862, 5.94455270315586, 5.968801482614278, 5.993037928368255, 6.016543821969279, 6.040057825977338, 6.062979003423546, 6.084817777882263, 6.106514501039172, 6.128260451818424, 6.149957217866675, 6.172266778851421, 6.194634314547956, 6.216118183535719, 6.237663281855191, 6.259205789040731, 6.277280799822199, 6.294541906348459, 6.311448852128662, 6.3267650090711935, 6.342626621626243, 6.354915040923122, 6.365731411190829, 6.376578274593937, 6.387406169119676, 6.397665618442721, 6.405728698282824, 6.413755978983697, 6.421766876176785, 6.429375661459267, 6.436914273687698, 6.444047896410611, 6.451097603945598, 6.455962250261327, 6.458735001944238, 6.4613601948764705, 6.463999218187799, 6.465364162523434, 6.466576777190851, 6.467802810367157, 6.4664533205405474, 6.464574208153573, 6.458178999326409, 6.449973163094866, 6.440740241114023, 6.431577240478104, 6.422484161187108, 6.410741115388313, 6.396643661337025, 6.382334910330622]\n"
     ],
     "output_type": "stream"
    }
   ],
   "source": [
    "# Do interpolation and make sum of squares\n",
    "cs = np.round(np.arange(0.8, 1.3, 0.01), 2)\n",
    "ks = [x+2 for x in range(14)]\n",
    "\n",
    "ssq_mccs = []\n",
    "\n",
    "for c in cs:\n",
    "    ys = 1 - (c/np.sqrt(ks))\n",
    "    mccs = []\n",
    "    for i in range(14):\n",
    "        mccs.append(interpolate_mcc(ys[i], ks[i], int_df))\n",
    "    \n",
    "    ssq = np.sum([m**2 for m in mccs])\n",
    "    ssq_mccs.append(ssq)\n",
    "    \n",
    "print(ssq_mccs)"
   ],
   "metadata": {
    "collapsed": false,
    "pycharm": {
     "name": "#%%\n",
     "is_executing": false
    }
   }
  },
  {
   "cell_type": "markdown",
   "source": [
    "Optimal threshold: $$ c=1.19 $$"
   ],
   "metadata": {
    "collapsed": false,
    "pycharm": {
     "name": "#%% md\n"
    }
   }
  },
  {
   "cell_type": "code",
   "execution_count": 13,
   "outputs": [
    {
     "name": "stdout",
     "text": [
      "1.19\n"
     ],
     "output_type": "stream"
    }
   ],
   "source": [
    "# Get maximum\n",
    "max_c = cs[ssq_mccs.index(np.max(ssq_mccs))]\n",
    "print(max_c)"
   ],
   "metadata": {
    "collapsed": false,
    "pycharm": {
     "name": "#%%\n",
     "is_executing": false
    }
   }
  },
  {
   "cell_type": "markdown",
   "source": [
    "Plot for supplement"
   ],
   "metadata": {
    "collapsed": false,
    "pycharm": {
     "name": "#%% md\n"
    }
   }
  },
  {
   "cell_type": "code",
   "execution_count": 20,
   "outputs": [
    {
     "data": {
      "text/plain": "<Figure size 432x288 with 1 Axes>",
      "image/png": "[encoded data removed]"
     },
     "metadata": {
      "needs_background": "light"
     },
     "output_type": "display_data"
    }
   ],
   "source": [
    "plt.plot(cs, ssq_mccs, color=\"orange\")\n",
    "plt.axvline(1.19, color=\"black\")\n",
    "plt.text(x=1.12, y=6.1, s=\"c=1.19\")\n",
    "plt.xlabel(\"c\")\n",
    "plt.ylabel(\"SSQ mcc\")\n",
    "plt.show()\n"
   ],
   "metadata": {
    "collapsed": false,
    "pycharm": {
     "name": "#%%\n",
     "is_executing": false
    }
   }
  }
 ],
 "metadata": {
  "kernelspec": {
   "name": "pycharm-6bf36ab6",
   "language": "python",
   "display_name": "PyCharm (SCDCdm_public)"
  },
  "language_info": {
   "codemirror_mode": {
    "name": "ipython",
    "version": 2
   },
   "file_extension": ".py",
   "mimetype": "text/x-python",
   "name": "python",
   "nbconvert_exporter": "python",
   "pygments_lexer": "ipython2",
   "version": "2.7.6"
  },
  "pycharm": {
   "stem_cell": {
    "cell_type": "raw",
    "source": [],
    "metadata": {
     "collapsed": false
    }
   }
  }
 },
 "nbformat": 4,
 "nbformat_minor": 0
}