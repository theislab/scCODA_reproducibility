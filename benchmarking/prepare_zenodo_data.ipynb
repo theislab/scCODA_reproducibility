{
 "cells": [
  {
   "cell_type": "markdown",
   "metadata": {
    "collapsed": true,
    "pycharm": {
     "name": "#%% md\n"
    }
   },
   "source": [
    "# Get data converted for storing\n",
    "\n",
    "Most of the benchmarking data and results are generated using pickle.\n",
    "Since pickle requires the python environment to be exactly the same, we convert our data to csv/h5ad data."
   ]
  },
  {
   "cell_type": "code",
   "execution_count": 1,
   "outputs": [],
   "source": [
    "import pandas as pd\n",
    "import pickle as pkl\n",
    "import os\n",
    "import anndata as ad\n",
    "import warnings\n",
    "import importlib\n",
    "import re\n",
    "import numpy as np\n",
    "\n",
    "warnings.filterwarnings(\"ignore\", category=FutureWarning)\n",
    "\n",
    "import to_from_pickle as util"
   ],
   "metadata": {
    "collapsed": false,
    "pycharm": {
     "name": "#%%\n"
    }
   }
  },
  {
   "cell_type": "markdown",
   "source": [
    "## Model comparison benchmark\n",
    "\n",
    "We first convert the generated datasets"
   ],
   "metadata": {
    "collapsed": false,
    "pycharm": {
     "name": "#%% md\n"
    }
   }
  },
  {
   "cell_type": "code",
   "execution_count": 2,
   "outputs": [
    {
     "name": "stderr",
     "output_type": "stream",
     "text": [
      "Observation names are not unique. To make them unique, call `.obs_names_make_unique`.\n"
     ]
    }
   ],
   "source": [
    "data_path = os.path.realpath(\"../../sccoda_benchmark_data_review/model_comparison/generated_datasets_model_comparison/\") + \"/\"\n",
    "\n",
    "result_path = os.path.realpath(\"../../sccoda_benchmark_data_review/model_comparison/model_comparison_results/\") + \"/\"\n",
    "\n",
    "out_path = os.path.realpath(\"../../sccoda_benchmark_data_review/model_comparison/zenodo_data/\") + \"/\"\n",
    "\n",
    "util.benchmark_datasets_to_csv(data_path, out_path)\n",
    "util.model_comparison_to_csv(result_path, out_path)"
   ],
   "metadata": {
    "collapsed": false,
    "pycharm": {
     "name": "#%%\n"
    }
   }
  },
  {
   "cell_type": "markdown",
   "source": [
    "## Overall benchmark"
   ],
   "metadata": {
    "collapsed": false,
    "pycharm": {
     "name": "#%% md\n"
    }
   }
  },
  {
   "cell_type": "code",
   "execution_count": 3,
   "outputs": [
    {
     "name": "stderr",
     "output_type": "stream",
     "text": [
      "Observation names are not unique. To make them unique, call `.obs_names_make_unique`.\n"
     ]
    }
   ],
   "source": [
    "data_path = os.path.realpath(\"../../sccoda_benchmark_data_review/overall_benchmark_review/generated_datasets_overall_benchmark/\") + \"/\"\n",
    "\n",
    "result_path = os.path.realpath(\"../../sccoda_benchmark_data_review/overall_benchmark_review/overall_benchmark_results/\") + \"/\"\n",
    "\n",
    "out_path = os.path.realpath(\"../../sccoda_benchmark_data_review/overall_benchmark_review/zenodo_data/\") + \"/\"\n",
    "\n",
    "util.benchmark_datasets_to_csv(data_path, out_path)\n",
    "util.model_comparison_to_csv(result_path, out_path)"
   ],
   "metadata": {
    "collapsed": false,
    "pycharm": {
     "name": "#%%\n"
    }
   }
  },
  {
   "cell_type": "markdown",
   "source": [
    "## Heterogeneous response benchmark"
   ],
   "metadata": {
    "collapsed": false
   }
  },
  {
   "cell_type": "code",
   "execution_count": 2,
   "outputs": [
    {
     "name": "stderr",
     "output_type": "stream",
     "text": [
      "Observation names are not unique. To make them unique, call `.obs_names_make_unique`.\n"
     ]
    }
   ],
   "source": [
    "data_path = os.path.realpath(\"../../other_data/sparsity_test/generated_datasets_model_sparsity_test/\") + \"/\"\n",
    "\n",
    "result_path = os.path.realpath(\"../../other_data/sparsity_test/model_sparsity_2/\") + \"/\"\n",
    "\n",
    "out_path = os.path.realpath(\"../../other_data/sparsity_test/\") + \"/\"\n",
    "\n",
    "util.benchmark_datasets_to_csv(data_path, out_path)\n",
    "util.model_comparison_to_csv(result_path, out_path)"
   ],
   "metadata": {
    "collapsed": false,
    "pycharm": {
     "name": "#%%\n"
    }
   }
  },
  {
   "cell_type": "code",
   "execution_count": null,
   "outputs": [],
   "source": [],
   "metadata": {
    "collapsed": false,
    "pycharm": {
     "name": "#%%\n"
    }
   }
  }
 ],
 "metadata": {
  "kernelspec": {
   "display_name": "Python 3",
   "language": "python",
   "name": "python3"
  },
  "language_info": {
   "codemirror_mode": {
    "name": "ipython",
    "version": 2
   },
   "file_extension": ".py",
   "mimetype": "text/x-python",
   "name": "python",
   "nbconvert_exporter": "python",
   "pygments_lexer": "ipython2",
   "version": "2.7.6"
  }
 },
 "nbformat": 4,
 "nbformat_minor": 0
}