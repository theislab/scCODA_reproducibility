{
 "cells": [
  {
   "cell_type": "markdown",
   "metadata": {
    "collapsed": true,
    "pycharm": {
     "name": "#%% md\n"
    }
   },
   "source": [
    "# Credible intervals for scCODA\n",
    "\n",
    "We want to place credible intervals on the effects in scCODA. Since we have spike-and-slab priors, this is not straightforward.\n",
    "The relevant part of the model is as follows:\n",
    "\n",
    "$\n",
    "\\begin{align*}\n",
    "\\beta_{d, \\hat{k}} &= 0 & \\forall d \\in [D]\\\\\n",
    "\\beta_{d, k} &= \\tau_{d, k} \\tilde{\\beta}_{d, k} \\quad & \\forall d \\in [D], k \\in \\{[K] \\smallsetminus \\hat{k}\\} \\\\\n",
    "\\tau_{d, k} &= \\frac{\\exp(t_{d, k})}{1+ \\exp(t_{d, k})} \\quad & \\forall d \\in [D], k \\in \\{[K] \\smallsetminus \\hat{k}\\} \\\\\n",
    "\\frac{t_{d, k}}{50} &\\sim N(0, 1) \\quad & \\forall d \\in [D], k \\in \\{[K] \\smallsetminus \\hat{k}\\} \\\\\n",
    "\\end{align*}\n",
    "$\n",
    "\n",
    "There are two methods for credible intervals on $\\beta$ that we want to try out:"
   ]
  },
  {
   "cell_type": "markdown",
   "source": [
    "**1. Interval of proposed effect**\n",
    "\n",
    "We simply take the interval of the effect before applying the spike-and-slab prior, $\\tilde{\\beta}$\n",
    "\n",
    "$HDI(\\beta) \\approx HDI(\\tilde{\\beta})$\n",
    "\n",
    "**2. Interval over nonzero effects**\n",
    "\n",
    "For effects that are considered credibly different from 0, we build the confidence interval over all \"slab\" MCMC samples:\n",
    "\n",
    "$HDI(\\beta) := HDI(\\beta_m | \\tau_m > 0)$"
   ],
   "metadata": {
    "collapsed": false,
    "pycharm": {
     "name": "#%% md\n"
    }
   }
  },
  {
   "cell_type": "code",
   "execution_count": 1,
   "outputs": [],
   "source": [
    "# Setup\n",
    "\n",
    "# Setup\n",
    "import numpy as np\n",
    "import pandas as pd\n",
    "import matplotlib.pyplot as plt\n",
    "import seaborn as sns\n",
    "import importlib\n",
    "import pickle as pkl\n",
    "import os\n",
    "import anndata as ad\n",
    "import arviz as az\n",
    "\n",
    "from sccoda.util import comp_ana as mod\n",
    "from sccoda.util import result_classes as res\n",
    "\n",
    "pd.set_option('display.max_columns', None)"
   ],
   "metadata": {
    "collapsed": false,
    "pycharm": {
     "name": "#%%\n"
    }
   }
  },
  {
   "cell_type": "markdown",
   "source": [
    "## Get some model and result: Smillie LP healthy vs. non-inflamed\n"
   ],
   "metadata": {
    "collapsed": false,
    "pycharm": {
     "name": "#%% md\n"
    }
   }
  },
  {
   "cell_type": "code",
   "execution_count": 2,
   "outputs": [
    {
     "name": "stderr",
     "output_type": "stream",
     "text": [
      "/Users/johannes.ostner/opt/anaconda3/envs/scCODA_2/lib/python3.8/site-packages/pandas/core/arrays/categorical.py:2487: FutureWarning: The `inplace` parameter in pandas.Categorical.remove_unused_categories is deprecated and will be removed in a future version.\n",
      "  res = method(*args, **kwargs)\n",
      "Trying to set attribute `.X` of view, copying.\n",
      "/Users/johannes.ostner/Documents/PhD/scCODA/scCODA/sccoda/util/result_classes.py:249: RuntimeWarning: Mean of empty slice.\n",
      "  beta_nonzero_mean.append(beta_i_raw[beta_i_raw_nonzero].mean())\n",
      "/Users/johannes.ostner/opt/anaconda3/envs/scCODA_2/lib/python3.8/site-packages/numpy/core/_methods.py:161: RuntimeWarning: invalid value encountered in double_scalars\n",
      "  ret = ret.dtype.type(ret / rcount)\n"
     ]
    },
    {
     "name": "stdout",
     "output_type": "stream",
     "text": [
      "Zero counts encountered in data! Added a pseudocount of 0.5.\n",
      "MCMC sampling finished. (64.827 sec)\n",
      "Acceptance rate: 58.1%\n",
      "Compositional Analysis summary (extended):\n",
      "\n",
      "Data: 48 samples, 37 cell types\n",
      "Reference index: 6\n",
      "Formula: Health\n",
      "Spike-and-slab threshold: 0.788\n",
      "\n",
      "MCMC Sampling: Sampled 20000 chain states (5000 burnin samples) in 64.827 sec. Acceptance rate: 58.1%\n",
      "\n",
      "Intercepts:\n",
      "                          Final Parameter  HDI 3%  HDI 97%     SD  \\\n",
      "Cell Type                                                           \n",
      "CD4+ Activated Fos-hi               1.217   0.984    1.460  0.130   \n",
      "CD4+ Activated Fos-lo               1.268   1.028    1.518  0.135   \n",
      "CD4+ Memory                         0.816   0.542    1.101  0.158   \n",
      "CD4+ PD1+                          -1.581  -2.040   -1.110  0.250   \n",
      "CD69+ Mast                          0.220  -0.042    0.458  0.132   \n",
      "CD69- Mast                         -3.584  -4.531   -2.641  0.515   \n",
      "CD8+ IELs                          -0.670  -0.936   -0.428  0.136   \n",
      "CD8+ IL17+                         -1.406  -1.872   -0.932  0.259   \n",
      "CD8+ LP                             1.263   1.053    1.533  0.128   \n",
      "Cycling B                          -0.767  -1.157   -0.357  0.212   \n",
      "Cycling Monocytes                  -0.743  -1.110   -0.369  0.204   \n",
      "Cycling T                          -0.994  -1.343   -0.600  0.202   \n",
      "DC1                                -0.966  -1.373   -0.541  0.231   \n",
      "DC2                                 0.046  -0.322    0.387  0.195   \n",
      "Endothelial                        -0.240  -0.488    0.049  0.142   \n",
      "Epithelial                          0.702   0.456    0.980  0.144   \n",
      "Follicular                          0.408   0.070    0.750  0.192   \n",
      "GC                                 -1.687  -2.262   -1.190  0.294   \n",
      "Glia                               -0.304  -0.708    0.051  0.207   \n",
      "ILCs                               -0.975  -1.349   -0.541  0.224   \n",
      "Inflammatory Fibroblasts           -1.966  -2.550   -1.447  0.299   \n",
      "Inflammatory Monocytes             -0.979  -1.368   -0.561  0.223   \n",
      "MT-hi                              -1.090  -1.485   -0.665  0.220   \n",
      "Macrophages                         1.231   0.977    1.471  0.132   \n",
      "Microvascular                      -0.446  -0.851   -0.042  0.218   \n",
      "Myofibroblasts                     -0.413  -0.678   -0.125  0.146   \n",
      "NKs                                -0.331  -0.735    0.060  0.226   \n",
      "Pericytes                          -1.099  -1.523   -0.759  0.210   \n",
      "Plasma                              3.175   3.032    3.355  0.085   \n",
      "Post-capillary Venules             -0.338  -0.600   -0.080  0.137   \n",
      "RSPO3+                             -1.056  -1.476   -0.651  0.224   \n",
      "Tregs                               0.232  -0.087    0.533  0.171   \n",
      "WNT2B+ Fos-hi                       0.453   0.159    0.728  0.152   \n",
      "WNT2B+ Fos-lo 1                     0.823   0.550    1.099  0.152   \n",
      "WNT2B+ Fos-lo 2                     0.111  -0.178    0.422  0.161   \n",
      "WNT5B+ 1                            0.177  -0.109    0.500  0.164   \n",
      "WNT5B+ 2                            0.469   0.128    0.743  0.168   \n",
      "\n",
      "                          Expected Sample  \n",
      "Cell Type                                  \n",
      "CD4+ Activated Fos-hi          173.598545  \n",
      "CD4+ Activated Fos-lo          182.681723  \n",
      "CD4+ Memory                    116.250276  \n",
      "CD4+ PD1+                       10.577673  \n",
      "CD69+ Mast                      64.055213  \n",
      "CD69- Mast                       1.427244  \n",
      "CD8+ IELs                       26.304642  \n",
      "CD8+ IL17+                      12.600612  \n",
      "CD8+ LP                        181.770594  \n",
      "Cycling B                       23.872936  \n",
      "Cycling Monocytes               24.452817  \n",
      "Cycling T                       19.024839  \n",
      "DC1                             19.565062  \n",
      "DC2                             53.825397  \n",
      "Endothelial                     40.437009  \n",
      "Epithelial                     103.725234  \n",
      "Follicular                      77.303978  \n",
      "GC                               9.513819  \n",
      "Glia                            37.930116  \n",
      "ILCs                            19.389766  \n",
      "Inflammatory Fibroblasts         7.197584  \n",
      "Inflammatory Monocytes          19.312362  \n",
      "MT-hi                           17.283381  \n",
      "Macrophages                    176.046017  \n",
      "Microvascular                   32.908975  \n",
      "Myofibroblasts                  34.013089  \n",
      "NKs                             36.919705  \n",
      "Pericytes                       17.128529  \n",
      "Plasma                        1229.970445  \n",
      "Post-capillary Venules          36.662169  \n",
      "RSPO3+                          17.881120  \n",
      "Tregs                           64.828506  \n",
      "WNT2B+ Fos-hi                   80.862115  \n",
      "WNT2B+ Fos-lo 1                117.066883  \n",
      "WNT2B+ Fos-lo 2                 57.440258  \n",
      "WNT5B+ 1                        61.359218  \n",
      "WNT5B+ 2                        82.166315  \n",
      "\n",
      "\n",
      "Effects:\n",
      "                                                 Final Parameter  HDI 3%  \\\n",
      "Covariate              Cell Type                                           \n",
      "Health[T.Non-inflamed] CD4+ Activated Fos-hi           -0.725880  -1.122   \n",
      "                       CD4+ Activated Fos-lo           -1.086155  -1.441   \n",
      "                       CD4+ Memory                      0.000000  -0.725   \n",
      "                       CD4+ PD1+                       -1.043098  -1.790   \n",
      "                       CD69+ Mast                       0.000000  -0.619   \n",
      "                       CD69- Mast                       0.000000  -1.608   \n",
      "                       CD8+ IELs                        0.000000   0.000   \n",
      "                       CD8+ IL17+                       0.000000  -1.154   \n",
      "                       CD8+ LP                         -0.754157  -1.150   \n",
      "                       Cycling B                       -0.841203  -1.439   \n",
      "                       Cycling Monocytes               -0.867616  -1.364   \n",
      "                       Cycling T                       -0.979012  -1.562   \n",
      "                       DC1                              0.000000  -1.131   \n",
      "                       DC2                             -0.576879  -1.096   \n",
      "                       Endothelial                      0.000000  -0.517   \n",
      "                       Epithelial                       0.791797   0.435   \n",
      "                       Follicular                      -0.541159  -1.010   \n",
      "                       GC                              -0.993355  -1.804   \n",
      "                       Glia                            -0.557508  -1.031   \n",
      "                       ILCs                             0.000000  -1.011   \n",
      "                       Inflammatory Fibroblasts         0.000000  -0.197   \n",
      "                       Inflammatory Monocytes           0.000000  -0.992   \n",
      "                       MT-hi                           -1.300133  -1.952   \n",
      "                       Macrophages                     -0.679864  -1.037   \n",
      "                       Microvascular                   -0.604716  -1.098   \n",
      "                       Myofibroblasts                   0.000000  -0.557   \n",
      "                       NKs                              0.000000  -1.054   \n",
      "                       Pericytes                        0.000000  -0.103   \n",
      "                       Plasma                          -1.007126  -1.255   \n",
      "                       Post-capillary Venules           0.000000  -0.513   \n",
      "                       RSPO3+                           0.000000  -0.999   \n",
      "                       Tregs                            0.000000  -0.776   \n",
      "                       WNT2B+ Fos-hi                   -0.622920  -1.067   \n",
      "                       WNT2B+ Fos-lo 1                 -0.669383  -1.070   \n",
      "                       WNT2B+ Fos-lo 2                  0.000000  -0.781   \n",
      "                       WNT5B+ 1                        -0.754713  -1.216   \n",
      "                       WNT5B+ 2                        -0.558405  -1.010   \n",
      "\n",
      "                                                 HDI 97%     SD  \\\n",
      "Covariate              Cell Type                                  \n",
      "Health[T.Non-inflamed] CD4+ Activated Fos-hi      -0.389  0.204   \n",
      "                       CD4+ Activated Fos-lo      -0.676  0.205   \n",
      "                       CD4+ Memory                 0.036  0.244   \n",
      "                       CD4+ PD1+                  -0.357  0.403   \n",
      "                       CD69+ Mast                  0.133  0.145   \n",
      "                       CD69- Mast                  0.513  0.528   \n",
      "                       CD8+ IELs                   0.000  0.000   \n",
      "                       CD8+ IL17+                  0.014  0.371   \n",
      "                       CD8+ LP                    -0.430  0.206   \n",
      "                       Cycling B                  -0.306  0.341   \n",
      "                       Cycling Monocytes          -0.177  0.315   \n",
      "                       Cycling T                  -0.365  0.321   \n",
      "                       DC1                         0.020  0.376   \n",
      "                       DC2                        -0.136  0.302   \n",
      "                       Endothelial                 0.264  0.121   \n",
      "                       Epithelial                  1.109  0.183   \n",
      "                       Follicular                 -0.116  0.304   \n",
      "                       GC                         -0.217  0.468   \n",
      "                       Glia                       -0.077  0.312   \n",
      "                       ILCs                        0.067  0.333   \n",
      "                       Inflammatory Fibroblasts    1.186  0.366   \n",
      "                       Inflammatory Monocytes      0.084  0.332   \n",
      "                       MT-hi                      -0.592  0.366   \n",
      "                       Macrophages                -0.341  0.205   \n",
      "                       Microvascular              -0.076  0.330   \n",
      "                       Myofibroblasts              0.313  0.143   \n",
      "                       NKs                         0.013  0.358   \n",
      "                       Pericytes                   0.937  0.247   \n",
      "                       Plasma                     -0.779  0.129   \n",
      "                       Post-capillary Venules      0.345  0.131   \n",
      "                       RSPO3+                      0.079  0.336   \n",
      "                       Tregs                       0.049  0.257   \n",
      "                       WNT2B+ Fos-hi              -0.202  0.238   \n",
      "                       WNT2B+ Fos-lo 1            -0.277  0.222   \n",
      "                       WNT2B+ Fos-lo 2             0.049  0.232   \n",
      "                       WNT5B+ 1                   -0.333  0.245   \n",
      "                       WNT5B+ 2                   -0.128  0.258   \n",
      "\n",
      "                                                 Inclusion probability  \\\n",
      "Covariate              Cell Type                                         \n",
      "Health[T.Non-inflamed] CD4+ Activated Fos-hi                  0.991733   \n",
      "                       CD4+ Activated Fos-lo                  1.000000   \n",
      "                       CD4+ Memory                            0.660600   \n",
      "                       CD4+ PD1+                              0.986200   \n",
      "                       CD69+ Mast                             0.339400   \n",
      "                       CD69- Mast                             0.603533   \n",
      "                       CD8+ IELs                              0.000000   \n",
      "                       CD8+ IL17+                             0.724600   \n",
      "                       CD8+ LP                                0.992133   \n",
      "                       Cycling B                              0.956467   \n",
      "                       Cycling Monocytes                      0.995933   \n",
      "                       Cycling T                              0.999933   \n",
      "                       DC1                                    0.718667   \n",
      "                       DC2                                    0.861067   \n",
      "                       Endothelial                            0.280733   \n",
      "                       Epithelial                             1.000000   \n",
      "                       Follicular                             0.788133   \n",
      "                       GC                                     0.939600   \n",
      "                       Glia                                   0.830333   \n",
      "                       ILCs                                   0.607467   \n",
      "                       Inflammatory Fibroblasts               0.531467   \n",
      "                       Inflammatory Monocytes                 0.620200   \n",
      "                       MT-hi                                  1.000000   \n",
      "                       Macrophages                            0.981600   \n",
      "                       Microvascular                          0.828133   \n",
      "                       Myofibroblasts                         0.346933   \n",
      "                       NKs                                    0.783933   \n",
      "                       Pericytes                              0.402533   \n",
      "                       Plasma                                 1.000000   \n",
      "                       Post-capillary Venules                 0.307333   \n",
      "                       RSPO3+                                 0.618667   \n",
      "                       Tregs                                  0.676600   \n",
      "                       WNT2B+ Fos-hi                          0.991867   \n",
      "                       WNT2B+ Fos-lo 1                        0.983333   \n",
      "                       WNT2B+ Fos-lo 2                        0.455867   \n",
      "                       WNT5B+ 1                               0.991733   \n",
      "                       WNT5B+ 2                               0.947067   \n",
      "\n",
      "                                                 Expected Sample  \\\n",
      "Covariate              Cell Type                                   \n",
      "Health[T.Non-inflamed] CD4+ Activated Fos-hi          143.546695   \n",
      "                       CD4+ Activated Fos-lo          105.360282   \n",
      "                       CD4+ Memory                    198.649255   \n",
      "                       CD4+ PD1+                        6.369002   \n",
      "                       CD69+ Mast                     109.457980   \n",
      "                       CD69- Mast                       2.438884   \n",
      "                       CD8+ IELs                       44.949549   \n",
      "                       CD8+ IL17+                      21.532011   \n",
      "                       CD8+ LP                        146.113511   \n",
      "                       Cycling B                       17.590127   \n",
      "                       Cycling Monocytes               17.547740   \n",
      "                       Cycling T                       12.213344   \n",
      "                       DC1                             33.432910   \n",
      "                       DC2                             51.658844   \n",
      "                       Endothelial                     69.099033   \n",
      "                       Epithelial                     391.246655   \n",
      "                       Follicular                      76.890420   \n",
      "                       GC                               6.020593   \n",
      "                       Glia                            37.115431   \n",
      "                       ILCs                            33.133363   \n",
      "                       Inflammatory Fibroblasts        12.299280   \n",
      "                       Inflammatory Monocytes          33.001095   \n",
      "                       MT-hi                            8.047869   \n",
      "                       Macrophages                    152.425678   \n",
      "                       Microvascular                   30.717264   \n",
      "                       Myofibroblasts                  58.121795   \n",
      "                       NKs                             63.088641   \n",
      "                       Pericytes                       29.269345   \n",
      "                       Plasma                         767.712320   \n",
      "                       Post-capillary Venules          62.648562   \n",
      "                       RSPO3+                          30.555379   \n",
      "                       Tregs                          110.779388   \n",
      "                       WNT2B+ Fos-hi                   74.115199   \n",
      "                       WNT2B+ Fos-lo 1                102.427755   \n",
      "                       WNT2B+ Fos-lo 2                 98.154300   \n",
      "                       WNT5B+ 1                        49.295263   \n",
      "                       WNT5B+ 2                        80.329403   \n",
      "\n",
      "                                                 log2-fold change  \n",
      "Covariate              Cell Type                                   \n",
      "Health[T.Non-inflamed] CD4+ Activated Fos-hi            -0.274235  \n",
      "                       CD4+ Activated Fos-lo            -0.794001  \n",
      "                       CD4+ Memory                       0.772989  \n",
      "                       CD4+ PD1+                        -0.731883  \n",
      "                       CD69+ Mast                        0.772989  \n",
      "                       CD69- Mast                        0.772989  \n",
      "                       CD8+ IELs                         0.772989  \n",
      "                       CD8+ IL17+                        0.772989  \n",
      "                       CD8+ LP                          -0.315029  \n",
      "                       Cycling B                        -0.440610  \n",
      "                       Cycling Monocytes                -0.478715  \n",
      "                       Cycling T                        -0.639426  \n",
      "                       DC1                               0.772989  \n",
      "                       DC2                              -0.059272  \n",
      "                       Endothelial                       0.772989  \n",
      "                       Epithelial                        1.915312  \n",
      "                       Follicular                       -0.007739  \n",
      "                       GC                               -0.660119  \n",
      "                       Glia                             -0.031325  \n",
      "                       ILCs                              0.772989  \n",
      "                       Inflammatory Fibroblasts          0.772989  \n",
      "                       Inflammatory Monocytes            0.772989  \n",
      "                       MT-hi                            -1.102707  \n",
      "                       Macrophages                      -0.207847  \n",
      "                       Microvascular                    -0.099431  \n",
      "                       Myofibroblasts                    0.772989  \n",
      "                       NKs                               0.772989  \n",
      "                       Pericytes                         0.772989  \n",
      "                       Plasma                           -0.679986  \n",
      "                       Post-capillary Venules            0.772989  \n",
      "                       RSPO3+                            0.772989  \n",
      "                       Tregs                             0.772989  \n",
      "                       WNT2B+ Fos-hi                    -0.125695  \n",
      "                       WNT2B+ Fos-lo 1                  -0.192726  \n",
      "                       WNT2B+ Fos-lo 2                   0.772989  \n",
      "                       WNT5B+ 1                         -0.315831  \n",
      "                       WNT5B+ 2                         -0.032619  \n"
     ]
    }
   ],
   "source": [
    "importlib.reload(mod)\n",
    "importlib.reload(res)\n",
    "\n",
    "data_smillie_lp = ad.read_h5ad(\"../../sccoda_benchmark_data/smillie_lp.h5ad\")\n",
    "lp_h_n = data_smillie_lp[data_smillie_lp.obs[\"Health\"].isin([\"Healthy\", \"Non-inflamed\"])]\n",
    "\n",
    "model2_lphn = mod.CompositionalAnalysis(lp_h_n, formula=\"Health\", reference_cell_type=\"CD8+ IELs\")\n",
    "lphn_results = model2_lphn.sample_hmc()\n",
    "lphn_results.summary_extended()\n",
    "\n"
   ],
   "metadata": {
    "collapsed": false,
    "pycharm": {
     "name": "#%%\n"
    }
   }
  },
  {
   "cell_type": "markdown",
   "source": [
    "## Compute three different interval borders and widths\n",
    "\n",
    "Methods:\n",
    "\n",
    "- \"normal\": interval on beta - zero-inflated\n",
    "- \"raw\": Method 1 from above\n",
    "- \"sel\": Method 2 from above"
   ],
   "metadata": {
    "collapsed": false,
    "pycharm": {
     "name": "#%% md\n"
    }
   }
  },
  {
   "cell_type": "code",
   "execution_count": 3,
   "outputs": [],
   "source": [
    "# Just the interval on beta\n",
    "summary_beta = az.summary(lphn_results, kind=\"stats\", var_names=[\"beta\"])\n",
    "summary_b_raw = az.summary(lphn_results, kind=\"stats\", var_names=[\"b_raw\"])\n",
    "\n",
    "cell_types = lphn_results.posterior.coords[\"cell_type\"].values\n",
    "cell_types_nb = lphn_results.posterior.coords[\"cell_type_nb\"].values\n",
    "covariates = lphn_results.posterior.coords[\"covariate\"].values\n",
    "\n",
    "summary_beta.index = pd.MultiIndex.from_product([covariates, cell_types],\n",
    "                                             names=[\"Covariate\", \"Cell Type\"])\n",
    "\n",
    "# Interval on b_raw\n",
    "ref_index = lphn_results.model_specs[\"reference\"]\n",
    "\n",
    "def insert_row(idx, df, df_insert):\n",
    "    return df.iloc[:idx, ].append(df_insert).append(df.iloc[idx:, ]).reset_index(drop = True)\n",
    "\n",
    "summary_b_raw = insert_row(ref_index, summary_b_raw, pd.DataFrame.from_dict(data={\"mean\": [0], \"sd\": [0], \"hdi_3%\": [0], \"hdi_97%\": [0]}))\n",
    "summary_b_raw.index = pd.MultiIndex.from_product([covariates, cell_types],\n",
    "                                             names=[\"Covariate\", \"Cell Type\"])\n",
    "\n",
    "# interval on nonzero beta\n",
    "ind_post = lphn_results.posterior[\"ind\"]\n",
    "\n",
    "post_sel = ind_post.where(ind_post >= 1e-3)\n",
    "\n",
    "b_raw_sel = lphn_results.posterior[\"b_raw\"] * ind_post.where(ind_post >= 1e-3)\n",
    "\n",
    "res = az.convert_to_inference_data(b_raw_sel)\n",
    "\n",
    "summary_sel = az.summary(res, kind=\"stats\", var_names=[\"x\"], skipna=True)\n",
    "\n",
    "summary_sel = insert_row(ref_index, summary_sel, pd.DataFrame.from_dict(data={\"mean\": [0], \"sd\": [0], \"hdi_3%\": [0], \"hdi_97%\": [0]}))\n",
    "summary_sel.index = pd.MultiIndex.from_product([covariates, cell_types],\n",
    "                                             names=[\"Covariate\", \"Cell Type\"])"
   ],
   "metadata": {
    "collapsed": false,
    "pycharm": {
     "name": "#%%\n"
    }
   }
  },
  {
   "cell_type": "code",
   "execution_count": 4,
   "outputs": [
    {
     "name": "stdout",
     "output_type": "stream",
     "text": [
      "                                                      mean     sd  hdi_3%  \\\n",
      "method Covariate              Cell Type                                     \n",
      "normal Health[T.Non-inflamed] CD4+ Activated Fos-hi -0.720  0.204  -1.151   \n",
      "                              CD4+ Activated Fos-lo -1.086  0.205  -1.441   \n",
      "                              CD4+ Memory           -0.242  0.244  -0.680   \n",
      "                              CD4+ PD1+             -1.029  0.403  -1.820   \n",
      "                              CD69+ Mast            -0.059  0.145  -0.441   \n",
      "...                                                    ...    ...     ...   \n",
      "sel    Health[T.Non-inflamed] WNT2B+ Fos-hi         -0.623  0.232  -1.067   \n",
      "                              WNT2B+ Fos-lo 1       -0.669  0.207  -1.070   \n",
      "                              WNT2B+ Fos-lo 2       -0.325  0.242  -0.781   \n",
      "                              WNT5B+ 1              -0.755  0.237  -1.216   \n",
      "                              WNT5B+ 2              -0.558  0.233  -1.010   \n",
      "\n",
      "                                                     hdi_97%  width  \n",
      "method Covariate              Cell Type                              \n",
      "normal Health[T.Non-inflamed] CD4+ Activated Fos-hi   -0.395  0.756  \n",
      "                              CD4+ Activated Fos-lo   -0.676  0.765  \n",
      "                              CD4+ Memory              0.015  0.695  \n",
      "                              CD4+ PD1+               -0.302  1.518  \n",
      "                              CD69+ Mast               0.079  0.520  \n",
      "...                                                      ...    ...  \n",
      "sel    Health[T.Non-inflamed] WNT2B+ Fos-hi           -0.202  0.865  \n",
      "                              WNT2B+ Fos-lo 1         -0.277  0.793  \n",
      "                              WNT2B+ Fos-lo 2          0.049  0.830  \n",
      "                              WNT5B+ 1                -0.333  0.883  \n",
      "                              WNT5B+ 2                -0.128  0.882  \n",
      "\n",
      "[111 rows x 5 columns]\n"
     ]
    }
   ],
   "source": [
    "total_summ = pd.concat([summary_beta, summary_b_raw, summary_sel], keys=[\"normal\", \"raw\", \"sel\"], names=[\"method\"])\n",
    "\n",
    "total_summ[\"width\"] = total_summ[\"hdi_97%\"] - total_summ[\"hdi_3%\"]\n",
    "\n",
    "print(total_summ)"
   ],
   "metadata": {
    "collapsed": false,
    "pycharm": {
     "name": "#%%\n"
    }
   }
  },
  {
   "cell_type": "markdown",
   "source": [
    "## Analysis\n",
    "\n",
    "Width of intervals:\n",
    "\n",
    "For non-credible effects, the intervals for method 1 are much larger!"
   ],
   "metadata": {
    "collapsed": false,
    "pycharm": {
     "name": "#%% md\n"
    }
   }
  },
  {
   "cell_type": "code",
   "execution_count": 5,
   "outputs": [
    {
     "data": {
      "text/plain": "<Figure size 720x576 with 1 Axes>",
      "image/png": "[encoded data removed]"
     },
     "metadata": {
      "needs_background": "light"
     },
     "output_type": "display_data"
    }
   ],
   "source": [
    "total_summ2 = total_summ.reset_index()\n",
    "\n",
    "fig, ax = plt.subplots(figsize=(10,8))\n",
    "ax = sns.barplot(data=total_summ2.reset_index(), x=\"Cell Type\", y=\"width\", hue=\"method\")\n",
    "plt.xticks(rotation=90)\n",
    "legend_labels, _= ax.get_legend_handles_labels()\n",
    "plt.show()"
   ],
   "metadata": {
    "collapsed": false,
    "pycharm": {
     "name": "#%%\n"
    }
   }
  },
  {
   "cell_type": "code",
   "execution_count": 6,
   "outputs": [
    {
     "data": {
      "text/plain": "<Figure size 432x288 with 1 Axes>",
      "image/png": "[encoded data removed]"
     },
     "metadata": {
      "needs_background": "light"
     },
     "output_type": "display_data"
    },
    {
     "name": "stdout",
     "output_type": "stream",
     "text": [
      "     method               Covariate  Cell Type   mean     sd  hdi_3%  hdi_97%  \\\n",
      "27   normal  Health[T.Non-inflamed]  Pericytes  0.133  0.247  -0.034    0.761   \n",
      "64      raw  Health[T.Non-inflamed]  Pericytes  0.219  0.671  -1.053    1.594   \n",
      "101     sel  Health[T.Non-inflamed]  Pericytes  0.327  0.294  -0.103    0.937   \n",
      "\n",
      "     width  \n",
      "27   0.795  \n",
      "64   2.647  \n",
      "101  1.040  \n"
     ]
    }
   ],
   "source": [
    "mean_diff_df = pd.DataFrame({\n",
    "    \"Cell Type\": total_summ2.loc[total_summ2[\"method\"] == \"raw\", \"Cell Type\"],\n",
    "    \"Diff\": np.abs(np.array(total_summ2.loc[total_summ2[\"method\"] == \"raw\", \"mean\"]) - np.array(total_summ2.loc[total_summ2[\"method\"] == \"sel\", \"mean\"])),\n",
    "    \"Inclusion probability\": lphn_results.effect_df[\"Inclusion probability\"].values\n",
    "})\n",
    "\n",
    "mean_diff_df[\"Disp\"] = mean_diff_df[\"Diff\"]/np.abs(np.array(total_summ2.loc[total_summ2[\"method\"] == \"raw\", \"mean\"]))\n",
    "\n",
    "sns.scatterplot(data=mean_diff_df, x=\"Diff\", y=\"Disp\")\n",
    "plt.show()\n",
    "\n",
    "print(total_summ2[total_summ2[\"Cell Type\"] ==\"Pericytes\"])"
   ],
   "metadata": {
    "collapsed": false,
    "pycharm": {
     "name": "#%%\n"
    }
   }
  },
  {
   "cell_type": "markdown",
   "source": [
    "Correlation with inclusion probability for method 1 is very clear: The higher the inc. prob, the smaller the interval."
   ],
   "metadata": {
    "collapsed": false,
    "pycharm": {
     "name": "#%% md\n"
    }
   }
  },
  {
   "cell_type": "code",
   "execution_count": 7,
   "outputs": [
    {
     "name": "stdout",
     "output_type": "stream",
     "text": [
      "                                                         mean     sd  hdi_3%  \\\n",
      "method Covariate              Cell Type                                        \n",
      "raw    Health[T.Non-inflamed] CD4+ Activated Fos-hi    -0.730  0.215  -1.151   \n",
      "                              CD4+ Activated Fos-lo    -1.092  0.203  -1.458   \n",
      "                              CD4+ Memory              -0.269  0.565  -1.151   \n",
      "                              CD4+ PD1+                -1.039  0.411  -1.816   \n",
      "                              CD69+ Mast                0.014  0.765  -1.246   \n",
      "                              CD69- Mast               -0.311  0.792  -1.772   \n",
      "                              CD8+ IELs                 0.000  0.000   0.000   \n",
      "                              CD8+ IL17+               -0.411  0.579  -1.366   \n",
      "                              CD8+ LP                  -0.752  0.217  -1.150   \n",
      "                              Cycling B                -0.814  0.398  -1.577   \n",
      "                              Cycling Monocytes        -0.877  0.313  -1.374   \n",
      "                              Cycling T                -0.992  0.324  -1.591   \n",
      "                              DC1                      -0.445  0.590  -1.402   \n",
      "                              DC2                      -0.519  0.481  -1.396   \n",
      "                              Endothelial              -0.080  0.790  -1.396   \n",
      "                              Epithelial                0.797  0.183   0.439   \n",
      "                              Follicular               -0.399  0.613  -1.217   \n",
      "                              GC                       -0.956  0.519  -1.981   \n",
      "                              Glia                     -0.504  0.415  -1.299   \n",
      "                              ILCs                     -0.192  0.791  -1.386   \n",
      "                              Inflammatory Fibroblasts  0.224  0.747  -1.377   \n",
      "                              Inflammatory Monocytes   -0.249  0.683  -1.236   \n",
      "                              MT-hi                    -1.308  0.368  -1.951   \n",
      "                              Macrophages              -0.673  0.283  -1.120   \n",
      "                              Microvascular            -0.563  0.477  -1.397   \n",
      "                              Myofibroblasts            0.021  0.663  -1.137   \n",
      "                              NKs                      -0.530  0.536  -1.563   \n",
      "                              Pericytes                 0.219  0.671  -1.053   \n",
      "                              Plasma                   -1.017  0.129  -1.249   \n",
      "                              Post-capillary Venules   -0.000  0.720  -1.387   \n",
      "                              RSPO3+                   -0.258  0.675  -1.340   \n",
      "                              Tregs                    -0.341  0.566  -1.228   \n",
      "                              WNT2B+ Fos-hi            -0.636  0.253  -1.124   \n",
      "                              WNT2B+ Fos-lo 1          -0.677  0.219  -1.101   \n",
      "                              WNT2B+ Fos-lo 2          -0.083  0.732  -1.363   \n",
      "                              WNT5B+ 1                 -0.748  0.293  -1.231   \n",
      "                              WNT5B+ 2                 -0.573  0.315  -1.202   \n",
      "\n",
      "                                                        hdi_97%  width  \n",
      "method Covariate              Cell Type                                 \n",
      "raw    Health[T.Non-inflamed] CD4+ Activated Fos-hi      -0.398  0.753  \n",
      "                              CD4+ Activated Fos-lo      -0.707  0.751  \n",
      "                              CD4+ Memory                 1.197  2.348  \n",
      "                              CD4+ PD1+                  -0.329  1.487  \n",
      "                              CD69+ Mast                  1.655  2.901  \n",
      "                              CD69- Mast                  1.252  3.024  \n",
      "                              CD8+ IELs                   0.000  0.000  \n",
      "                              CD8+ IL17+                  0.916  2.282  \n",
      "                              CD8+ LP                    -0.410  0.740  \n",
      "                              Cycling B                  -0.239  1.338  \n",
      "                              Cycling Monocytes          -0.177  1.197  \n",
      "                              Cycling T                  -0.374  1.217  \n",
      "                              DC1                         0.939  2.341  \n",
      "                              DC2                         0.361  1.757  \n",
      "                              Endothelial                 1.627  3.023  \n",
      "                              Epithelial                  1.113  0.674  \n",
      "                              Follicular                  1.326  2.543  \n",
      "                              GC                         -0.121  1.860  \n",
      "                              Glia                        0.264  1.563  \n",
      "                              ILCs                        1.441  2.827  \n",
      "                              Inflammatory Fibroblasts    1.514  2.891  \n",
      "                              Inflammatory Monocytes      1.485  2.721  \n",
      "                              MT-hi                      -0.579  1.372  \n",
      "                              Macrophages                -0.292  0.828  \n",
      "                              Microvascular               0.581  1.978  \n",
      "                              Myofibroblasts              1.541  2.678  \n",
      "                              NKs                         0.592  2.155  \n",
      "                              Pericytes                   1.594  2.647  \n",
      "                              Plasma                     -0.774  0.475  \n",
      "                              Post-capillary Venules      1.443  2.830  \n",
      "                              RSPO3+                      1.222  2.562  \n",
      "                              Tregs                       1.099  2.327  \n",
      "                              WNT2B+ Fos-hi              -0.178  0.946  \n",
      "                              WNT2B+ Fos-lo 1            -0.277  0.824  \n",
      "                              WNT2B+ Fos-lo 2             1.570  2.933  \n",
      "                              WNT5B+ 1                   -0.309  0.922  \n",
      "                              WNT5B+ 2                   -0.054  1.148  \n",
      "                                                         mean     sd  hdi_3%  \\\n",
      "method Covariate              Cell Type                                        \n",
      "raw    Health[T.Non-inflamed] CD4+ Activated Fos-hi    -0.730  0.215  -1.151   \n",
      "                              CD4+ Activated Fos-lo    -1.092  0.203  -1.458   \n",
      "                              CD4+ Memory              -0.269  0.565  -1.151   \n",
      "                              CD4+ PD1+                -1.039  0.411  -1.816   \n",
      "                              CD69+ Mast                0.014  0.765  -1.246   \n",
      "                              CD69- Mast               -0.311  0.792  -1.772   \n",
      "                              CD8+ IELs                 0.000  0.000   0.000   \n",
      "                              CD8+ IL17+               -0.411  0.579  -1.366   \n",
      "                              CD8+ LP                  -0.752  0.217  -1.150   \n",
      "                              Cycling B                -0.814  0.398  -1.577   \n",
      "                              Cycling Monocytes        -0.877  0.313  -1.374   \n",
      "                              Cycling T                -0.992  0.324  -1.591   \n",
      "                              DC1                      -0.445  0.590  -1.402   \n",
      "                              DC2                      -0.519  0.481  -1.396   \n",
      "                              Endothelial              -0.080  0.790  -1.396   \n",
      "                              Epithelial                0.797  0.183   0.439   \n",
      "                              Follicular               -0.399  0.613  -1.217   \n",
      "                              GC                       -0.956  0.519  -1.981   \n",
      "                              Glia                     -0.504  0.415  -1.299   \n",
      "                              ILCs                     -0.192  0.791  -1.386   \n",
      "                              Inflammatory Fibroblasts  0.224  0.747  -1.377   \n",
      "                              Inflammatory Monocytes   -0.249  0.683  -1.236   \n",
      "                              MT-hi                    -1.308  0.368  -1.951   \n",
      "                              Macrophages              -0.673  0.283  -1.120   \n",
      "                              Microvascular            -0.563  0.477  -1.397   \n",
      "                              Myofibroblasts            0.021  0.663  -1.137   \n",
      "                              NKs                      -0.530  0.536  -1.563   \n",
      "                              Pericytes                 0.219  0.671  -1.053   \n",
      "                              Plasma                   -1.017  0.129  -1.249   \n",
      "                              Post-capillary Venules   -0.000  0.720  -1.387   \n",
      "                              RSPO3+                   -0.258  0.675  -1.340   \n",
      "                              Tregs                    -0.341  0.566  -1.228   \n",
      "                              WNT2B+ Fos-hi            -0.636  0.253  -1.124   \n",
      "                              WNT2B+ Fos-lo 1          -0.677  0.219  -1.101   \n",
      "                              WNT2B+ Fos-lo 2          -0.083  0.732  -1.363   \n",
      "                              WNT5B+ 1                 -0.748  0.293  -1.231   \n",
      "                              WNT5B+ 2                 -0.573  0.315  -1.202   \n",
      "\n",
      "                                                        hdi_97%  width  \\\n",
      "method Covariate              Cell Type                                  \n",
      "raw    Health[T.Non-inflamed] CD4+ Activated Fos-hi      -0.398  0.753   \n",
      "                              CD4+ Activated Fos-lo      -0.707  0.751   \n",
      "                              CD4+ Memory                 1.197  2.348   \n",
      "                              CD4+ PD1+                  -0.329  1.487   \n",
      "                              CD69+ Mast                  1.655  2.901   \n",
      "                              CD69- Mast                  1.252  3.024   \n",
      "                              CD8+ IELs                   0.000  0.000   \n",
      "                              CD8+ IL17+                  0.916  2.282   \n",
      "                              CD8+ LP                    -0.410  0.740   \n",
      "                              Cycling B                  -0.239  1.338   \n",
      "                              Cycling Monocytes          -0.177  1.197   \n",
      "                              Cycling T                  -0.374  1.217   \n",
      "                              DC1                         0.939  2.341   \n",
      "                              DC2                         0.361  1.757   \n",
      "                              Endothelial                 1.627  3.023   \n",
      "                              Epithelial                  1.113  0.674   \n",
      "                              Follicular                  1.326  2.543   \n",
      "                              GC                         -0.121  1.860   \n",
      "                              Glia                        0.264  1.563   \n",
      "                              ILCs                        1.441  2.827   \n",
      "                              Inflammatory Fibroblasts    1.514  2.891   \n",
      "                              Inflammatory Monocytes      1.485  2.721   \n",
      "                              MT-hi                      -0.579  1.372   \n",
      "                              Macrophages                -0.292  0.828   \n",
      "                              Microvascular               0.581  1.978   \n",
      "                              Myofibroblasts              1.541  2.678   \n",
      "                              NKs                         0.592  2.155   \n",
      "                              Pericytes                   1.594  2.647   \n",
      "                              Plasma                     -0.774  0.475   \n",
      "                              Post-capillary Venules      1.443  2.830   \n",
      "                              RSPO3+                      1.222  2.562   \n",
      "                              Tregs                       1.099  2.327   \n",
      "                              WNT2B+ Fos-hi              -0.178  0.946   \n",
      "                              WNT2B+ Fos-lo 1            -0.277  0.824   \n",
      "                              WNT2B+ Fos-lo 2             1.570  2.933   \n",
      "                              WNT5B+ 1                   -0.309  0.922   \n",
      "                              WNT5B+ 2                   -0.054  1.148   \n",
      "\n",
      "                                                        Inclusion probability  \n",
      "method Covariate              Cell Type                                        \n",
      "raw    Health[T.Non-inflamed] CD4+ Activated Fos-hi                  0.991733  \n",
      "                              CD4+ Activated Fos-lo                  1.000000  \n",
      "                              CD4+ Memory                            0.660600  \n",
      "                              CD4+ PD1+                              0.986200  \n",
      "                              CD69+ Mast                             0.339400  \n",
      "                              CD69- Mast                             0.603533  \n",
      "                              CD8+ IELs                              0.000000  \n",
      "                              CD8+ IL17+                             0.724600  \n",
      "                              CD8+ LP                                0.992133  \n",
      "                              Cycling B                              0.956467  \n",
      "                              Cycling Monocytes                      0.995933  \n",
      "                              Cycling T                              0.999933  \n",
      "                              DC1                                    0.718667  \n",
      "                              DC2                                    0.861067  \n",
      "                              Endothelial                            0.280733  \n",
      "                              Epithelial                             1.000000  \n",
      "                              Follicular                             0.788133  \n",
      "                              GC                                     0.939600  \n",
      "                              Glia                                   0.830333  \n",
      "                              ILCs                                   0.607467  \n",
      "                              Inflammatory Fibroblasts               0.531467  \n",
      "                              Inflammatory Monocytes                 0.620200  \n",
      "                              MT-hi                                  1.000000  \n",
      "                              Macrophages                            0.981600  \n",
      "                              Microvascular                          0.828133  \n",
      "                              Myofibroblasts                         0.346933  \n",
      "                              NKs                                    0.783933  \n",
      "                              Pericytes                              0.402533  \n",
      "                              Plasma                                 1.000000  \n",
      "                              Post-capillary Venules                 0.307333  \n",
      "                              RSPO3+                                 0.618667  \n",
      "                              Tregs                                  0.676600  \n",
      "                              WNT2B+ Fos-hi                          0.991867  \n",
      "                              WNT2B+ Fos-lo 1                        0.983333  \n",
      "                              WNT2B+ Fos-lo 2                        0.455867  \n",
      "                              WNT5B+ 1                               0.991733  \n",
      "                              WNT5B+ 2                               0.947067  \n"
     ]
    }
   ],
   "source": [
    "summ_raw = total_summ.loc[total_summ.index.get_level_values(0) ==\"raw\"].copy()\n",
    "print(summ_raw)\n",
    "\n",
    "summ_raw.loc[:, \"Inclusion probability\"] = lphn_results.effect_df[\"Inclusion probability\"].values\n",
    "\n",
    "print(summ_raw)\n"
   ],
   "metadata": {
    "collapsed": false,
    "pycharm": {
     "name": "#%%\n"
    }
   }
  },
  {
   "cell_type": "code",
   "execution_count": 8,
   "outputs": [
    {
     "data": {
      "text/plain": "<Figure size 720x576 with 1 Axes>",
      "image/png": "[encoded data removed]"
     },
     "metadata": {
      "needs_background": "light"
     },
     "output_type": "display_data"
    }
   ],
   "source": [
    "plt.subplots(figsize=(10,8))\n",
    "sns.scatterplot(data=summ_raw.reset_index(), x=\"Inclusion probability\", y=\"width\")\n",
    "plt.xticks(rotation=90)\n",
    "plt.show()\n"
   ],
   "metadata": {
    "collapsed": false,
    "pycharm": {
     "name": "#%%\n"
    }
   }
  },
  {
   "cell_type": "code",
   "execution_count": 41,
   "outputs": [
    {
     "name": "stdout",
     "output_type": "stream",
     "text": [
      "Index(['method', 'Covariate', 'Cell Type', 'mean', 'sd', 'hdi_3%', 'hdi_97%',\n",
      "       'width'],\n",
      "      dtype='object')\n"
     ]
    }
   ],
   "source": [
    "print(total_summ2.columns)"
   ],
   "metadata": {
    "collapsed": false,
    "pycharm": {
     "name": "#%%\n"
    }
   }
  },
  {
   "cell_type": "code",
   "execution_count": 50,
   "outputs": [
    {
     "data": {
      "text/plain": "<Figure size 720x576 with 1 Axes>",
      "image/png": "[encoded data removed]"
     },
     "metadata": {},
     "output_type": "display_data"
    }
   ],
   "source": [
    "sns.set(style=\"ticks\", font_scale=1.3)\n",
    "\n",
    "fig, ax = plt.subplots(figsize=(10,8))\n",
    "\n",
    "sns.barplot(data=total_summ2,\n",
    "            x=\"Cell Type\",\n",
    "            y=\"mean\",\n",
    "            color=\"lightgrey\",\n",
    "            ci=None)\n",
    "\n",
    "plt.vlines(\n",
    "    x=np.arange(0,37)-0.125,\n",
    "    ymin=total_summ2.loc[total_summ2[\"method\"]==\"normal\", \"hdi_3%\"],\n",
    "    ymax=total_summ2.loc[total_summ2[\"method\"]==\"normal\", \"hdi_97%\"],\n",
    "    color=sns.color_palette()[0],\n",
    "    label=\"With zero samples\",\n",
    "    lw=2.5\n",
    ")\n",
    "\n",
    "plt.vlines(\n",
    "    x=np.arange(0,37)+0.125,\n",
    "    ymin=total_summ2.loc[total_summ2[\"method\"]==\"sel\", \"hdi_3%\"],\n",
    "    ymax=total_summ2.loc[total_summ2[\"method\"]==\"sel\", \"hdi_97%\"],\n",
    "    color=sns.color_palette()[1],\n",
    "    label=\"Without zero samples\",\n",
    "    lw=2.5\n",
    ")\n",
    "plt.xticks(rotation=90, labels=lp_h_n.var.index, ticks=np.arange(len(lp_h_n.var.index)))\n",
    "plt.legend(bbox_to_anchor=(1.05, 1), loc=2, borderaxespad=0.)\n",
    "plt.xlabel(\"Cell type\")\n",
    "plt.ylabel(\"Effect\")\n",
    "\n",
    "legend_labels, _= ax.get_legend_handles_labels()\n",
    "\n",
    "plot_path = \"../../sccoda_benchmark_data/paper_plots_rv1/\"\n",
    "plt.savefig(plot_path + \"/ci_bars_smillie_lp_h_n.svg\", format=\"svg\", bbox_inches=\"tight\")\n",
    "plt.savefig(plot_path + \"/ci_bars_smillie_lp_h_n.png\", format=\"png\", bbox_inches=\"tight\")\n",
    "\n",
    "plt.show()"
   ],
   "metadata": {
    "collapsed": false,
    "pycharm": {
     "name": "#%%\n"
    }
   }
  },
  {
   "cell_type": "code",
   "execution_count": 51,
   "outputs": [
    {
     "name": "stdout",
     "output_type": "stream",
     "text": [
      "           width\n",
      "method          \n",
      "normal  0.920703\n",
      "raw     1.807108\n",
      "sel     0.974405\n"
     ]
    }
   ],
   "source": [
    "\n",
    "print(total_summ2.groupby(\"method\").agg({\n",
    "    \"width\": \"mean\"\n",
    "}))"
   ],
   "metadata": {
    "collapsed": false,
    "pycharm": {
     "name": "#%%\n"
    }
   }
  },
  {
   "cell_type": "code",
   "execution_count": 52,
   "outputs": [
    {
     "data": {
      "text/plain": "<Figure size 432x288 with 1 Axes>",
      "image/png": "[encoded data removed]"
     },
     "metadata": {},
     "output_type": "display_data"
    }
   ],
   "source": [
    "sns.boxplot(\n",
    "    data=total_summ2.loc[total_summ2[\"method\"]!=\"raw\",:],\n",
    "    x=\"method\",\n",
    "    y=\"width\"\n",
    ")\n",
    "plt.xlabel(\"Method\")\n",
    "plt.xticks(ticks=[0,1], labels=[\"With zero samples\", \"Without zero samples\"])\n",
    "plt.ylabel(\"HDI width\")\n",
    "\n",
    "plt.savefig(plot_path + \"/ci_width_boxes_smillie_lp_h_n.svg\", format=\"svg\", bbox_inches=\"tight\")\n",
    "plt.savefig(plot_path + \"/ci_width_boxes_smillie_lp_h_n.png\", format=\"png\", bbox_inches=\"tight\")\n",
    "\n",
    "\n",
    "plt.show()"
   ],
   "metadata": {
    "collapsed": false,
    "pycharm": {
     "name": "#%%\n"
    }
   }
  },
  {
   "cell_type": "code",
   "execution_count": null,
   "outputs": [],
   "source": [],
   "metadata": {
    "collapsed": false,
    "pycharm": {
     "name": "#%%\n"
    }
   }
  }
 ],
 "metadata": {
  "kernelspec": {
   "display_name": "Python 3",
   "language": "python",
   "name": "python3"
  },
  "language_info": {
   "codemirror_mode": {
    "name": "ipython",
    "version": 2
   },
   "file_extension": ".py",
   "mimetype": "text/x-python",
   "name": "python",
   "nbconvert_exporter": "python",
   "pygments_lexer": "ipython2",
   "version": "2.7.6"
  }
 },
 "nbformat": 4,
 "nbformat_minor": 0
}