{
 "cells": [
  {
   "cell_type": "markdown",
   "metadata": {
    "collapsed": true,
    "pycharm": {
     "name": "#%% md\n"
    }
   },
   "source": [
    "# Analysis of Microglia data\n"
   ]
  },
  {
   "cell_type": "code",
   "execution_count": 1,
   "outputs": [],
   "source": [
    "# Setup\n",
    "import warnings\n",
    "warnings.filterwarnings(\"ignore\")\n",
    "\n",
    "import pandas as pd\n",
    "import matplotlib.pyplot as plt\n",
    "import seaborn as sns\n",
    "import numpy as np\n",
    "\n",
    "from sccoda.util import comp_ana as mod\n",
    "from sccoda.util import cell_composition_data as dat\n",
    "from sccoda.model import other_models as om"
   ],
   "metadata": {
    "collapsed": false,
    "pycharm": {
     "name": "#%%\n"
    }
   }
  },
  {
   "cell_type": "markdown",
   "source": [
    "Load and format data: \n",
    "\n",
    "4 control samples, 2 samples for other conditions each; 8 cell types"
   ],
   "metadata": {
    "collapsed": false
   }
  },
  {
   "cell_type": "code",
   "execution_count": 2,
   "outputs": [
    {
     "name": "stdout",
     "output_type": "stream",
     "text": [
      "  mouse_type    location replicate  microglia 1  microglia 2  microglia 3\n",
      "0         AD  cerebellum    mouse1          709            5            2\n",
      "1         AD  cerebellum    mouse2          715            7            6\n",
      "2         AD      cortex    mouse1          834           19           59\n",
      "3         AD      cortex    mouse2          794           16          100\n",
      "4         WT  cerebellum    mouse1          449            3            2\n",
      "5         WT  cerebellum    mouse2          424            3            4\n",
      "6         WT      cortex    mouse1          412            0            0\n",
      "7         WT      cortex    mouse2          581            1            1\n",
      "  mouse_type    location replicate\n",
      "0         AD  cerebellum    mouse1\n",
      "1         AD  cerebellum    mouse2\n",
      "4         WT  cerebellum    mouse1\n",
      "5         WT  cerebellum    mouse2\n"
     ]
    }
   ],
   "source": [
    "cell_counts = pd.read_csv(\"../../data/cell_count_microglia_AD_WT_location.csv\", index_col=0)\n",
    "# Sort values such that wild type is considered the base category\n",
    "print(cell_counts)\n",
    "\n",
    "data_cer = dat.from_pandas(cell_counts.loc[cell_counts[\"location\"] == \"cerebellum\"], \n",
    "                           covariate_columns=[\"mouse_type\", \"location\", \"replicate\"])\n",
    "data_cor = dat.from_pandas(cell_counts.loc[cell_counts[\"location\"] == \"cortex\"], \n",
    "                           covariate_columns=[\"mouse_type\", \"location\", \"replicate\"])"
   ],
   "metadata": {
    "collapsed": false,
    "pycharm": {
     "name": "#%%\n"
    }
   }
  },
  {
   "cell_type": "markdown",
   "source": [
    "Plot data:"
   ],
   "metadata": {
    "collapsed": false,
    "pycharm": {
     "name": "#%% md\n"
    }
   }
  },
  {
   "cell_type": "code",
   "execution_count": 3,
   "outputs": [
    {
     "name": "stdout",
     "output_type": "stream",
     "text": [
      "      location mouse_type     variable     value\n",
      "4   cerebellum         WT  microglia 1  0.988987\n",
      "5   cerebellum         WT  microglia 1  0.983759\n",
      "12  cerebellum         WT  microglia 2  0.006608\n",
      "13  cerebellum         WT  microglia 2  0.006961\n",
      "20  cerebellum         WT  microglia 3  0.004405\n",
      "21  cerebellum         WT  microglia 3  0.009281\n",
      "0   cerebellum         AD  microglia 1  0.990223\n",
      "1   cerebellum         AD  microglia 1  0.982143\n",
      "8   cerebellum         AD  microglia 2  0.006983\n",
      "9   cerebellum         AD  microglia 2  0.009615\n",
      "16  cerebellum         AD  microglia 3  0.002793\n",
      "17  cerebellum         AD  microglia 3  0.008242\n",
      "6       cortex         WT  microglia 1  1.000000\n",
      "7       cortex         WT  microglia 1  0.996569\n",
      "14      cortex         WT  microglia 2  0.000000\n",
      "15      cortex         WT  microglia 2  0.001715\n",
      "22      cortex         WT  microglia 3  0.000000\n",
      "23      cortex         WT  microglia 3  0.001715\n",
      "2       cortex         AD  microglia 1  0.914474\n",
      "3       cortex         AD  microglia 1  0.872527\n",
      "10      cortex         AD  microglia 2  0.020833\n",
      "11      cortex         AD  microglia 2  0.017582\n",
      "18      cortex         AD  microglia 3  0.064693\n",
      "19      cortex         AD  microglia 3  0.109890\n"
     ]
    },
    {
     "data": {
      "text/plain": "<Figure size 864x360 with 3 Axes>",
      "image/png": "[encoded data removed]"
     },
     "metadata": {
      "needs_background": "light"
     },
     "output_type": "display_data"
    }
   ],
   "source": [
    "# Count data to ratios\n",
    "counts = cell_counts.iloc[:, 3:]\n",
    "rowsum = np.sum(counts, axis=1)\n",
    "\n",
    "ratios = counts.div(rowsum, axis=0)\n",
    "ratios[\"mouse_type\"] = cell_counts[\"mouse_type\"]\n",
    "ratios[\"location\"] = cell_counts[\"location\"]\n",
    "\n",
    "# Make boxplots\n",
    "fig, ax = plt.subplots(figsize=(12,5), ncols=3)\n",
    "df = pd.melt(ratios, id_vars=['location', \"mouse_type\"], value_vars=ratios.columns[:3])\n",
    "df = df.sort_values([\"location\", \"mouse_type\"], ascending=[True, False])\n",
    "print(df)\n",
    "sns.set_context('notebook')\n",
    "sns.set_style('ticks')\n",
    "for i in range(3):\n",
    "    d = sns.boxplot(x='location', y = 'value', hue=\"mouse_type\",\n",
    "                    data=df.loc[df[\"variable\"]==f\"microglia {i+1}\"], fliersize=1,\n",
    "                    palette='Blues', ax=ax[i])\n",
    "\n",
    "    d.set_ylabel('Proportion')\n",
    "    loc, labels = plt.xticks()\n",
    "    d.set_xlabel('Location')\n",
    "    d.set_title(f\"microglia {i+1}\")\n",
    "plt.legend(bbox_to_anchor=(1.33, 1), borderaxespad=0., title=\"Condition\")\n",
    "\n",
    "# plt.savefig(plot_path + \"haber_boxes_blue.svg\", format=\"svg\", bbox_inches=\"tight\")\n",
    "# plt.savefig(plot_path + \"haber_boxes_blue.png\", format=\"png\", bbox_inches=\"tight\")\n",
    "\n",
    "plt.show()"
   ],
   "metadata": {
    "collapsed": false,
    "pycharm": {
     "name": "#%%\n"
    }
   }
  },
  {
   "cell_type": "markdown",
   "source": [
    "Analyze cerebellum data:\n",
    "Apply scCODA for every cell type set as the reference."
   ],
   "metadata": {
    "collapsed": false,
    "pycharm": {
     "name": "#%% md\n"
    }
   }
  },
  {
   "cell_type": "code",
   "execution_count": 4,
   "outputs": [
    {
     "name": "stdout",
     "output_type": "stream",
     "text": [
      "Reference: microglia 1\n",
      "MCMC sampling finished. (52.557 sec)\n",
      "Acceptance rate: 16.2%\n",
      "Reference: microglia 2\n",
      "MCMC sampling finished. (52.695 sec)\n",
      "Acceptance rate: 4.7%\n",
      "Reference: microglia 3\n",
      "MCMC sampling finished. (53.411 sec)\n",
      "Acceptance rate: 54.6%\n"
     ]
    }
   ],
   "source": [
    "# Use this formula to make a wild type -> treated comparison, not the other way\n",
    "formula = \"C(mouse_type, levels=['WT', 'AD'])\"\n",
    "\n",
    "\n",
    "# cerebellum\n",
    "res_cer = []\n",
    "effects_cer = pd.DataFrame(index=data_cer.var.index.copy(),\n",
    "                           columns=data_cer.var.index.copy())\n",
    "effects_cer.index.rename(\"cell type\", inplace=True)\n",
    "effects_cer.columns.rename(\"reference\", inplace=True)\n",
    "\n",
    "for ct in data_cer.var.index:\n",
    "    print(f\"Reference: {ct}\")\n",
    "    \n",
    "    model = mod.CompositionalAnalysis(data=data_cer, formula=formula, baseline_index=ct)\n",
    "    results = model.sample_hmc()\n",
    "    _, effect_df = results.summary_prepare()\n",
    "    res_cer.append(results)\n",
    "    effects_cer[ct] = effect_df.loc[:, \"Final Parameter\"].array\n",
    "  "
   ],
   "metadata": {
    "collapsed": false,
    "pycharm": {
     "name": "#%%\n"
    }
   }
  },
  {
   "cell_type": "code",
   "execution_count": 5,
   "outputs": [
    {
     "name": "stdout",
     "output_type": "stream",
     "text": [
      "reference    microglia 1  microglia 2  microglia 3\n",
      "cell type                                         \n",
      "microglia 1     0.000000     0.745806          0.0\n",
      "microglia 2     0.000000     0.000000          0.0\n",
      "microglia 3     8.098556     0.000000          0.0\n"
     ]
    }
   ],
   "source": [
    "# Column: Reference category\n",
    "# Row: Effect\n",
    "print(effects_cer)\n",
    "    "
   ],
   "metadata": {
    "collapsed": false,
    "pycharm": {
     "name": "#%%\n"
    }
   }
  },
  {
   "cell_type": "markdown",
   "source": [
    "Now with cortex data:"
   ],
   "metadata": {
    "collapsed": false,
    "pycharm": {
     "name": "#%% md\n"
    }
   }
  },
  {
   "cell_type": "code",
   "execution_count": 6,
   "outputs": [
    {
     "name": "stdout",
     "output_type": "stream",
     "text": [
      "Reference: microglia 1\n",
      "Zero counts encountered in data! Added a pseudocount of 0.5.\n",
      "MCMC sampling finished. (52.813 sec)\n",
      "Acceptance rate: 46.1%\n",
      "Reference: microglia 2\n",
      "Zero counts encountered in data! Added a pseudocount of 0.5.\n",
      "MCMC sampling finished. (54.019 sec)\n",
      "Acceptance rate: 43.1%\n",
      "Reference: microglia 3\n",
      "Zero counts encountered in data! Added a pseudocount of 0.5.\n",
      "MCMC sampling finished. (52.952 sec)\n",
      "Acceptance rate: 51.4%\n"
     ]
    }
   ],
   "source": [
    "# cortex\n",
    "res_cor = []\n",
    "effects_cor = pd.DataFrame(index=data_cor.var.index.copy(),\n",
    "                           columns=data_cor.var.index.copy())\n",
    "effects_cor.index.rename(\"cell type\", inplace=True)\n",
    "effects_cor.columns.rename(\"reference\", inplace=True)\n",
    "\n",
    "for ct in data_cer.var.index:\n",
    "    print(f\"Reference: {ct}\")\n",
    "    \n",
    "    model = mod.CompositionalAnalysis(data=data_cor, formula=formula, baseline_index=ct)\n",
    "    results = model.sample_hmc()\n",
    "    _, effect_df = results.summary_prepare()\n",
    "    res_cor.append(results)\n",
    "    effects_cor[ct] = effect_df.loc[:, \"Final Parameter\"].array\n",
    "    "
   ],
   "metadata": {
    "collapsed": false,
    "pycharm": {
     "name": "#%%\n"
    }
   }
  },
  {
   "cell_type": "code",
   "execution_count": 7,
   "outputs": [
    {
     "name": "stdout",
     "output_type": "stream",
     "text": [
      "reference    microglia 1  microglia 2  microglia 3\n",
      "cell type                                         \n",
      "microglia 1     0.000000    -2.604580    -3.105256\n",
      "microglia 2     1.768916     0.000000     0.208959\n",
      "microglia 3     2.670422     1.377957     0.000000\n"
     ]
    }
   ],
   "source": [
    "# Column: Reference category\n",
    "# Row: Effect\n",
    "effects_cor.index.name = \"cell type\"\n",
    "effects_cor.columns.name = \"reference\"\n",
    "print(effects_cor)\n"
   ],
   "metadata": {
    "collapsed": false,
    "pycharm": {
     "name": "#%%\n"
    }
   }
  },
  {
   "cell_type": "markdown",
   "source": [
    "For validataion, apply ancom to the same dataset.\n",
    "We see also no changes for the cerebellum data, and a change in Microglia 2 and 3 for the cortex data."
   ],
   "metadata": {
    "collapsed": false,
    "pycharm": {
     "name": "#%% md\n"
    }
   }
  },
  {
   "cell_type": "code",
   "execution_count": 8,
   "outputs": [
    {
     "name": "stdout",
     "output_type": "stream",
     "text": [
      "(   W  Reject null hypothesis\n",
      "0  0                   False\n",
      "1  0                   False\n",
      "2  0                   False, Percentile  0.0    25.0   50.0   75.0   100.0  0.0     25.0   50.0    75.0   \\\n",
      "Group          AD     AD     AD     AD     AD     WT      WT     WT      WT   \n",
      "0           709.0  710.5  712.0  713.5  715.0  424.0  430.25  436.5  442.75   \n",
      "1             5.0    5.5    6.0    6.5    7.0    3.0    3.00    3.0    3.00   \n",
      "2             2.0    3.0    4.0    5.0    6.0    2.0    2.50    3.0    3.50   \n",
      "\n",
      "Percentile  100.0  \n",
      "Group          WT  \n",
      "0           449.0  \n",
      "1             3.0  \n",
      "2             4.0  )\n",
      "(   W  Reject null hypothesis\n",
      "0  2                    True\n",
      "1  1                   False\n",
      "2  1                   False, Percentile  0.0     25.0   50.0    75.0   100.0  0.0     25.0   50.0    75.0   \\\n",
      "Group          AD      AD     AD      AD     AD     WT      WT     WT      WT   \n",
      "0           794.5  804.50  814.5  824.50  834.5  412.5  454.75  497.0  539.25   \n",
      "1            16.5   17.25   18.0   18.75   19.5    0.5    0.75    1.0    1.25   \n",
      "2            59.5   69.75   80.0   90.25  100.5    0.5    0.75    1.0    1.25   \n",
      "\n",
      "Percentile  100.0  \n",
      "Group          WT  \n",
      "0           581.5  \n",
      "1             1.5  \n",
      "2             1.5  )\n"
     ]
    }
   ],
   "source": [
    "cer_ancom = data_cer.copy()\n",
    "cer_ancom.obs = cer_ancom.obs.rename(columns={\"mouse_type\": \"x_0\"})\n",
    "ancom_cer = om.AncomModel(cer_ancom)\n",
    "ancom_cer.fit_model()\n",
    "print(ancom_cer.ancom_out)\n",
    "\n",
    "cor_ancom = data_cor.copy()\n",
    "cor_ancom.obs = cor_ancom.obs.rename(columns={\"mouse_type\": \"x_0\"})\n",
    "cor_ancom.X = cor_ancom.X + 0.5\n",
    "ancom_cor = om.AncomModel(cor_ancom)\n",
    "ancom_cor.fit_model()\n",
    "print(ancom_cor.ancom_out)"
   ],
   "metadata": {
    "collapsed": false,
    "pycharm": {
     "name": "#%%\n"
    }
   }
  }
 ],
 "metadata": {
  "kernelspec": {
   "name": "pycharm-d14afe01",
   "language": "python",
   "display_name": "PyCharm (scCODA_tests)"
  },
  "language_info": {
   "codemirror_mode": {
    "name": "ipython",
    "version": 2
   },
   "file_extension": ".py",
   "mimetype": "text/x-python",
   "name": "python",
   "nbconvert_exporter": "python",
   "pygments_lexer": "ipython2",
   "version": "2.7.6"
  }
 },
 "nbformat": 4,
 "nbformat_minor": 0
}