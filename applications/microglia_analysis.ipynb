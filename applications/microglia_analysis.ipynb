{
 "cells": [
  {
   "cell_type": "markdown",
   "metadata": {
    "collapsed": true,
    "pycharm": {
     "name": "#%% md\n"
    }
   },
   "source": [
    "\n"
   ]
  },
  {
   "cell_type": "code",
   "execution_count": 1,
   "outputs": [],
   "source": [
    "# Setup\n",
    "import warnings\n",
    "warnings.filterwarnings(\"ignore\")\n",
    "\n",
    "import pandas as pd\n",
    "import matplotlib.pyplot as plt\n",
    "import seaborn as sns\n",
    "import numpy as np\n",
    "import arviz as az\n",
    "\n",
    "from sccoda.util import comp_ana as mod\n",
    "from sccoda.util import cell_composition_data as dat"
   ],
   "metadata": {
    "collapsed": false,
    "pycharm": {
     "name": "#%%\n"
    }
   }
  },
  {
   "cell_type": "markdown",
   "source": [
    "Load and format data: \n",
    "\n",
    "4 control samples, 2 samples for other conditions each; 8 cell types"
   ],
   "metadata": {
    "collapsed": false
   }
  },
  {
   "cell_type": "code",
   "execution_count": 2,
   "outputs": [
    {
     "name": "stdout",
     "output_type": "stream",
     "text": [
      "  mouse_type    location replicate  microglia 1  microglia 2  microglia 3\n",
      "0         AD  cerebellum    mouse1          709            5            2\n",
      "1         AD  cerebellum    mouse2          715            7            6\n",
      "2         AD      cortex    mouse1          834           19           59\n",
      "3         AD      cortex    mouse2          794           16          100\n",
      "4         WT  cerebellum    mouse1          449            3            2\n",
      "5         WT  cerebellum    mouse2          424            3            4\n",
      "6         WT      cortex    mouse1          412            0            0\n",
      "7         WT      cortex    mouse2          581            1            1\n",
      "  mouse_type    location replicate\n",
      "0         AD  cerebellum    mouse1\n",
      "1         AD  cerebellum    mouse2\n",
      "4         WT  cerebellum    mouse1\n",
      "5         WT  cerebellum    mouse2\n"
     ]
    }
   ],
   "source": [
    "cell_counts = pd.read_csv(\"../data/cell_count_microglia_AD_WT_location.csv\", index_col=0)\n",
    "print(cell_counts)\n",
    "\n",
    "data_cer = dat.from_pandas(cell_counts.loc[cell_counts[\"location\"] == \"cerebellum\"], \n",
    "                           covariate_columns=[\"mouse_type\", \"location\", \"replicate\"])\n",
    "data_cor = dat.from_pandas(cell_counts.loc[cell_counts[\"location\"] == \"cortex\"], \n",
    "                           covariate_columns=[\"mouse_type\", \"location\", \"replicate\"])\n",
    "print(data_cer.obs)"
   ],
   "metadata": {
    "collapsed": false,
    "pycharm": {
     "name": "#%%\n"
    }
   }
  },
  {
   "cell_type": "markdown",
   "source": [
    "Plot data:"
   ],
   "metadata": {
    "collapsed": false,
    "pycharm": {
     "name": "#%% md\n"
    }
   }
  },
  {
   "cell_type": "code",
   "execution_count": 3,
   "outputs": [
    {
     "name": "stdout",
     "output_type": "stream",
     "text": [
      "      location mouse_type     variable     value\n",
      "0   cerebellum         AD  microglia 1  0.990223\n",
      "1   cerebellum         AD  microglia 1  0.982143\n",
      "2       cortex         AD  microglia 1  0.914474\n",
      "3       cortex         AD  microglia 1  0.872527\n",
      "4   cerebellum         WT  microglia 1  0.988987\n",
      "5   cerebellum         WT  microglia 1  0.983759\n",
      "6       cortex         WT  microglia 1  1.000000\n",
      "7       cortex         WT  microglia 1  0.996569\n",
      "8   cerebellum         AD  microglia 2  0.006983\n",
      "9   cerebellum         AD  microglia 2  0.009615\n",
      "10      cortex         AD  microglia 2  0.020833\n",
      "11      cortex         AD  microglia 2  0.017582\n",
      "12  cerebellum         WT  microglia 2  0.006608\n",
      "13  cerebellum         WT  microglia 2  0.006961\n",
      "14      cortex         WT  microglia 2  0.000000\n",
      "15      cortex         WT  microglia 2  0.001715\n",
      "16  cerebellum         AD  microglia 3  0.002793\n",
      "17  cerebellum         AD  microglia 3  0.008242\n",
      "18      cortex         AD  microglia 3  0.064693\n",
      "19      cortex         AD  microglia 3  0.109890\n",
      "20  cerebellum         WT  microglia 3  0.004405\n",
      "21  cerebellum         WT  microglia 3  0.009281\n",
      "22      cortex         WT  microglia 3  0.000000\n",
      "23      cortex         WT  microglia 3  0.001715\n"
     ]
    },
    {
     "data": {
      "text/plain": "<Figure size 864x360 with 3 Axes>",
      "image/png": "[encoded data removed]"
     },
     "metadata": {
      "needs_background": "light"
     },
     "output_type": "display_data"
    }
   ],
   "source": [
    "# Count data to ratios\n",
    "counts = cell_counts.iloc[:, 3:]\n",
    "rowsum = np.sum(counts, axis=1)\n",
    "\n",
    "ratios = counts.div(rowsum, axis=0)\n",
    "ratios[\"mouse_type\"] = cell_counts[\"mouse_type\"]\n",
    "ratios[\"location\"] = cell_counts[\"location\"]\n",
    "\n",
    "# Make boxplots\n",
    "fig, ax = plt.subplots(figsize=(12,5), ncols=3)\n",
    "df = pd.melt(ratios, id_vars=['location', \"mouse_type\"], value_vars=ratios.columns[:3])\n",
    "print(df)\n",
    "sns.set_context('notebook')\n",
    "sns.set_style('ticks')\n",
    "for i in range(3):\n",
    "    d = sns.boxplot(x='location', y = 'value', hue=\"mouse_type\",\n",
    "                    data=df.loc[df[\"variable\"]==f\"microglia {i+1}\"], fliersize=1,\n",
    "                    palette='Blues', ax=ax[i])\n",
    "\n",
    "    d.set_ylabel('Proportion')\n",
    "    loc, labels = plt.xticks()\n",
    "    d.set_xlabel('Location')\n",
    "    d.set_title(f\"microglia {i+1}\")\n",
    "plt.legend(bbox_to_anchor=(1.33, 1), borderaxespad=0., title=\"Condition\")\n",
    "\n",
    "# plt.savefig(plot_path + \"haber_boxes_blue.svg\", format=\"svg\", bbox_inches=\"tight\")\n",
    "# plt.savefig(plot_path + \"haber_boxes_blue.png\", format=\"png\", bbox_inches=\"tight\")\n",
    "\n",
    "plt.show()"
   ],
   "metadata": {
    "collapsed": false,
    "pycharm": {
     "name": "#%%\n"
    }
   }
  },
  {
   "cell_type": "markdown",
   "source": [
    "Analyze cerebellum data:\n",
    "Apply scCODA for every cell type set as the reference."
   ],
   "metadata": {
    "collapsed": false,
    "pycharm": {
     "name": "#%% md\n"
    }
   }
  },
  {
   "cell_type": "code",
   "execution_count": 4,
   "outputs": [
    {
     "name": "stdout",
     "output_type": "stream",
     "text": [
      "Reference: microglia 1\n",
      "MCMC sampling finished. (58.335 sec)\n",
      "Acceptance rate: 42.9%\n",
      "Reference: microglia 2\n",
      "MCMC sampling finished. (57.043 sec)\n",
      "Acceptance rate: 41.1%\n",
      "Reference: microglia 3\n",
      "MCMC sampling finished. (54.253 sec)\n",
      "Acceptance rate: 11.2%\n"
     ]
    }
   ],
   "source": [
    "# cerebellum\n",
    "res_cer = []\n",
    "effects_cer = pd.DataFrame(index=data_cer.var.index,\n",
    "                       columns=data_cer.var.index)\n",
    "\n",
    "for ct in data_cer.var.index:\n",
    "    print(f\"Reference: {ct}\")\n",
    "    \n",
    "    model = mod.CompositionalAnalysis(data=data_cer, formula=\"mouse_type\", baseline_index=ct)\n",
    "    results = model.sample_hmc()\n",
    "    _, effect_df = results.summary_prepare()\n",
    "    res_cer.append(results)\n",
    "    effects_cer[ct] = effect_df.loc[:, \"Final Parameter\"].array\n",
    "  "
   ],
   "metadata": {
    "collapsed": false,
    "pycharm": {
     "name": "#%%\n"
    }
   }
  },
  {
   "cell_type": "code",
   "execution_count": 5,
   "outputs": [
    {
     "name": "stdout",
     "output_type": "stream",
     "text": [
      "             microglia 1  microglia 2  microglia 3\n",
      "microglia 1       0.0000     6.505539     0.000000\n",
      "microglia 2       0.0000     0.000000     8.424599\n",
      "microglia 3      -0.0031     0.000000     0.000000\n"
     ]
    }
   ],
   "source": [
    "# Column: Reference category\n",
    "# Row: Effect\n",
    "print(effects_cer)\n",
    "    "
   ],
   "metadata": {
    "collapsed": false,
    "pycharm": {
     "name": "#%%\n"
    }
   }
  },
  {
   "cell_type": "markdown",
   "source": [
    "Now with cortex data:"
   ],
   "metadata": {
    "collapsed": false,
    "pycharm": {
     "name": "#%% md\n"
    }
   }
  },
  {
   "cell_type": "code",
   "execution_count": 6,
   "outputs": [
    {
     "name": "stdout",
     "output_type": "stream",
     "text": [
      "Reference: microglia 1\n",
      "Zero counts encountered in data! Added a pseudocount of 0.5.\n",
      "MCMC sampling finished. (56.590 sec)\n",
      "Acceptance rate: 40.9%\n",
      "Reference: microglia 2\n",
      "Zero counts encountered in data! Added a pseudocount of 0.5.\n",
      "MCMC sampling finished. (55.958 sec)\n",
      "Acceptance rate: 36.2%\n",
      "Reference: microglia 3\n",
      "Zero counts encountered in data! Added a pseudocount of 0.5.\n",
      "MCMC sampling finished. (53.728 sec)\n",
      "Acceptance rate: 0.0%\n"
     ]
    }
   ],
   "source": [
    "# cortex\n",
    "res_cor = []\n",
    "effects_cor = pd.DataFrame(index=data_cer.var.index,\n",
    "                         columns=data_cer.var.index)\n",
    "\n",
    "for ct in data_cer.var.index:\n",
    "    print(f\"Reference: {ct}\")\n",
    "    \n",
    "    model = mod.CompositionalAnalysis(data=data_cor, formula=\"mouse_type\", baseline_index=ct)\n",
    "    results = model.sample_hmc()\n",
    "    _, effect_df = results.summary_prepare()\n",
    "    res_cor.append(results)\n",
    "    effects_cor[ct] = effect_df.loc[:, \"Final Parameter\"].array\n",
    "    "
   ],
   "metadata": {
    "collapsed": false,
    "pycharm": {
     "name": "#%%\n"
    }
   }
  },
  {
   "cell_type": "code",
   "execution_count": 7,
   "outputs": [
    {
     "name": "stdout",
     "output_type": "stream",
     "text": [
      "             microglia 1  microglia 2  microglia 3\n",
      "microglia 1     0.000000     9.937138     7.667978\n",
      "microglia 2    -1.806734     0.000000    16.766121\n",
      "microglia 3    -2.733447    -1.695900     0.000000\n"
     ]
    }
   ],
   "source": [
    "# Column: Reference category\n",
    "# Row: Effect\n",
    "print(effects_cor)\n"
   ],
   "metadata": {
    "collapsed": false,
    "pycharm": {
     "name": "#%%\n"
    }
   }
  },
  {
   "cell_type": "markdown",
   "source": [
    "Trying out: Add pseudocount of 10 to all entries\n",
    "--> This really improves the results (acceptable inc.prob in all but one case)"
   ],
   "metadata": {
    "collapsed": false,
    "pycharm": {
     "name": "#%% md\n",
     "is_executing": false
    }
   }
  },
  {
   "cell_type": "code",
   "execution_count": 8,
   "outputs": [
    {
     "name": "stdout",
     "output_type": "stream",
     "text": [
      "[[719.  15.  12.]\n",
      " [725.  17.  16.]\n",
      " [459.  13.  12.]\n",
      " [434.  13.  14.]]\n",
      "Reference: microglia 1\n",
      "MCMC sampling finished. (55.167 sec)\n",
      "Acceptance rate: 52.5%\n",
      "Reference: microglia 2\n",
      "MCMC sampling finished. (55.719 sec)\n",
      "Acceptance rate: 38.7%\n",
      "Reference: microglia 3\n",
      "MCMC sampling finished. (61.862 sec)\n",
      "Acceptance rate: 56.5%\n"
     ]
    }
   ],
   "source": [
    "# cesebellum with pseudocount\n",
    "data_cer_10 = data_cer\n",
    "data_cer_10.X = data_cer_10.X + 10\n",
    "print(data_cer_10.X)\n",
    "\n",
    "res_cer_10 = []\n",
    "effects_cer_10 = pd.DataFrame(index=data_cer_10.var.index,\n",
    "                       columns=data_cer_10.var.index)\n",
    "\n",
    "for ct in data_cer_10.var.index:\n",
    "    print(f\"Reference: {ct}\")\n",
    "    \n",
    "    model = mod.CompositionalAnalysis(data=data_cer_10, formula=\"mouse_type\", baseline_index=ct)\n",
    "    results = model.sample_hmc()\n",
    "    _, effect_df = results.summary_prepare()\n",
    "    res_cer_10.append(results)\n",
    "    effects_cer_10[ct] = effect_df.loc[:, \"Final Parameter\"].array\n",
    "  \n"
   ],
   "metadata": {
    "collapsed": false,
    "pycharm": {
     "name": "#%%\n"
    }
   }
  },
  {
   "cell_type": "code",
   "execution_count": 9,
   "outputs": [
    {
     "name": "stdout",
     "output_type": "stream",
     "text": [
      "             microglia 1  microglia 2  microglia 3\n",
      "microglia 1          0.0     0.000000          0.0\n",
      "microglia 2          0.0     0.000000          0.0\n",
      "microglia 3          0.0     4.199699          0.0\n"
     ]
    }
   ],
   "source": [
    "# Column: Reference category\n",
    "# Row: Effect\n",
    "print(effects_cer_10)"
   ],
   "metadata": {
    "collapsed": false,
    "pycharm": {
     "name": "#%%\n"
    }
   }
  },
  {
   "cell_type": "code",
   "execution_count": 10,
   "outputs": [
    {
     "name": "stdout",
     "output_type": "stream",
     "text": [
      "[[844.  29.  69.]\n",
      " [804.  26. 110.]\n",
      " [422.  10.  10.]\n",
      " [591.  11.  11.]]\n",
      "Reference: microglia 1\n",
      "MCMC sampling finished. (59.646 sec)\n",
      "Acceptance rate: 54.3%\n",
      "Reference: microglia 2\n",
      "MCMC sampling finished. (53.648 sec)\n",
      "Acceptance rate: 53.8%\n",
      "Reference: microglia 3\n",
      "MCMC sampling finished. (52.077 sec)\n",
      "Acceptance rate: 60.6%\n"
     ]
    }
   ],
   "source": [
    "# Cortex with pseudocount\n",
    "data_cor_10 = data_cor\n",
    "data_cor_10.X = data_cor_10.X + 10\n",
    "print(data_cor_10.X)\n",
    "\n",
    "res_cor_10 = []\n",
    "effects_cor_10 = pd.DataFrame(index=data_cor_10.var.index,\n",
    "                       columns=data_cor_10.var.index)\n",
    "\n",
    "for ct in data_cor_10.var.index:\n",
    "    print(f\"Reference: {ct}\")\n",
    "    \n",
    "    model = mod.CompositionalAnalysis(data=data_cor_10, formula=\"mouse_type\", baseline_index=ct)\n",
    "    results = model.sample_hmc()\n",
    "    _, effect_df = results.summary_prepare()\n",
    "    res_cor_10.append(results)\n",
    "    effects_cor_10[ct] = effect_df.loc[:, \"Final Parameter\"].array\n",
    "  \n"
   ],
   "metadata": {
    "collapsed": false,
    "pycharm": {
     "name": "#%%\n"
    }
   }
  },
  {
   "cell_type": "code",
   "execution_count": 11,
   "outputs": [
    {
     "name": "stdout",
     "output_type": "stream",
     "text": [
      "             microglia 1  microglia 2  microglia 3\n",
      "microglia 1     0.000000     0.702357     1.427117\n",
      "microglia 2     0.000000     0.000000     1.076266\n",
      "microglia 3    -1.440134    -1.261855     0.000000\n"
     ]
    }
   ],
   "source": [
    "# Column: Reference category\n",
    "# Row: Effect\n",
    "print(effects_cor_10)"
   ],
   "metadata": {
    "collapsed": false,
    "pycharm": {
     "name": "#%%\n"
    }
   }
  }
 ],
 "metadata": {
  "kernelspec": {
   "name": "python3",
   "language": "python",
   "display_name": "Python 3"
  },
  "language_info": {
   "codemirror_mode": {
    "name": "ipython",
    "version": 2
   },
   "file_extension": ".py",
   "mimetype": "text/x-python",
   "name": "python",
   "nbconvert_exporter": "python",
   "pygments_lexer": "ipython2",
   "version": "2.7.6"
  }
 },
 "nbformat": 4,
 "nbformat_minor": 0
}