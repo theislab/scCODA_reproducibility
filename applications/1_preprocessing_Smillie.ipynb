{
 "cells": [
  {
   "cell_type": "code",
   "execution_count": 2,
   "metadata": {
    "collapsed": false,
    "pycharm": {
     "name": "#%%\n"
    }
   },
   "outputs": [],
   "source": [
    "import numpy as np\n",
    "import pandas as pd\n",
    "import re"
   ]
  },
  {
   "cell_type": "markdown",
   "metadata": {
    "pycharm": {
     "name": "#%% md\n"
    }
   },
   "source": [
    "# Introduction\n",
    "\n",
    "In this notebook, we examine publicly available data of Smillie et al (2019), Cell. The purpose is to determine compositional changes using our scCODA model in the three conditions (Healthy, Non-inflamed, Inflamed). \n",
    "\n",
    "We perform the following steps:\n",
    "1. Load the data\n",
    "2. Preprocess data"
   ]
  },
  {
   "cell_type": "markdown",
   "metadata": {
    "pycharm": {
     "name": "#%% md\n"
    }
   },
   "source": [
    "# Read the data"
   ]
  },
  {
   "cell_type": "code",
   "execution_count": 8,
   "metadata": {
    "collapsed": true,
    "pycharm": {
     "name": "#%%\n"
    }
   },
   "outputs": [],
   "source": [
    "data_path = './data/'"
   ]
  },
  {
   "cell_type": "markdown",
   "metadata": {
    "pycharm": {
     "name": "#%% md\n"
    }
   },
   "source": [
    "Read meta data. \n",
    "The data were downloaded from Single Cell Portal (SCP259).\n",
    "The project contains also mtx-files, but we are only interested in the metadata."
   ]
  },
  {
   "cell_type": "code",
   "execution_count": 9,
   "metadata": {
    "collapsed": true,
    "pycharm": {
     "name": "#%%\n"
    }
   },
   "outputs": [],
   "source": [
    "meta = pd.read_table(data_path + 'all.meta2.txt', sep='\\t')"
   ]
  },
  {
   "cell_type": "code",
   "execution_count": 10,
   "metadata": {
    "collapsed": true,
    "pycharm": {
     "name": "#%%\n"
    }
   },
   "outputs": [],
   "source": [
    "meta = meta.drop([0])"
   ]
  },
  {
   "cell_type": "code",
   "execution_count": 11,
   "metadata": {
    "collapsed": false,
    "pycharm": {
     "name": "#%%\n"
    }
   },
   "outputs": [
    {
     "data": {
      "text/plain": [
       "(365492, 8)"
      ]
     },
     "execution_count": 11,
     "metadata": {},
     "output_type": "execute_result"
    }
   ],
   "source": [
    "meta.shape"
   ]
  },
  {
   "cell_type": "code",
   "execution_count": 12,
   "metadata": {
    "collapsed": false,
    "pycharm": {
     "name": "#%%\n"
    }
   },
   "outputs": [
    {
     "data": {
      "text/html": [
       "<div>\n",
       "<style scoped>\n",
       "    .dataframe tbody tr th:only-of-type {\n",
       "        vertical-align: middle;\n",
       "    }\n",
       "\n",
       "    .dataframe tbody tr th {\n",
       "        vertical-align: top;\n",
       "    }\n",
       "\n",
       "    .dataframe thead th {\n",
       "        text-align: right;\n",
       "    }\n",
       "</style>\n",
       "<table border=\"1\" class=\"dataframe\">\n",
       "  <thead>\n",
       "    <tr style=\"text-align: right;\">\n",
       "      <th></th>\n",
       "      <th>NAME</th>\n",
       "      <th>Cluster</th>\n",
       "      <th>nGene</th>\n",
       "      <th>nUMI</th>\n",
       "      <th>Subject</th>\n",
       "      <th>Health</th>\n",
       "      <th>Location</th>\n",
       "      <th>Sample</th>\n",
       "    </tr>\n",
       "  </thead>\n",
       "  <tbody>\n",
       "    <tr>\n",
       "      <th>1</th>\n",
       "      <td>N7.EpiA.AAACATACACACTG</td>\n",
       "      <td>TA 1</td>\n",
       "      <td>328</td>\n",
       "      <td>891</td>\n",
       "      <td>N7</td>\n",
       "      <td>Non-inflamed</td>\n",
       "      <td>Epi</td>\n",
       "      <td>N7.EpiA</td>\n",
       "    </tr>\n",
       "    <tr>\n",
       "      <th>2</th>\n",
       "      <td>N7.EpiA.AAACCGTGCATCAG</td>\n",
       "      <td>TA 1</td>\n",
       "      <td>257</td>\n",
       "      <td>663</td>\n",
       "      <td>N7</td>\n",
       "      <td>Non-inflamed</td>\n",
       "      <td>Epi</td>\n",
       "      <td>N7.EpiA</td>\n",
       "    </tr>\n",
       "    <tr>\n",
       "      <th>3</th>\n",
       "      <td>N7.EpiA.AAACGCACAATCGC</td>\n",
       "      <td>TA 2</td>\n",
       "      <td>300</td>\n",
       "      <td>639</td>\n",
       "      <td>N7</td>\n",
       "      <td>Non-inflamed</td>\n",
       "      <td>Epi</td>\n",
       "      <td>N7.EpiA</td>\n",
       "    </tr>\n",
       "    <tr>\n",
       "      <th>4</th>\n",
       "      <td>N7.EpiA.AAAGATCTAACCGT</td>\n",
       "      <td>Enterocyte Progenitors</td>\n",
       "      <td>250</td>\n",
       "      <td>649</td>\n",
       "      <td>N7</td>\n",
       "      <td>Non-inflamed</td>\n",
       "      <td>Epi</td>\n",
       "      <td>N7.EpiA</td>\n",
       "    </tr>\n",
       "    <tr>\n",
       "      <th>5</th>\n",
       "      <td>N7.EpiA.AAAGATCTAGGCGA</td>\n",
       "      <td>Enterocyte Progenitors</td>\n",
       "      <td>284</td>\n",
       "      <td>769</td>\n",
       "      <td>N7</td>\n",
       "      <td>Non-inflamed</td>\n",
       "      <td>Epi</td>\n",
       "      <td>N7.EpiA</td>\n",
       "    </tr>\n",
       "    <tr>\n",
       "      <th>6</th>\n",
       "      <td>N7.EpiA.AAAGCCTGCTCGAA</td>\n",
       "      <td>Enterocyte Progenitors</td>\n",
       "      <td>339</td>\n",
       "      <td>951</td>\n",
       "      <td>N7</td>\n",
       "      <td>Non-inflamed</td>\n",
       "      <td>Epi</td>\n",
       "      <td>N7.EpiA</td>\n",
       "    </tr>\n",
       "    <tr>\n",
       "      <th>7</th>\n",
       "      <td>N7.EpiA.AAATCAACATCACG</td>\n",
       "      <td>TA 1</td>\n",
       "      <td>262</td>\n",
       "      <td>600</td>\n",
       "      <td>N7</td>\n",
       "      <td>Non-inflamed</td>\n",
       "      <td>Epi</td>\n",
       "      <td>N7.EpiA</td>\n",
       "    </tr>\n",
       "    <tr>\n",
       "      <th>8</th>\n",
       "      <td>N7.EpiA.AAATCAACCTTGGA</td>\n",
       "      <td>Immature Goblet</td>\n",
       "      <td>308</td>\n",
       "      <td>976</td>\n",
       "      <td>N7</td>\n",
       "      <td>Non-inflamed</td>\n",
       "      <td>Epi</td>\n",
       "      <td>N7.EpiA</td>\n",
       "    </tr>\n",
       "    <tr>\n",
       "      <th>9</th>\n",
       "      <td>N7.EpiA.AAATCATGGAAAGT</td>\n",
       "      <td>Enterocyte Progenitors</td>\n",
       "      <td>316</td>\n",
       "      <td>934</td>\n",
       "      <td>N7</td>\n",
       "      <td>Non-inflamed</td>\n",
       "      <td>Epi</td>\n",
       "      <td>N7.EpiA</td>\n",
       "    </tr>\n",
       "    <tr>\n",
       "      <th>10</th>\n",
       "      <td>N7.EpiA.AAATCCCTCACTTT</td>\n",
       "      <td>Enterocyte Progenitors</td>\n",
       "      <td>267</td>\n",
       "      <td>655</td>\n",
       "      <td>N7</td>\n",
       "      <td>Non-inflamed</td>\n",
       "      <td>Epi</td>\n",
       "      <td>N7.EpiA</td>\n",
       "    </tr>\n",
       "  </tbody>\n",
       "</table>\n",
       "</div>"
      ],
      "text/plain": [
       "                      NAME                 Cluster nGene nUMI Subject  \\\n",
       "1   N7.EpiA.AAACATACACACTG                    TA 1   328  891      N7   \n",
       "2   N7.EpiA.AAACCGTGCATCAG                    TA 1   257  663      N7   \n",
       "3   N7.EpiA.AAACGCACAATCGC                    TA 2   300  639      N7   \n",
       "4   N7.EpiA.AAAGATCTAACCGT  Enterocyte Progenitors   250  649      N7   \n",
       "5   N7.EpiA.AAAGATCTAGGCGA  Enterocyte Progenitors   284  769      N7   \n",
       "6   N7.EpiA.AAAGCCTGCTCGAA  Enterocyte Progenitors   339  951      N7   \n",
       "7   N7.EpiA.AAATCAACATCACG                    TA 1   262  600      N7   \n",
       "8   N7.EpiA.AAATCAACCTTGGA         Immature Goblet   308  976      N7   \n",
       "9   N7.EpiA.AAATCATGGAAAGT  Enterocyte Progenitors   316  934      N7   \n",
       "10  N7.EpiA.AAATCCCTCACTTT  Enterocyte Progenitors   267  655      N7   \n",
       "\n",
       "          Health Location   Sample  \n",
       "1   Non-inflamed      Epi  N7.EpiA  \n",
       "2   Non-inflamed      Epi  N7.EpiA  \n",
       "3   Non-inflamed      Epi  N7.EpiA  \n",
       "4   Non-inflamed      Epi  N7.EpiA  \n",
       "5   Non-inflamed      Epi  N7.EpiA  \n",
       "6   Non-inflamed      Epi  N7.EpiA  \n",
       "7   Non-inflamed      Epi  N7.EpiA  \n",
       "8   Non-inflamed      Epi  N7.EpiA  \n",
       "9   Non-inflamed      Epi  N7.EpiA  \n",
       "10  Non-inflamed      Epi  N7.EpiA  "
      ]
     },
     "execution_count": 12,
     "metadata": {},
     "output_type": "execute_result"
    }
   ],
   "source": [
    "meta.head(10)"
   ]
  },
  {
   "cell_type": "markdown",
   "metadata": {
    "pycharm": {
     "name": "#%% md\n"
    }
   },
   "source": [
    "Set index to \"NAME\" column."
   ]
  },
  {
   "cell_type": "code",
   "execution_count": 13,
   "metadata": {
    "collapsed": true,
    "pycharm": {
     "name": "#%%\n"
    }
   },
   "outputs": [],
   "source": [
    "meta.index = meta['NAME']"
   ]
  },
  {
   "cell_type": "code",
   "execution_count": 14,
   "metadata": {
    "collapsed": true,
    "pycharm": {
     "name": "#%%\n"
    }
   },
   "outputs": [],
   "source": [
    "meta = meta.drop(columns = ['NAME'])"
   ]
  },
  {
   "cell_type": "code",
   "execution_count": 15,
   "metadata": {
    "collapsed": false,
    "pycharm": {
     "name": "#%%\n"
    }
   },
   "outputs": [
    {
     "data": {
      "text/html": [
       "<div>\n",
       "<style scoped>\n",
       "    .dataframe tbody tr th:only-of-type {\n",
       "        vertical-align: middle;\n",
       "    }\n",
       "\n",
       "    .dataframe tbody tr th {\n",
       "        vertical-align: top;\n",
       "    }\n",
       "\n",
       "    .dataframe thead th {\n",
       "        text-align: right;\n",
       "    }\n",
       "</style>\n",
       "<table border=\"1\" class=\"dataframe\">\n",
       "  <thead>\n",
       "    <tr style=\"text-align: right;\">\n",
       "      <th></th>\n",
       "      <th>Cluster</th>\n",
       "      <th>nGene</th>\n",
       "      <th>nUMI</th>\n",
       "      <th>Subject</th>\n",
       "      <th>Health</th>\n",
       "      <th>Location</th>\n",
       "      <th>Sample</th>\n",
       "    </tr>\n",
       "    <tr>\n",
       "      <th>NAME</th>\n",
       "      <th></th>\n",
       "      <th></th>\n",
       "      <th></th>\n",
       "      <th></th>\n",
       "      <th></th>\n",
       "      <th></th>\n",
       "      <th></th>\n",
       "    </tr>\n",
       "  </thead>\n",
       "  <tbody>\n",
       "    <tr>\n",
       "      <th>N7.EpiA.AAACATACACACTG</th>\n",
       "      <td>TA 1</td>\n",
       "      <td>328</td>\n",
       "      <td>891</td>\n",
       "      <td>N7</td>\n",
       "      <td>Non-inflamed</td>\n",
       "      <td>Epi</td>\n",
       "      <td>N7.EpiA</td>\n",
       "    </tr>\n",
       "    <tr>\n",
       "      <th>N7.EpiA.AAACCGTGCATCAG</th>\n",
       "      <td>TA 1</td>\n",
       "      <td>257</td>\n",
       "      <td>663</td>\n",
       "      <td>N7</td>\n",
       "      <td>Non-inflamed</td>\n",
       "      <td>Epi</td>\n",
       "      <td>N7.EpiA</td>\n",
       "    </tr>\n",
       "    <tr>\n",
       "      <th>N7.EpiA.AAACGCACAATCGC</th>\n",
       "      <td>TA 2</td>\n",
       "      <td>300</td>\n",
       "      <td>639</td>\n",
       "      <td>N7</td>\n",
       "      <td>Non-inflamed</td>\n",
       "      <td>Epi</td>\n",
       "      <td>N7.EpiA</td>\n",
       "    </tr>\n",
       "    <tr>\n",
       "      <th>N7.EpiA.AAAGATCTAACCGT</th>\n",
       "      <td>Enterocyte Progenitors</td>\n",
       "      <td>250</td>\n",
       "      <td>649</td>\n",
       "      <td>N7</td>\n",
       "      <td>Non-inflamed</td>\n",
       "      <td>Epi</td>\n",
       "      <td>N7.EpiA</td>\n",
       "    </tr>\n",
       "    <tr>\n",
       "      <th>N7.EpiA.AAAGATCTAGGCGA</th>\n",
       "      <td>Enterocyte Progenitors</td>\n",
       "      <td>284</td>\n",
       "      <td>769</td>\n",
       "      <td>N7</td>\n",
       "      <td>Non-inflamed</td>\n",
       "      <td>Epi</td>\n",
       "      <td>N7.EpiA</td>\n",
       "    </tr>\n",
       "    <tr>\n",
       "      <th>N7.EpiA.AAAGCCTGCTCGAA</th>\n",
       "      <td>Enterocyte Progenitors</td>\n",
       "      <td>339</td>\n",
       "      <td>951</td>\n",
       "      <td>N7</td>\n",
       "      <td>Non-inflamed</td>\n",
       "      <td>Epi</td>\n",
       "      <td>N7.EpiA</td>\n",
       "    </tr>\n",
       "    <tr>\n",
       "      <th>N7.EpiA.AAATCAACATCACG</th>\n",
       "      <td>TA 1</td>\n",
       "      <td>262</td>\n",
       "      <td>600</td>\n",
       "      <td>N7</td>\n",
       "      <td>Non-inflamed</td>\n",
       "      <td>Epi</td>\n",
       "      <td>N7.EpiA</td>\n",
       "    </tr>\n",
       "    <tr>\n",
       "      <th>N7.EpiA.AAATCAACCTTGGA</th>\n",
       "      <td>Immature Goblet</td>\n",
       "      <td>308</td>\n",
       "      <td>976</td>\n",
       "      <td>N7</td>\n",
       "      <td>Non-inflamed</td>\n",
       "      <td>Epi</td>\n",
       "      <td>N7.EpiA</td>\n",
       "    </tr>\n",
       "    <tr>\n",
       "      <th>N7.EpiA.AAATCATGGAAAGT</th>\n",
       "      <td>Enterocyte Progenitors</td>\n",
       "      <td>316</td>\n",
       "      <td>934</td>\n",
       "      <td>N7</td>\n",
       "      <td>Non-inflamed</td>\n",
       "      <td>Epi</td>\n",
       "      <td>N7.EpiA</td>\n",
       "    </tr>\n",
       "    <tr>\n",
       "      <th>N7.EpiA.AAATCCCTCACTTT</th>\n",
       "      <td>Enterocyte Progenitors</td>\n",
       "      <td>267</td>\n",
       "      <td>655</td>\n",
       "      <td>N7</td>\n",
       "      <td>Non-inflamed</td>\n",
       "      <td>Epi</td>\n",
       "      <td>N7.EpiA</td>\n",
       "    </tr>\n",
       "  </tbody>\n",
       "</table>\n",
       "</div>"
      ],
      "text/plain": [
       "                                       Cluster nGene nUMI Subject  \\\n",
       "NAME                                                                \n",
       "N7.EpiA.AAACATACACACTG                    TA 1   328  891      N7   \n",
       "N7.EpiA.AAACCGTGCATCAG                    TA 1   257  663      N7   \n",
       "N7.EpiA.AAACGCACAATCGC                    TA 2   300  639      N7   \n",
       "N7.EpiA.AAAGATCTAACCGT  Enterocyte Progenitors   250  649      N7   \n",
       "N7.EpiA.AAAGATCTAGGCGA  Enterocyte Progenitors   284  769      N7   \n",
       "N7.EpiA.AAAGCCTGCTCGAA  Enterocyte Progenitors   339  951      N7   \n",
       "N7.EpiA.AAATCAACATCACG                    TA 1   262  600      N7   \n",
       "N7.EpiA.AAATCAACCTTGGA         Immature Goblet   308  976      N7   \n",
       "N7.EpiA.AAATCATGGAAAGT  Enterocyte Progenitors   316  934      N7   \n",
       "N7.EpiA.AAATCCCTCACTTT  Enterocyte Progenitors   267  655      N7   \n",
       "\n",
       "                              Health Location   Sample  \n",
       "NAME                                                    \n",
       "N7.EpiA.AAACATACACACTG  Non-inflamed      Epi  N7.EpiA  \n",
       "N7.EpiA.AAACCGTGCATCAG  Non-inflamed      Epi  N7.EpiA  \n",
       "N7.EpiA.AAACGCACAATCGC  Non-inflamed      Epi  N7.EpiA  \n",
       "N7.EpiA.AAAGATCTAACCGT  Non-inflamed      Epi  N7.EpiA  \n",
       "N7.EpiA.AAAGATCTAGGCGA  Non-inflamed      Epi  N7.EpiA  \n",
       "N7.EpiA.AAAGCCTGCTCGAA  Non-inflamed      Epi  N7.EpiA  \n",
       "N7.EpiA.AAATCAACATCACG  Non-inflamed      Epi  N7.EpiA  \n",
       "N7.EpiA.AAATCAACCTTGGA  Non-inflamed      Epi  N7.EpiA  \n",
       "N7.EpiA.AAATCATGGAAAGT  Non-inflamed      Epi  N7.EpiA  \n",
       "N7.EpiA.AAATCCCTCACTTT  Non-inflamed      Epi  N7.EpiA  "
      ]
     },
     "execution_count": 15,
     "metadata": {},
     "output_type": "execute_result"
    }
   ],
   "source": [
    "meta.head(10)"
   ]
  },
  {
   "cell_type": "markdown",
   "metadata": {
    "pycharm": {
     "name": "#%% md\n"
    }
   },
   "source": [
    "# Adjust metadata according to manuscript"
   ]
  },
  {
   "cell_type": "code",
   "execution_count": 16,
   "metadata": {
    "collapsed": false,
    "pycharm": {
     "name": "#%%\n"
    }
   },
   "outputs": [
    {
     "data": {
      "text/plain": [
       "N58.LPB1      16723\n",
       "N111.LPB1     13175\n",
       "N661.LPA2     12345\n",
       "N661.LPA1     12253\n",
       "N661.LPB1      9450\n",
       "              ...  \n",
       "N106.EpiA       135\n",
       "N52.EpiA2b      109\n",
       "N52.EpiA2a      108\n",
       "N58.EpiB2        33\n",
       "N49.EpiA         21\n",
       "Name: Sample, Length: 133, dtype: int64"
      ]
     },
     "execution_count": 16,
     "metadata": {},
     "output_type": "execute_result"
    }
   ],
   "source": [
    "meta['Sample'].value_counts()"
   ]
  },
  {
   "cell_type": "code",
   "execution_count": 17,
   "metadata": {
    "collapsed": false,
    "pycharm": {
     "name": "#%%\n"
    }
   },
   "outputs": [
    {
     "data": {
      "text/plain": [
       "LP     266286\n",
       "Epi     99206\n",
       "Name: Location, dtype: int64"
      ]
     },
     "execution_count": 17,
     "metadata": {},
     "output_type": "execute_result"
    }
   ],
   "source": [
    "meta['Location'].value_counts()"
   ]
  },
  {
   "cell_type": "code",
   "execution_count": 18,
   "metadata": {
    "collapsed": false,
    "pycharm": {
     "name": "#%%\n"
    }
   },
   "outputs": [
    {
     "data": {
      "text/plain": [
       "Non-inflamed    130263\n",
       "Inflamed        125119\n",
       "Healthy         110110\n",
       "Name: Health, dtype: int64"
      ]
     },
     "execution_count": 18,
     "metadata": {},
     "output_type": "execute_result"
    }
   ],
   "source": [
    "meta['Health'].value_counts()"
   ]
  },
  {
   "cell_type": "code",
   "execution_count": 19,
   "metadata": {
    "collapsed": false,
    "pycharm": {
     "name": "#%%\n"
    }
   },
   "outputs": [
    {
     "data": {
      "text/plain": [
       "30"
      ]
     },
     "execution_count": 19,
     "metadata": {},
     "output_type": "execute_result"
    }
   ],
   "source": [
    "len(np.unique(meta['Subject']))"
   ]
  },
  {
   "cell_type": "code",
   "execution_count": 20,
   "metadata": {
    "collapsed": false,
    "pycharm": {
     "name": "#%%\n"
    }
   },
   "outputs": [
    {
     "data": {
      "text/html": [
       "<div>\n",
       "<style scoped>\n",
       "    .dataframe tbody tr th:only-of-type {\n",
       "        vertical-align: middle;\n",
       "    }\n",
       "\n",
       "    .dataframe tbody tr th {\n",
       "        vertical-align: top;\n",
       "    }\n",
       "\n",
       "    .dataframe thead th {\n",
       "        text-align: right;\n",
       "    }\n",
       "</style>\n",
       "<table border=\"1\" class=\"dataframe\">\n",
       "  <thead>\n",
       "    <tr style=\"text-align: right;\">\n",
       "      <th>Health</th>\n",
       "      <th>Healthy</th>\n",
       "      <th>Inflamed</th>\n",
       "      <th>Non-inflamed</th>\n",
       "    </tr>\n",
       "    <tr>\n",
       "      <th>Subject</th>\n",
       "      <th></th>\n",
       "      <th></th>\n",
       "      <th></th>\n",
       "    </tr>\n",
       "  </thead>\n",
       "  <tbody>\n",
       "    <tr>\n",
       "      <th>N10</th>\n",
       "      <td>16643</td>\n",
       "      <td>0</td>\n",
       "      <td>0</td>\n",
       "    </tr>\n",
       "    <tr>\n",
       "      <th>N106</th>\n",
       "      <td>0</td>\n",
       "      <td>4848</td>\n",
       "      <td>2694</td>\n",
       "    </tr>\n",
       "    <tr>\n",
       "      <th>N11</th>\n",
       "      <td>6799</td>\n",
       "      <td>0</td>\n",
       "      <td>0</td>\n",
       "    </tr>\n",
       "    <tr>\n",
       "      <th>N110</th>\n",
       "      <td>0</td>\n",
       "      <td>3834</td>\n",
       "      <td>6570</td>\n",
       "    </tr>\n",
       "    <tr>\n",
       "      <th>N111</th>\n",
       "      <td>0</td>\n",
       "      <td>19648</td>\n",
       "      <td>5738</td>\n",
       "    </tr>\n",
       "    <tr>\n",
       "      <th>N12</th>\n",
       "      <td>0</td>\n",
       "      <td>1355</td>\n",
       "      <td>1009</td>\n",
       "    </tr>\n",
       "    <tr>\n",
       "      <th>N13</th>\n",
       "      <td>4695</td>\n",
       "      <td>0</td>\n",
       "      <td>0</td>\n",
       "    </tr>\n",
       "    <tr>\n",
       "      <th>N14</th>\n",
       "      <td>0</td>\n",
       "      <td>2276</td>\n",
       "      <td>2676</td>\n",
       "    </tr>\n",
       "    <tr>\n",
       "      <th>N15</th>\n",
       "      <td>10649</td>\n",
       "      <td>0</td>\n",
       "      <td>0</td>\n",
       "    </tr>\n",
       "    <tr>\n",
       "      <th>N16</th>\n",
       "      <td>5417</td>\n",
       "      <td>0</td>\n",
       "      <td>0</td>\n",
       "    </tr>\n",
       "    <tr>\n",
       "      <th>N17</th>\n",
       "      <td>5781</td>\n",
       "      <td>0</td>\n",
       "      <td>0</td>\n",
       "    </tr>\n",
       "    <tr>\n",
       "      <th>N18</th>\n",
       "      <td>8059</td>\n",
       "      <td>0</td>\n",
       "      <td>0</td>\n",
       "    </tr>\n",
       "    <tr>\n",
       "      <th>N19</th>\n",
       "      <td>0</td>\n",
       "      <td>2423</td>\n",
       "      <td>4957</td>\n",
       "    </tr>\n",
       "    <tr>\n",
       "      <th>N20</th>\n",
       "      <td>9563</td>\n",
       "      <td>0</td>\n",
       "      <td>0</td>\n",
       "    </tr>\n",
       "    <tr>\n",
       "      <th>N21</th>\n",
       "      <td>6952</td>\n",
       "      <td>0</td>\n",
       "      <td>0</td>\n",
       "    </tr>\n",
       "    <tr>\n",
       "      <th>N23</th>\n",
       "      <td>0</td>\n",
       "      <td>6341</td>\n",
       "      <td>6839</td>\n",
       "    </tr>\n",
       "    <tr>\n",
       "      <th>N24</th>\n",
       "      <td>0</td>\n",
       "      <td>5511</td>\n",
       "      <td>7854</td>\n",
       "    </tr>\n",
       "    <tr>\n",
       "      <th>N26</th>\n",
       "      <td>0</td>\n",
       "      <td>4360</td>\n",
       "      <td>6864</td>\n",
       "    </tr>\n",
       "    <tr>\n",
       "      <th>N44</th>\n",
       "      <td>0</td>\n",
       "      <td>6392</td>\n",
       "      <td>8045</td>\n",
       "    </tr>\n",
       "    <tr>\n",
       "      <th>N46</th>\n",
       "      <td>10317</td>\n",
       "      <td>0</td>\n",
       "      <td>0</td>\n",
       "    </tr>\n",
       "    <tr>\n",
       "      <th>N49</th>\n",
       "      <td>0</td>\n",
       "      <td>4015</td>\n",
       "      <td>4769</td>\n",
       "    </tr>\n",
       "    <tr>\n",
       "      <th>N50</th>\n",
       "      <td>0</td>\n",
       "      <td>4917</td>\n",
       "      <td>5584</td>\n",
       "    </tr>\n",
       "    <tr>\n",
       "      <th>N51</th>\n",
       "      <td>23011</td>\n",
       "      <td>0</td>\n",
       "      <td>0</td>\n",
       "    </tr>\n",
       "    <tr>\n",
       "      <th>N52</th>\n",
       "      <td>0</td>\n",
       "      <td>12901</td>\n",
       "      <td>20429</td>\n",
       "    </tr>\n",
       "    <tr>\n",
       "      <th>N539</th>\n",
       "      <td>0</td>\n",
       "      <td>3345</td>\n",
       "      <td>4449</td>\n",
       "    </tr>\n",
       "    <tr>\n",
       "      <th>N58</th>\n",
       "      <td>0</td>\n",
       "      <td>17599</td>\n",
       "      <td>7667</td>\n",
       "    </tr>\n",
       "    <tr>\n",
       "      <th>N661</th>\n",
       "      <td>0</td>\n",
       "      <td>18589</td>\n",
       "      <td>24598</td>\n",
       "    </tr>\n",
       "    <tr>\n",
       "      <th>N7</th>\n",
       "      <td>0</td>\n",
       "      <td>1833</td>\n",
       "      <td>2613</td>\n",
       "    </tr>\n",
       "    <tr>\n",
       "      <th>N8</th>\n",
       "      <td>2224</td>\n",
       "      <td>0</td>\n",
       "      <td>0</td>\n",
       "    </tr>\n",
       "    <tr>\n",
       "      <th>N9</th>\n",
       "      <td>0</td>\n",
       "      <td>4932</td>\n",
       "      <td>6908</td>\n",
       "    </tr>\n",
       "  </tbody>\n",
       "</table>\n",
       "</div>"
      ],
      "text/plain": [
       "Health   Healthy  Inflamed  Non-inflamed\n",
       "Subject                                 \n",
       "N10        16643         0             0\n",
       "N106           0      4848          2694\n",
       "N11         6799         0             0\n",
       "N110           0      3834          6570\n",
       "N111           0     19648          5738\n",
       "N12            0      1355          1009\n",
       "N13         4695         0             0\n",
       "N14            0      2276          2676\n",
       "N15        10649         0             0\n",
       "N16         5417         0             0\n",
       "N17         5781         0             0\n",
       "N18         8059         0             0\n",
       "N19            0      2423          4957\n",
       "N20         9563         0             0\n",
       "N21         6952         0             0\n",
       "N23            0      6341          6839\n",
       "N24            0      5511          7854\n",
       "N26            0      4360          6864\n",
       "N44            0      6392          8045\n",
       "N46        10317         0             0\n",
       "N49            0      4015          4769\n",
       "N50            0      4917          5584\n",
       "N51        23011         0             0\n",
       "N52            0     12901         20429\n",
       "N539           0      3345          4449\n",
       "N58            0     17599          7667\n",
       "N661           0     18589         24598\n",
       "N7             0      1833          2613\n",
       "N8          2224         0             0\n",
       "N9             0      4932          6908"
      ]
     },
     "execution_count": 20,
     "metadata": {},
     "output_type": "execute_result"
    }
   ],
   "source": [
    "pd.crosstab(meta['Subject'], meta['Health'])"
   ]
  },
  {
   "cell_type": "code",
   "execution_count": 21,
   "metadata": {
    "collapsed": true,
    "pycharm": {
     "name": "#%%\n"
    }
   },
   "outputs": [],
   "source": [
    "health = meta[['Health', 'Subject', 'Sample']]"
   ]
  },
  {
   "cell_type": "code",
   "execution_count": 22,
   "metadata": {
    "collapsed": true,
    "pycharm": {
     "name": "#%%\n"
    }
   },
   "outputs": [],
   "source": [
    "replicates = pd.DataFrame([sample.split('.') for sample in np.unique(meta['Sample'])], \n",
    "                          columns=['Subject', 'Sample'], index= np.unique(meta['Sample']) )"
   ]
  },
  {
   "cell_type": "code",
   "execution_count": 23,
   "metadata": {
    "collapsed": true,
    "pycharm": {
     "name": "#%%\n"
    }
   },
   "outputs": [],
   "source": [
    "replicates['Location']= [re.split('A|B',region)[0] for region in replicates['Sample']]\n",
    "replicates['Replicate'] = [re.split('Epi|LP',region)[1] for region in replicates['Sample']]"
   ]
  },
  {
   "cell_type": "code",
   "execution_count": 24,
   "metadata": {
    "collapsed": false,
    "pycharm": {
     "name": "#%%\n"
    }
   },
   "outputs": [
    {
     "data": {
      "text/html": [
       "<div>\n",
       "<style scoped>\n",
       "    .dataframe tbody tr th:only-of-type {\n",
       "        vertical-align: middle;\n",
       "    }\n",
       "\n",
       "    .dataframe tbody tr th {\n",
       "        vertical-align: top;\n",
       "    }\n",
       "\n",
       "    .dataframe thead th {\n",
       "        text-align: right;\n",
       "    }\n",
       "</style>\n",
       "<table border=\"1\" class=\"dataframe\">\n",
       "  <thead>\n",
       "    <tr style=\"text-align: right;\">\n",
       "      <th></th>\n",
       "      <th>Subject</th>\n",
       "      <th>Sample</th>\n",
       "      <th>Location</th>\n",
       "      <th>Replicate</th>\n",
       "    </tr>\n",
       "  </thead>\n",
       "  <tbody>\n",
       "    <tr>\n",
       "      <th>N10.EpiA</th>\n",
       "      <td>N10</td>\n",
       "      <td>EpiA</td>\n",
       "      <td>Epi</td>\n",
       "      <td>A</td>\n",
       "    </tr>\n",
       "    <tr>\n",
       "      <th>N10.EpiB</th>\n",
       "      <td>N10</td>\n",
       "      <td>EpiB</td>\n",
       "      <td>Epi</td>\n",
       "      <td>B</td>\n",
       "    </tr>\n",
       "    <tr>\n",
       "      <th>N10.LPA</th>\n",
       "      <td>N10</td>\n",
       "      <td>LPA</td>\n",
       "      <td>LP</td>\n",
       "      <td>A</td>\n",
       "    </tr>\n",
       "    <tr>\n",
       "      <th>N10.LPB</th>\n",
       "      <td>N10</td>\n",
       "      <td>LPB</td>\n",
       "      <td>LP</td>\n",
       "      <td>B</td>\n",
       "    </tr>\n",
       "    <tr>\n",
       "      <th>N106.EpiA</th>\n",
       "      <td>N106</td>\n",
       "      <td>EpiA</td>\n",
       "      <td>Epi</td>\n",
       "      <td>A</td>\n",
       "    </tr>\n",
       "    <tr>\n",
       "      <th>...</th>\n",
       "      <td>...</td>\n",
       "      <td>...</td>\n",
       "      <td>...</td>\n",
       "      <td>...</td>\n",
       "    </tr>\n",
       "    <tr>\n",
       "      <th>N8.LPB</th>\n",
       "      <td>N8</td>\n",
       "      <td>LPB</td>\n",
       "      <td>LP</td>\n",
       "      <td>B</td>\n",
       "    </tr>\n",
       "    <tr>\n",
       "      <th>N9.EpiA</th>\n",
       "      <td>N9</td>\n",
       "      <td>EpiA</td>\n",
       "      <td>Epi</td>\n",
       "      <td>A</td>\n",
       "    </tr>\n",
       "    <tr>\n",
       "      <th>N9.EpiB</th>\n",
       "      <td>N9</td>\n",
       "      <td>EpiB</td>\n",
       "      <td>Epi</td>\n",
       "      <td>B</td>\n",
       "    </tr>\n",
       "    <tr>\n",
       "      <th>N9.LPA</th>\n",
       "      <td>N9</td>\n",
       "      <td>LPA</td>\n",
       "      <td>LP</td>\n",
       "      <td>A</td>\n",
       "    </tr>\n",
       "    <tr>\n",
       "      <th>N9.LPB</th>\n",
       "      <td>N9</td>\n",
       "      <td>LPB</td>\n",
       "      <td>LP</td>\n",
       "      <td>B</td>\n",
       "    </tr>\n",
       "  </tbody>\n",
       "</table>\n",
       "<p>133 rows × 4 columns</p>\n",
       "</div>"
      ],
      "text/plain": [
       "          Subject Sample Location Replicate\n",
       "N10.EpiA      N10   EpiA      Epi         A\n",
       "N10.EpiB      N10   EpiB      Epi         B\n",
       "N10.LPA       N10    LPA       LP         A\n",
       "N10.LPB       N10    LPB       LP         B\n",
       "N106.EpiA    N106   EpiA      Epi         A\n",
       "...           ...    ...      ...       ...\n",
       "N8.LPB         N8    LPB       LP         B\n",
       "N9.EpiA        N9   EpiA      Epi         A\n",
       "N9.EpiB        N9   EpiB      Epi         B\n",
       "N9.LPA         N9    LPA       LP         A\n",
       "N9.LPB         N9    LPB       LP         B\n",
       "\n",
       "[133 rows x 4 columns]"
      ]
     },
     "execution_count": 24,
     "metadata": {},
     "output_type": "execute_result"
    }
   ],
   "source": [
    "replicates"
   ]
  },
  {
   "cell_type": "markdown",
   "metadata": {
    "pycharm": {
     "name": "#%% md\n"
    }
   },
   "source": [
    "Merge health status info and replicate info."
   ]
  },
  {
   "cell_type": "code",
   "execution_count": 25,
   "metadata": {
    "collapsed": true,
    "pycharm": {
     "name": "#%%\n"
    }
   },
   "outputs": [],
   "source": [
    "new_meta = replicates.merge(health, how='outer', \n",
    "                            left_index=True, right_on='Sample', suffixes=('', '_y'))"
   ]
  },
  {
   "cell_type": "code",
   "execution_count": 26,
   "metadata": {
    "collapsed": true,
    "pycharm": {
     "name": "#%%\n"
    }
   },
   "outputs": [],
   "source": [
    "new_meta = new_meta.drop(columns = ['Subject_y', 'Sample_y'])"
   ]
  },
  {
   "cell_type": "markdown",
   "metadata": {
    "pycharm": {
     "name": "#%% md\n"
    }
   },
   "source": [
    "Examine the different numbers of repicates per sample."
   ]
  },
  {
   "cell_type": "code",
   "execution_count": 34,
   "metadata": {
    "collapsed": false,
    "pycharm": {
     "name": "#%%\n"
    }
   },
   "outputs": [
    {
     "data": {
      "text/plain": [
       "N52     12\n",
       "N58      8\n",
       "N111     7\n",
       "N44      4\n",
       "N21      4\n",
       "N13      4\n",
       "N18      4\n",
       "N8       4\n",
       "N10      4\n",
       "N9       4\n",
       "N20      4\n",
       "N24      4\n",
       "N50      4\n",
       "N11      4\n",
       "N51      4\n",
       "N14      4\n",
       "N7       4\n",
       "N46      4\n",
       "N17      4\n",
       "N106     4\n",
       "N19      4\n",
       "N16      4\n",
       "N26      4\n",
       "N23      4\n",
       "N15      4\n",
       "N661     4\n",
       "N539     4\n",
       "N12      4\n",
       "N110     3\n",
       "N49      3\n",
       "Name: Subject, dtype: int64"
      ]
     },
     "execution_count": 34,
     "metadata": {},
     "output_type": "execute_result"
    }
   ],
   "source": [
    "replicates['Subject'].value_counts()"
   ]
  },
  {
   "cell_type": "code",
   "execution_count": 27,
   "metadata": {
    "collapsed": false,
    "pycharm": {
     "name": "#%%\n"
    }
   },
   "outputs": [
    {
     "data": {
      "text/html": [
       "<div>\n",
       "<style scoped>\n",
       "    .dataframe tbody tr th:only-of-type {\n",
       "        vertical-align: middle;\n",
       "    }\n",
       "\n",
       "    .dataframe tbody tr th {\n",
       "        vertical-align: top;\n",
       "    }\n",
       "\n",
       "    .dataframe thead th {\n",
       "        text-align: right;\n",
       "    }\n",
       "</style>\n",
       "<table border=\"1\" class=\"dataframe\">\n",
       "  <thead>\n",
       "    <tr style=\"text-align: right;\">\n",
       "      <th></th>\n",
       "      <th>Subject</th>\n",
       "      <th>Sample</th>\n",
       "      <th>Location</th>\n",
       "      <th>Replicate</th>\n",
       "      <th>Health</th>\n",
       "    </tr>\n",
       "    <tr>\n",
       "      <th>NAME</th>\n",
       "      <th></th>\n",
       "      <th></th>\n",
       "      <th></th>\n",
       "      <th></th>\n",
       "      <th></th>\n",
       "    </tr>\n",
       "  </thead>\n",
       "  <tbody>\n",
       "    <tr>\n",
       "      <th>N52.EpiA1a.AAACCTGAGACACTAA</th>\n",
       "      <td>N52</td>\n",
       "      <td>EpiA1a</td>\n",
       "      <td>Epi</td>\n",
       "      <td>A1a</td>\n",
       "      <td>Non-inflamed</td>\n",
       "    </tr>\n",
       "    <tr>\n",
       "      <th>N52.EpiA1b.AAACCTGAGACACTAA</th>\n",
       "      <td>N52</td>\n",
       "      <td>EpiA1b</td>\n",
       "      <td>Epi</td>\n",
       "      <td>A1b</td>\n",
       "      <td>Non-inflamed</td>\n",
       "    </tr>\n",
       "    <tr>\n",
       "      <th>N52.EpiA2a.AAAGATGTCAATAAGG</th>\n",
       "      <td>N52</td>\n",
       "      <td>EpiA2a</td>\n",
       "      <td>Epi</td>\n",
       "      <td>A2a</td>\n",
       "      <td>Non-inflamed</td>\n",
       "    </tr>\n",
       "    <tr>\n",
       "      <th>N52.EpiA2b.AAAGATGTCAATAAGG</th>\n",
       "      <td>N52</td>\n",
       "      <td>EpiA2b</td>\n",
       "      <td>Epi</td>\n",
       "      <td>A2b</td>\n",
       "      <td>Non-inflamed</td>\n",
       "    </tr>\n",
       "    <tr>\n",
       "      <th>N52.LPA1a.AAACCTGCACACTGCG</th>\n",
       "      <td>N52</td>\n",
       "      <td>LPA1a</td>\n",
       "      <td>LP</td>\n",
       "      <td>A1a</td>\n",
       "      <td>Non-inflamed</td>\n",
       "    </tr>\n",
       "    <tr>\n",
       "      <th>N52.LPA1b.AAACCTGAGCTTTGGT</th>\n",
       "      <td>N52</td>\n",
       "      <td>LPA1b</td>\n",
       "      <td>LP</td>\n",
       "      <td>A1b</td>\n",
       "      <td>Non-inflamed</td>\n",
       "    </tr>\n",
       "    <tr>\n",
       "      <th>N52.LPA2a.AAACCTGCAAGTTGTC</th>\n",
       "      <td>N52</td>\n",
       "      <td>LPA2a</td>\n",
       "      <td>LP</td>\n",
       "      <td>A2a</td>\n",
       "      <td>Non-inflamed</td>\n",
       "    </tr>\n",
       "    <tr>\n",
       "      <th>N52.LPA2b.AAACCTGCAAGTTGTC</th>\n",
       "      <td>N52</td>\n",
       "      <td>LPA2b</td>\n",
       "      <td>LP</td>\n",
       "      <td>A2b</td>\n",
       "      <td>Non-inflamed</td>\n",
       "    </tr>\n",
       "    <tr>\n",
       "      <th>N52.LPB1a.AAAGCAAGTGTCCTCT</th>\n",
       "      <td>N52</td>\n",
       "      <td>LPB1a</td>\n",
       "      <td>LP</td>\n",
       "      <td>B1a</td>\n",
       "      <td>Inflamed</td>\n",
       "    </tr>\n",
       "    <tr>\n",
       "      <th>N52.LPB1b.AAAGCAAGTGTCCTCT</th>\n",
       "      <td>N52</td>\n",
       "      <td>LPB1b</td>\n",
       "      <td>LP</td>\n",
       "      <td>B1b</td>\n",
       "      <td>Inflamed</td>\n",
       "    </tr>\n",
       "    <tr>\n",
       "      <th>N52.LPB2a.AACCGCGGTAGCTCCG</th>\n",
       "      <td>N52</td>\n",
       "      <td>LPB2a</td>\n",
       "      <td>LP</td>\n",
       "      <td>B2a</td>\n",
       "      <td>Inflamed</td>\n",
       "    </tr>\n",
       "    <tr>\n",
       "      <th>N52.LPB2b.AACCGCGGTAGCTCCG</th>\n",
       "      <td>N52</td>\n",
       "      <td>LPB2b</td>\n",
       "      <td>LP</td>\n",
       "      <td>B2b</td>\n",
       "      <td>Inflamed</td>\n",
       "    </tr>\n",
       "  </tbody>\n",
       "</table>\n",
       "</div>"
      ],
      "text/plain": [
       "                            Subject  Sample Location Replicate        Health\n",
       "NAME                                                                        \n",
       "N52.EpiA1a.AAACCTGAGACACTAA     N52  EpiA1a      Epi       A1a  Non-inflamed\n",
       "N52.EpiA1b.AAACCTGAGACACTAA     N52  EpiA1b      Epi       A1b  Non-inflamed\n",
       "N52.EpiA2a.AAAGATGTCAATAAGG     N52  EpiA2a      Epi       A2a  Non-inflamed\n",
       "N52.EpiA2b.AAAGATGTCAATAAGG     N52  EpiA2b      Epi       A2b  Non-inflamed\n",
       "N52.LPA1a.AAACCTGCACACTGCG      N52   LPA1a       LP       A1a  Non-inflamed\n",
       "N52.LPA1b.AAACCTGAGCTTTGGT      N52   LPA1b       LP       A1b  Non-inflamed\n",
       "N52.LPA2a.AAACCTGCAAGTTGTC      N52   LPA2a       LP       A2a  Non-inflamed\n",
       "N52.LPA2b.AAACCTGCAAGTTGTC      N52   LPA2b       LP       A2b  Non-inflamed\n",
       "N52.LPB1a.AAAGCAAGTGTCCTCT      N52   LPB1a       LP       B1a      Inflamed\n",
       "N52.LPB1b.AAAGCAAGTGTCCTCT      N52   LPB1b       LP       B1b      Inflamed\n",
       "N52.LPB2a.AACCGCGGTAGCTCCG      N52   LPB2a       LP       B2a      Inflamed\n",
       "N52.LPB2b.AACCGCGGTAGCTCCG      N52   LPB2b       LP       B2b      Inflamed"
      ]
     },
     "execution_count": 27,
     "metadata": {},
     "output_type": "execute_result"
    }
   ],
   "source": [
    "new_meta.loc[new_meta['Subject']=='N52'].drop_duplicates()"
   ]
  },
  {
   "cell_type": "code",
   "execution_count": 28,
   "metadata": {
    "collapsed": false,
    "pycharm": {
     "name": "#%%\n"
    }
   },
   "outputs": [
    {
     "data": {
      "text/html": [
       "<div>\n",
       "<style scoped>\n",
       "    .dataframe tbody tr th:only-of-type {\n",
       "        vertical-align: middle;\n",
       "    }\n",
       "\n",
       "    .dataframe tbody tr th {\n",
       "        vertical-align: top;\n",
       "    }\n",
       "\n",
       "    .dataframe thead th {\n",
       "        text-align: right;\n",
       "    }\n",
       "</style>\n",
       "<table border=\"1\" class=\"dataframe\">\n",
       "  <thead>\n",
       "    <tr style=\"text-align: right;\">\n",
       "      <th></th>\n",
       "      <th>Subject</th>\n",
       "      <th>Sample</th>\n",
       "      <th>Location</th>\n",
       "      <th>Replicate</th>\n",
       "      <th>Health</th>\n",
       "    </tr>\n",
       "    <tr>\n",
       "      <th>NAME</th>\n",
       "      <th></th>\n",
       "      <th></th>\n",
       "      <th></th>\n",
       "      <th></th>\n",
       "      <th></th>\n",
       "    </tr>\n",
       "  </thead>\n",
       "  <tbody>\n",
       "    <tr>\n",
       "      <th>N58.EpiA1.AAACCTGGTCGACTGC</th>\n",
       "      <td>N58</td>\n",
       "      <td>EpiA1</td>\n",
       "      <td>Epi</td>\n",
       "      <td>A1</td>\n",
       "      <td>Non-inflamed</td>\n",
       "    </tr>\n",
       "    <tr>\n",
       "      <th>N58.EpiA2.AAACCTGAGTATCTCG</th>\n",
       "      <td>N58</td>\n",
       "      <td>EpiA2</td>\n",
       "      <td>Epi</td>\n",
       "      <td>A2</td>\n",
       "      <td>Non-inflamed</td>\n",
       "    </tr>\n",
       "    <tr>\n",
       "      <th>N58.EpiB1.AAACCTGCATCGGGTC</th>\n",
       "      <td>N58</td>\n",
       "      <td>EpiB1</td>\n",
       "      <td>Epi</td>\n",
       "      <td>B1</td>\n",
       "      <td>Inflamed</td>\n",
       "    </tr>\n",
       "    <tr>\n",
       "      <th>N58.EpiB2.AAAGCAAGTCCAAGTT</th>\n",
       "      <td>N58</td>\n",
       "      <td>EpiB2</td>\n",
       "      <td>Epi</td>\n",
       "      <td>B2</td>\n",
       "      <td>Inflamed</td>\n",
       "    </tr>\n",
       "    <tr>\n",
       "      <th>N58.LPA1.AAACCTGTCTGGGCCA</th>\n",
       "      <td>N58</td>\n",
       "      <td>LPA1</td>\n",
       "      <td>LP</td>\n",
       "      <td>A1</td>\n",
       "      <td>Non-inflamed</td>\n",
       "    </tr>\n",
       "    <tr>\n",
       "      <th>N58.LPA2.AAACCTGCAATCAGAA</th>\n",
       "      <td>N58</td>\n",
       "      <td>LPA2</td>\n",
       "      <td>LP</td>\n",
       "      <td>A2</td>\n",
       "      <td>Non-inflamed</td>\n",
       "    </tr>\n",
       "    <tr>\n",
       "      <th>N58.LPB1.AAACCTGCAGGTCTCG</th>\n",
       "      <td>N58</td>\n",
       "      <td>LPB1</td>\n",
       "      <td>LP</td>\n",
       "      <td>B1</td>\n",
       "      <td>Inflamed</td>\n",
       "    </tr>\n",
       "    <tr>\n",
       "      <th>N58.LPB2.CCTCTGAAGGATATAC</th>\n",
       "      <td>N58</td>\n",
       "      <td>LPB2</td>\n",
       "      <td>LP</td>\n",
       "      <td>B2</td>\n",
       "      <td>Inflamed</td>\n",
       "    </tr>\n",
       "  </tbody>\n",
       "</table>\n",
       "</div>"
      ],
      "text/plain": [
       "                           Subject Sample Location Replicate        Health\n",
       "NAME                                                                      \n",
       "N58.EpiA1.AAACCTGGTCGACTGC     N58  EpiA1      Epi        A1  Non-inflamed\n",
       "N58.EpiA2.AAACCTGAGTATCTCG     N58  EpiA2      Epi        A2  Non-inflamed\n",
       "N58.EpiB1.AAACCTGCATCGGGTC     N58  EpiB1      Epi        B1      Inflamed\n",
       "N58.EpiB2.AAAGCAAGTCCAAGTT     N58  EpiB2      Epi        B2      Inflamed\n",
       "N58.LPA1.AAACCTGTCTGGGCCA      N58   LPA1       LP        A1  Non-inflamed\n",
       "N58.LPA2.AAACCTGCAATCAGAA      N58   LPA2       LP        A2  Non-inflamed\n",
       "N58.LPB1.AAACCTGCAGGTCTCG      N58   LPB1       LP        B1      Inflamed\n",
       "N58.LPB2.CCTCTGAAGGATATAC      N58   LPB2       LP        B2      Inflamed"
      ]
     },
     "execution_count": 28,
     "metadata": {},
     "output_type": "execute_result"
    }
   ],
   "source": [
    "new_meta.loc[new_meta['Subject']=='N58'].drop_duplicates()"
   ]
  },
  {
   "cell_type": "code",
   "execution_count": 29,
   "metadata": {
    "collapsed": false,
    "pycharm": {
     "name": "#%%\n"
    }
   },
   "outputs": [
    {
     "data": {
      "text/html": [
       "<div>\n",
       "<style scoped>\n",
       "    .dataframe tbody tr th:only-of-type {\n",
       "        vertical-align: middle;\n",
       "    }\n",
       "\n",
       "    .dataframe tbody tr th {\n",
       "        vertical-align: top;\n",
       "    }\n",
       "\n",
       "    .dataframe thead th {\n",
       "        text-align: right;\n",
       "    }\n",
       "</style>\n",
       "<table border=\"1\" class=\"dataframe\">\n",
       "  <thead>\n",
       "    <tr style=\"text-align: right;\">\n",
       "      <th></th>\n",
       "      <th>Subject</th>\n",
       "      <th>Sample</th>\n",
       "      <th>Location</th>\n",
       "      <th>Replicate</th>\n",
       "      <th>Health</th>\n",
       "    </tr>\n",
       "    <tr>\n",
       "      <th>NAME</th>\n",
       "      <th></th>\n",
       "      <th></th>\n",
       "      <th></th>\n",
       "      <th></th>\n",
       "      <th></th>\n",
       "    </tr>\n",
       "  </thead>\n",
       "  <tbody>\n",
       "    <tr>\n",
       "      <th>N111.EpiA1.AAACCTGGTTGAGGTG</th>\n",
       "      <td>N111</td>\n",
       "      <td>EpiA1</td>\n",
       "      <td>Epi</td>\n",
       "      <td>A1</td>\n",
       "      <td>Non-inflamed</td>\n",
       "    </tr>\n",
       "    <tr>\n",
       "      <th>N111.EpiB1.AAACGGGGTTCACGGC</th>\n",
       "      <td>N111</td>\n",
       "      <td>EpiB1</td>\n",
       "      <td>Epi</td>\n",
       "      <td>B1</td>\n",
       "      <td>Inflamed</td>\n",
       "    </tr>\n",
       "    <tr>\n",
       "      <th>N111.EpiB2.AAACCTGCAGGCAGTA</th>\n",
       "      <td>N111</td>\n",
       "      <td>EpiB2</td>\n",
       "      <td>Epi</td>\n",
       "      <td>B2</td>\n",
       "      <td>Inflamed</td>\n",
       "    </tr>\n",
       "    <tr>\n",
       "      <th>N111.LPA1.AAACGGGTCGCGGATC</th>\n",
       "      <td>N111</td>\n",
       "      <td>LPA1</td>\n",
       "      <td>LP</td>\n",
       "      <td>A1</td>\n",
       "      <td>Non-inflamed</td>\n",
       "    </tr>\n",
       "    <tr>\n",
       "      <th>N111.LPA2.AAACCTGTCCGCAAGC</th>\n",
       "      <td>N111</td>\n",
       "      <td>LPA2</td>\n",
       "      <td>LP</td>\n",
       "      <td>A2</td>\n",
       "      <td>Non-inflamed</td>\n",
       "    </tr>\n",
       "    <tr>\n",
       "      <th>N111.LPB1.AAAGATGGTGTCTGAT</th>\n",
       "      <td>N111</td>\n",
       "      <td>LPB1</td>\n",
       "      <td>LP</td>\n",
       "      <td>B1</td>\n",
       "      <td>Inflamed</td>\n",
       "    </tr>\n",
       "    <tr>\n",
       "      <th>N111.LPB2.AAACGGGGTGGCGAAT</th>\n",
       "      <td>N111</td>\n",
       "      <td>LPB2</td>\n",
       "      <td>LP</td>\n",
       "      <td>B2</td>\n",
       "      <td>Inflamed</td>\n",
       "    </tr>\n",
       "  </tbody>\n",
       "</table>\n",
       "</div>"
      ],
      "text/plain": [
       "                            Subject Sample Location Replicate        Health\n",
       "NAME                                                                       \n",
       "N111.EpiA1.AAACCTGGTTGAGGTG    N111  EpiA1      Epi        A1  Non-inflamed\n",
       "N111.EpiB1.AAACGGGGTTCACGGC    N111  EpiB1      Epi        B1      Inflamed\n",
       "N111.EpiB2.AAACCTGCAGGCAGTA    N111  EpiB2      Epi        B2      Inflamed\n",
       "N111.LPA1.AAACGGGTCGCGGATC     N111   LPA1       LP        A1  Non-inflamed\n",
       "N111.LPA2.AAACCTGTCCGCAAGC     N111   LPA2       LP        A2  Non-inflamed\n",
       "N111.LPB1.AAAGATGGTGTCTGAT     N111   LPB1       LP        B1      Inflamed\n",
       "N111.LPB2.AAACGGGGTGGCGAAT     N111   LPB2       LP        B2      Inflamed"
      ]
     },
     "execution_count": 29,
     "metadata": {},
     "output_type": "execute_result"
    }
   ],
   "source": [
    "new_meta.loc[new_meta['Subject']=='N111'].drop_duplicates()"
   ]
  },
  {
   "cell_type": "code",
   "execution_count": 30,
   "metadata": {
    "collapsed": false,
    "pycharm": {
     "name": "#%%\n"
    }
   },
   "outputs": [
    {
     "data": {
      "text/html": [
       "<div>\n",
       "<style scoped>\n",
       "    .dataframe tbody tr th:only-of-type {\n",
       "        vertical-align: middle;\n",
       "    }\n",
       "\n",
       "    .dataframe tbody tr th {\n",
       "        vertical-align: top;\n",
       "    }\n",
       "\n",
       "    .dataframe thead th {\n",
       "        text-align: right;\n",
       "    }\n",
       "</style>\n",
       "<table border=\"1\" class=\"dataframe\">\n",
       "  <thead>\n",
       "    <tr style=\"text-align: right;\">\n",
       "      <th></th>\n",
       "      <th>Subject</th>\n",
       "      <th>Sample</th>\n",
       "      <th>Location</th>\n",
       "      <th>Replicate</th>\n",
       "      <th>Health</th>\n",
       "    </tr>\n",
       "    <tr>\n",
       "      <th>NAME</th>\n",
       "      <th></th>\n",
       "      <th></th>\n",
       "      <th></th>\n",
       "      <th></th>\n",
       "      <th></th>\n",
       "    </tr>\n",
       "  </thead>\n",
       "  <tbody>\n",
       "    <tr>\n",
       "      <th>N110.EpiA.AAACCTGAGGACTGGT</th>\n",
       "      <td>N110</td>\n",
       "      <td>EpiA</td>\n",
       "      <td>Epi</td>\n",
       "      <td>A</td>\n",
       "      <td>Non-inflamed</td>\n",
       "    </tr>\n",
       "    <tr>\n",
       "      <th>N110.LPA.AAACCTGAGCCACTAT</th>\n",
       "      <td>N110</td>\n",
       "      <td>LPA</td>\n",
       "      <td>LP</td>\n",
       "      <td>A</td>\n",
       "      <td>Non-inflamed</td>\n",
       "    </tr>\n",
       "    <tr>\n",
       "      <th>N110.LPB.AAACCTGAGGACGAAA</th>\n",
       "      <td>N110</td>\n",
       "      <td>LPB</td>\n",
       "      <td>LP</td>\n",
       "      <td>B</td>\n",
       "      <td>Inflamed</td>\n",
       "    </tr>\n",
       "  </tbody>\n",
       "</table>\n",
       "</div>"
      ],
      "text/plain": [
       "                           Subject Sample Location Replicate        Health\n",
       "NAME                                                                      \n",
       "N110.EpiA.AAACCTGAGGACTGGT    N110   EpiA      Epi         A  Non-inflamed\n",
       "N110.LPA.AAACCTGAGCCACTAT     N110    LPA       LP         A  Non-inflamed\n",
       "N110.LPB.AAACCTGAGGACGAAA     N110    LPB       LP         B      Inflamed"
      ]
     },
     "execution_count": 30,
     "metadata": {},
     "output_type": "execute_result"
    }
   ],
   "source": [
    "new_meta.loc[new_meta['Subject']=='N110'].drop_duplicates()"
   ]
  },
  {
   "cell_type": "code",
   "execution_count": 31,
   "metadata": {
    "collapsed": false,
    "pycharm": {
     "name": "#%%\n"
    }
   },
   "outputs": [
    {
     "data": {
      "text/html": [
       "<div>\n",
       "<style scoped>\n",
       "    .dataframe tbody tr th:only-of-type {\n",
       "        vertical-align: middle;\n",
       "    }\n",
       "\n",
       "    .dataframe tbody tr th {\n",
       "        vertical-align: top;\n",
       "    }\n",
       "\n",
       "    .dataframe thead th {\n",
       "        text-align: right;\n",
       "    }\n",
       "</style>\n",
       "<table border=\"1\" class=\"dataframe\">\n",
       "  <thead>\n",
       "    <tr style=\"text-align: right;\">\n",
       "      <th></th>\n",
       "      <th>Subject</th>\n",
       "      <th>Sample</th>\n",
       "      <th>Location</th>\n",
       "      <th>Replicate</th>\n",
       "      <th>Health</th>\n",
       "    </tr>\n",
       "    <tr>\n",
       "      <th>NAME</th>\n",
       "      <th></th>\n",
       "      <th></th>\n",
       "      <th></th>\n",
       "      <th></th>\n",
       "      <th></th>\n",
       "    </tr>\n",
       "  </thead>\n",
       "  <tbody>\n",
       "    <tr>\n",
       "      <th>N49.EpiA.AAACGGGGTTCTGAAC</th>\n",
       "      <td>N49</td>\n",
       "      <td>EpiA</td>\n",
       "      <td>Epi</td>\n",
       "      <td>A</td>\n",
       "      <td>Non-inflamed</td>\n",
       "    </tr>\n",
       "    <tr>\n",
       "      <th>N49.LPA.AAACGGGCATGAAGTA</th>\n",
       "      <td>N49</td>\n",
       "      <td>LPA</td>\n",
       "      <td>LP</td>\n",
       "      <td>A</td>\n",
       "      <td>Non-inflamed</td>\n",
       "    </tr>\n",
       "    <tr>\n",
       "      <th>N49.LPB.AAACCTGTCAACACGT</th>\n",
       "      <td>N49</td>\n",
       "      <td>LPB</td>\n",
       "      <td>LP</td>\n",
       "      <td>B</td>\n",
       "      <td>Inflamed</td>\n",
       "    </tr>\n",
       "  </tbody>\n",
       "</table>\n",
       "</div>"
      ],
      "text/plain": [
       "                          Subject Sample Location Replicate        Health\n",
       "NAME                                                                     \n",
       "N49.EpiA.AAACGGGGTTCTGAAC     N49   EpiA      Epi         A  Non-inflamed\n",
       "N49.LPA.AAACGGGCATGAAGTA      N49    LPA       LP         A  Non-inflamed\n",
       "N49.LPB.AAACCTGTCAACACGT      N49    LPB       LP         B      Inflamed"
      ]
     },
     "execution_count": 31,
     "metadata": {},
     "output_type": "execute_result"
    }
   ],
   "source": [
    "new_meta.loc[new_meta['Subject']=='N49'].drop_duplicates()"
   ]
  },
  {
   "cell_type": "code",
   "execution_count": 32,
   "metadata": {
    "collapsed": false,
    "pycharm": {
     "name": "#%%\n"
    }
   },
   "outputs": [
    {
     "data": {
      "text/html": [
       "<div>\n",
       "<style scoped>\n",
       "    .dataframe tbody tr th:only-of-type {\n",
       "        vertical-align: middle;\n",
       "    }\n",
       "\n",
       "    .dataframe tbody tr th {\n",
       "        vertical-align: top;\n",
       "    }\n",
       "\n",
       "    .dataframe thead th {\n",
       "        text-align: right;\n",
       "    }\n",
       "</style>\n",
       "<table border=\"1\" class=\"dataframe\">\n",
       "  <thead>\n",
       "    <tr style=\"text-align: right;\">\n",
       "      <th></th>\n",
       "      <th>Subject</th>\n",
       "      <th>Sample</th>\n",
       "      <th>Location</th>\n",
       "      <th>Replicate</th>\n",
       "      <th>Health</th>\n",
       "    </tr>\n",
       "    <tr>\n",
       "      <th>NAME</th>\n",
       "      <th></th>\n",
       "      <th></th>\n",
       "      <th></th>\n",
       "      <th></th>\n",
       "      <th></th>\n",
       "    </tr>\n",
       "  </thead>\n",
       "  <tbody>\n",
       "    <tr>\n",
       "      <th>N19.EpiA.AAACATTGCAGCTA</th>\n",
       "      <td>N19</td>\n",
       "      <td>EpiA</td>\n",
       "      <td>Epi</td>\n",
       "      <td>A</td>\n",
       "      <td>Non-inflamed</td>\n",
       "    </tr>\n",
       "    <tr>\n",
       "      <th>N19.EpiB.AAACATTGAGTACC</th>\n",
       "      <td>N19</td>\n",
       "      <td>EpiB</td>\n",
       "      <td>Epi</td>\n",
       "      <td>B</td>\n",
       "      <td>Inflamed</td>\n",
       "    </tr>\n",
       "    <tr>\n",
       "      <th>N19.LPA.AAACGCTGGTAGGG</th>\n",
       "      <td>N19</td>\n",
       "      <td>LPA</td>\n",
       "      <td>LP</td>\n",
       "      <td>A</td>\n",
       "      <td>Non-inflamed</td>\n",
       "    </tr>\n",
       "    <tr>\n",
       "      <th>N19.LPB.AAACGCACATCGGT</th>\n",
       "      <td>N19</td>\n",
       "      <td>LPB</td>\n",
       "      <td>LP</td>\n",
       "      <td>B</td>\n",
       "      <td>Inflamed</td>\n",
       "    </tr>\n",
       "  </tbody>\n",
       "</table>\n",
       "</div>"
      ],
      "text/plain": [
       "                        Subject Sample Location Replicate        Health\n",
       "NAME                                                                   \n",
       "N19.EpiA.AAACATTGCAGCTA     N19   EpiA      Epi         A  Non-inflamed\n",
       "N19.EpiB.AAACATTGAGTACC     N19   EpiB      Epi         B      Inflamed\n",
       "N19.LPA.AAACGCTGGTAGGG      N19    LPA       LP         A  Non-inflamed\n",
       "N19.LPB.AAACGCACATCGGT      N19    LPB       LP         B      Inflamed"
      ]
     },
     "execution_count": 32,
     "metadata": {},
     "output_type": "execute_result"
    }
   ],
   "source": [
    "new_meta.loc[new_meta['Subject']=='N19'].drop_duplicates()"
   ]
  },
  {
   "cell_type": "code",
   "execution_count": 33,
   "metadata": {
    "collapsed": false,
    "pycharm": {
     "name": "#%%\n"
    }
   },
   "outputs": [
    {
     "data": {
      "text/html": [
       "<div>\n",
       "<style scoped>\n",
       "    .dataframe tbody tr th:only-of-type {\n",
       "        vertical-align: middle;\n",
       "    }\n",
       "\n",
       "    .dataframe tbody tr th {\n",
       "        vertical-align: top;\n",
       "    }\n",
       "\n",
       "    .dataframe thead th {\n",
       "        text-align: right;\n",
       "    }\n",
       "</style>\n",
       "<table border=\"1\" class=\"dataframe\">\n",
       "  <thead>\n",
       "    <tr style=\"text-align: right;\">\n",
       "      <th></th>\n",
       "      <th>Subject</th>\n",
       "      <th>Sample</th>\n",
       "      <th>Location</th>\n",
       "      <th>Replicate</th>\n",
       "      <th>Health</th>\n",
       "    </tr>\n",
       "    <tr>\n",
       "      <th>NAME</th>\n",
       "      <th></th>\n",
       "      <th></th>\n",
       "      <th></th>\n",
       "      <th></th>\n",
       "      <th></th>\n",
       "    </tr>\n",
       "  </thead>\n",
       "  <tbody>\n",
       "    <tr>\n",
       "      <th>N8.EpiA.AAACATTGCGTTGA</th>\n",
       "      <td>N8</td>\n",
       "      <td>EpiA</td>\n",
       "      <td>Epi</td>\n",
       "      <td>A</td>\n",
       "      <td>Healthy</td>\n",
       "    </tr>\n",
       "    <tr>\n",
       "      <th>N8.EpiB.AAAGTTTGACCCTC</th>\n",
       "      <td>N8</td>\n",
       "      <td>EpiB</td>\n",
       "      <td>Epi</td>\n",
       "      <td>B</td>\n",
       "      <td>Healthy</td>\n",
       "    </tr>\n",
       "    <tr>\n",
       "      <th>N8.LPA.AACAATACAGTGTC</th>\n",
       "      <td>N8</td>\n",
       "      <td>LPA</td>\n",
       "      <td>LP</td>\n",
       "      <td>A</td>\n",
       "      <td>Healthy</td>\n",
       "    </tr>\n",
       "    <tr>\n",
       "      <th>N8.LPB.AACTCGGATGTCCC</th>\n",
       "      <td>N8</td>\n",
       "      <td>LPB</td>\n",
       "      <td>LP</td>\n",
       "      <td>B</td>\n",
       "      <td>Healthy</td>\n",
       "    </tr>\n",
       "  </tbody>\n",
       "</table>\n",
       "</div>"
      ],
      "text/plain": [
       "                       Subject Sample Location Replicate   Health\n",
       "NAME                                                             \n",
       "N8.EpiA.AAACATTGCGTTGA      N8   EpiA      Epi         A  Healthy\n",
       "N8.EpiB.AAAGTTTGACCCTC      N8   EpiB      Epi         B  Healthy\n",
       "N8.LPA.AACAATACAGTGTC       N8    LPA       LP         A  Healthy\n",
       "N8.LPB.AACTCGGATGTCCC       N8    LPB       LP         B  Healthy"
      ]
     },
     "execution_count": 33,
     "metadata": {},
     "output_type": "execute_result"
    }
   ],
   "source": [
    "new_meta.loc[new_meta['Subject']=='N8'].drop_duplicates()"
   ]
  },
  {
   "cell_type": "markdown",
   "metadata": {
    "pycharm": {
     "name": "#%% md\n"
    }
   },
   "source": [
    "Check the number of cell types."
   ]
  },
  {
   "cell_type": "code",
   "execution_count": 35,
   "metadata": {
    "collapsed": false,
    "pycharm": {
     "name": "#%%\n"
    }
   },
   "outputs": [
    {
     "data": {
      "text/plain": [
       "51"
      ]
     },
     "execution_count": 35,
     "metadata": {},
     "output_type": "execute_result"
    }
   ],
   "source": [
    "len(np.unique(meta['Cluster']))"
   ]
  },
  {
   "cell_type": "markdown",
   "metadata": {
    "pycharm": {
     "name": "#%% md\n"
    }
   },
   "source": [
    "Merge health status info and replicate info with the remaining metadata."
   ]
  },
  {
   "cell_type": "code",
   "execution_count": 36,
   "metadata": {
    "collapsed": true,
    "pycharm": {
     "name": "#%%\n"
    }
   },
   "outputs": [],
   "source": [
    "meta = new_meta.merge(meta, how='outer', left_index=True, right_index=True, suffixes=('', '_y'))"
   ]
  },
  {
   "cell_type": "code",
   "execution_count": 37,
   "metadata": {
    "collapsed": false,
    "pycharm": {
     "name": "#%%\n"
    }
   },
   "outputs": [
    {
     "data": {
      "text/html": [
       "<div>\n",
       "<style scoped>\n",
       "    .dataframe tbody tr th:only-of-type {\n",
       "        vertical-align: middle;\n",
       "    }\n",
       "\n",
       "    .dataframe tbody tr th {\n",
       "        vertical-align: top;\n",
       "    }\n",
       "\n",
       "    .dataframe thead th {\n",
       "        text-align: right;\n",
       "    }\n",
       "</style>\n",
       "<table border=\"1\" class=\"dataframe\">\n",
       "  <thead>\n",
       "    <tr style=\"text-align: right;\">\n",
       "      <th></th>\n",
       "      <th>Subject</th>\n",
       "      <th>Sample</th>\n",
       "      <th>Location</th>\n",
       "      <th>Replicate</th>\n",
       "      <th>Health</th>\n",
       "      <th>Cluster</th>\n",
       "      <th>nGene</th>\n",
       "      <th>nUMI</th>\n",
       "      <th>Subject_y</th>\n",
       "      <th>Health_y</th>\n",
       "      <th>Location_y</th>\n",
       "      <th>Sample_y</th>\n",
       "    </tr>\n",
       "    <tr>\n",
       "      <th>NAME</th>\n",
       "      <th></th>\n",
       "      <th></th>\n",
       "      <th></th>\n",
       "      <th></th>\n",
       "      <th></th>\n",
       "      <th></th>\n",
       "      <th></th>\n",
       "      <th></th>\n",
       "      <th></th>\n",
       "      <th></th>\n",
       "      <th></th>\n",
       "      <th></th>\n",
       "    </tr>\n",
       "  </thead>\n",
       "  <tbody>\n",
       "    <tr>\n",
       "      <th>N10.EpiA.AAACATACAACCAC</th>\n",
       "      <td>N10</td>\n",
       "      <td>EpiA</td>\n",
       "      <td>Epi</td>\n",
       "      <td>A</td>\n",
       "      <td>Healthy</td>\n",
       "      <td>Enterocyte Progenitors</td>\n",
       "      <td>425</td>\n",
       "      <td>968</td>\n",
       "      <td>N10</td>\n",
       "      <td>Healthy</td>\n",
       "      <td>Epi</td>\n",
       "      <td>N10.EpiA</td>\n",
       "    </tr>\n",
       "    <tr>\n",
       "      <th>N10.EpiA.AAACATACAGGCGA</th>\n",
       "      <td>N10</td>\n",
       "      <td>EpiA</td>\n",
       "      <td>Epi</td>\n",
       "      <td>A</td>\n",
       "      <td>Healthy</td>\n",
       "      <td>Cycling TA</td>\n",
       "      <td>1695</td>\n",
       "      <td>7273</td>\n",
       "      <td>N10</td>\n",
       "      <td>Healthy</td>\n",
       "      <td>Epi</td>\n",
       "      <td>N10.EpiA</td>\n",
       "    </tr>\n",
       "    <tr>\n",
       "      <th>N10.EpiA.AAACATACCACTAG</th>\n",
       "      <td>N10</td>\n",
       "      <td>EpiA</td>\n",
       "      <td>Epi</td>\n",
       "      <td>A</td>\n",
       "      <td>Healthy</td>\n",
       "      <td>Immature Goblet</td>\n",
       "      <td>391</td>\n",
       "      <td>1190</td>\n",
       "      <td>N10</td>\n",
       "      <td>Healthy</td>\n",
       "      <td>Epi</td>\n",
       "      <td>N10.EpiA</td>\n",
       "    </tr>\n",
       "    <tr>\n",
       "      <th>N10.EpiA.AAACATACCCTTTA</th>\n",
       "      <td>N10</td>\n",
       "      <td>EpiA</td>\n",
       "      <td>Epi</td>\n",
       "      <td>A</td>\n",
       "      <td>Healthy</td>\n",
       "      <td>Secretory TA</td>\n",
       "      <td>1327</td>\n",
       "      <td>5620</td>\n",
       "      <td>N10</td>\n",
       "      <td>Healthy</td>\n",
       "      <td>Epi</td>\n",
       "      <td>N10.EpiA</td>\n",
       "    </tr>\n",
       "    <tr>\n",
       "      <th>N10.EpiA.AAACATACTGCAAC</th>\n",
       "      <td>N10</td>\n",
       "      <td>EpiA</td>\n",
       "      <td>Epi</td>\n",
       "      <td>A</td>\n",
       "      <td>Healthy</td>\n",
       "      <td>Immature Enterocytes 2</td>\n",
       "      <td>1383</td>\n",
       "      <td>4676</td>\n",
       "      <td>N10</td>\n",
       "      <td>Healthy</td>\n",
       "      <td>Epi</td>\n",
       "      <td>N10.EpiA</td>\n",
       "    </tr>\n",
       "    <tr>\n",
       "      <th>...</th>\n",
       "      <td>...</td>\n",
       "      <td>...</td>\n",
       "      <td>...</td>\n",
       "      <td>...</td>\n",
       "      <td>...</td>\n",
       "      <td>...</td>\n",
       "      <td>...</td>\n",
       "      <td>...</td>\n",
       "      <td>...</td>\n",
       "      <td>...</td>\n",
       "      <td>...</td>\n",
       "      <td>...</td>\n",
       "    </tr>\n",
       "    <tr>\n",
       "      <th>N9.LPB.TTTATCCTAACGAA</th>\n",
       "      <td>N9</td>\n",
       "      <td>LPB</td>\n",
       "      <td>LP</td>\n",
       "      <td>B</td>\n",
       "      <td>Inflamed</td>\n",
       "      <td>Enterocytes</td>\n",
       "      <td>2768</td>\n",
       "      <td>18811</td>\n",
       "      <td>N9</td>\n",
       "      <td>Inflamed</td>\n",
       "      <td>LP</td>\n",
       "      <td>N9.LPB</td>\n",
       "    </tr>\n",
       "    <tr>\n",
       "      <th>N9.LPB.TTTATCCTGTAAAG</th>\n",
       "      <td>N9</td>\n",
       "      <td>LPB</td>\n",
       "      <td>LP</td>\n",
       "      <td>B</td>\n",
       "      <td>Inflamed</td>\n",
       "      <td>Plasma</td>\n",
       "      <td>1392</td>\n",
       "      <td>27685</td>\n",
       "      <td>N9</td>\n",
       "      <td>Inflamed</td>\n",
       "      <td>LP</td>\n",
       "      <td>N9.LPB</td>\n",
       "    </tr>\n",
       "    <tr>\n",
       "      <th>N9.LPB.TTTATCCTGTCGTA</th>\n",
       "      <td>N9</td>\n",
       "      <td>LPB</td>\n",
       "      <td>LP</td>\n",
       "      <td>B</td>\n",
       "      <td>Inflamed</td>\n",
       "      <td>Plasma</td>\n",
       "      <td>574</td>\n",
       "      <td>5478</td>\n",
       "      <td>N9</td>\n",
       "      <td>Inflamed</td>\n",
       "      <td>LP</td>\n",
       "      <td>N9.LPB</td>\n",
       "    </tr>\n",
       "    <tr>\n",
       "      <th>N9.LPB.TTTCAGTGGCGTTA</th>\n",
       "      <td>N9</td>\n",
       "      <td>LPB</td>\n",
       "      <td>LP</td>\n",
       "      <td>B</td>\n",
       "      <td>Inflamed</td>\n",
       "      <td>Macrophages</td>\n",
       "      <td>1437</td>\n",
       "      <td>5698</td>\n",
       "      <td>N9</td>\n",
       "      <td>Inflamed</td>\n",
       "      <td>LP</td>\n",
       "      <td>N9.LPB</td>\n",
       "    </tr>\n",
       "    <tr>\n",
       "      <th>N9.LPB.TTTGCATGGATACC</th>\n",
       "      <td>N9</td>\n",
       "      <td>LPB</td>\n",
       "      <td>LP</td>\n",
       "      <td>B</td>\n",
       "      <td>Inflamed</td>\n",
       "      <td>CD8+ LP</td>\n",
       "      <td>544</td>\n",
       "      <td>1348</td>\n",
       "      <td>N9</td>\n",
       "      <td>Inflamed</td>\n",
       "      <td>LP</td>\n",
       "      <td>N9.LPB</td>\n",
       "    </tr>\n",
       "  </tbody>\n",
       "</table>\n",
       "<p>365492 rows × 12 columns</p>\n",
       "</div>"
      ],
      "text/plain": [
       "                        Subject Sample Location Replicate    Health  \\\n",
       "NAME                                                                  \n",
       "N10.EpiA.AAACATACAACCAC     N10   EpiA      Epi         A   Healthy   \n",
       "N10.EpiA.AAACATACAGGCGA     N10   EpiA      Epi         A   Healthy   \n",
       "N10.EpiA.AAACATACCACTAG     N10   EpiA      Epi         A   Healthy   \n",
       "N10.EpiA.AAACATACCCTTTA     N10   EpiA      Epi         A   Healthy   \n",
       "N10.EpiA.AAACATACTGCAAC     N10   EpiA      Epi         A   Healthy   \n",
       "...                         ...    ...      ...       ...       ...   \n",
       "N9.LPB.TTTATCCTAACGAA        N9    LPB       LP         B  Inflamed   \n",
       "N9.LPB.TTTATCCTGTAAAG        N9    LPB       LP         B  Inflamed   \n",
       "N9.LPB.TTTATCCTGTCGTA        N9    LPB       LP         B  Inflamed   \n",
       "N9.LPB.TTTCAGTGGCGTTA        N9    LPB       LP         B  Inflamed   \n",
       "N9.LPB.TTTGCATGGATACC        N9    LPB       LP         B  Inflamed   \n",
       "\n",
       "                                        Cluster nGene   nUMI Subject_y  \\\n",
       "NAME                                                                     \n",
       "N10.EpiA.AAACATACAACCAC  Enterocyte Progenitors   425    968       N10   \n",
       "N10.EpiA.AAACATACAGGCGA              Cycling TA  1695   7273       N10   \n",
       "N10.EpiA.AAACATACCACTAG         Immature Goblet   391   1190       N10   \n",
       "N10.EpiA.AAACATACCCTTTA            Secretory TA  1327   5620       N10   \n",
       "N10.EpiA.AAACATACTGCAAC  Immature Enterocytes 2  1383   4676       N10   \n",
       "...                                         ...   ...    ...       ...   \n",
       "N9.LPB.TTTATCCTAACGAA               Enterocytes  2768  18811        N9   \n",
       "N9.LPB.TTTATCCTGTAAAG                    Plasma  1392  27685        N9   \n",
       "N9.LPB.TTTATCCTGTCGTA                    Plasma   574   5478        N9   \n",
       "N9.LPB.TTTCAGTGGCGTTA               Macrophages  1437   5698        N9   \n",
       "N9.LPB.TTTGCATGGATACC                   CD8+ LP   544   1348        N9   \n",
       "\n",
       "                         Health_y Location_y  Sample_y  \n",
       "NAME                                                    \n",
       "N10.EpiA.AAACATACAACCAC   Healthy        Epi  N10.EpiA  \n",
       "N10.EpiA.AAACATACAGGCGA   Healthy        Epi  N10.EpiA  \n",
       "N10.EpiA.AAACATACCACTAG   Healthy        Epi  N10.EpiA  \n",
       "N10.EpiA.AAACATACCCTTTA   Healthy        Epi  N10.EpiA  \n",
       "N10.EpiA.AAACATACTGCAAC   Healthy        Epi  N10.EpiA  \n",
       "...                           ...        ...       ...  \n",
       "N9.LPB.TTTATCCTAACGAA    Inflamed         LP    N9.LPB  \n",
       "N9.LPB.TTTATCCTGTAAAG    Inflamed         LP    N9.LPB  \n",
       "N9.LPB.TTTATCCTGTCGTA    Inflamed         LP    N9.LPB  \n",
       "N9.LPB.TTTCAGTGGCGTTA    Inflamed         LP    N9.LPB  \n",
       "N9.LPB.TTTGCATGGATACC    Inflamed         LP    N9.LPB  \n",
       "\n",
       "[365492 rows x 12 columns]"
      ]
     },
     "execution_count": 37,
     "metadata": {},
     "output_type": "execute_result"
    }
   ],
   "source": [
    "meta"
   ]
  },
  {
   "cell_type": "markdown",
   "metadata": {
    "pycharm": {
     "name": "#%% md\n"
    }
   },
   "source": [
    "Drop duplicate columns."
   ]
  },
  {
   "cell_type": "code",
   "execution_count": 38,
   "metadata": {
    "collapsed": true,
    "pycharm": {
     "name": "#%%\n"
    }
   },
   "outputs": [],
   "source": [
    "meta = meta.drop(columns = [full_name for full_name in meta.columns if full_name.endswith('_y')])"
   ]
  },
  {
   "cell_type": "markdown",
   "metadata": {
    "pycharm": {
     "name": "#%% md\n"
    }
   },
   "source": [
    "## Merge several clusters to test for differences on a high level"
   ]
  },
  {
   "cell_type": "markdown",
   "metadata": {
    "pycharm": {
     "name": "#%% md\n"
    }
   },
   "source": [
    "In Supplementary Figure 1B of Smillie et al. (2019), the authors display a rough cell type annotation into fibroblast, endothelial, glia, myeloid, T cells, NKs/ILCs and B cells. We follow their annotation to reduce the number of classes. Of note, figure 1B seems to be contradictory in claiming to display \"major cell lineages\", because the grouping of cell types is different in other figures, e.g. S1A, Figure 1 in the main text (or they left out the Epithelial cells). \n",
    "The following assignment were extracted from Supplementary Figure 1D:\n",
    "\n",
    "- Fibroblasts: WNT2B+ Fos-hi, WNT2B+ Fos-lo 1,WNT2B+ Fos-lo 2, WNT5B+ 1, WNT5B+ 2, RSPO3+, Inflammatory Fibroblasts, Myofibroblasts, Endothelial, Microvascular, Post-capillary Venules, Pericytes, Glia\n",
    "- Epithelial: Stem, TA 1, TA 2, Cycling TA, Immature Enterocytes 1, Immature Enterocytes 2, Enterocytes, M-like cells, Best4+ Enterocytes, Secretory TA, Immature Goblet, Goblet, Tuft, Enteroendocrine, Enterocyte Progenitors\n",
    "- Immune: Macrophages, DC1, DC2, Inflammatory Monocytes, CD69+ Mast, CD69- Mast, Cycling Monocytes, CD4+ Activated Fos-hi, CD4+ Activated Fos-lo, CD4+ Memory, NKs, ILCs, Tregs, CD4+ PD1+, CD8+ IELs, CD8+ IL17+, CD8+ LP, MT-hi, Cycling T, Plasma, Follicular, GC, Cycling B\n",
    "\n",
    "The rough annotation in Figure 1C can be inferred as follows:\n",
    "- Fibroblasts: WNT2B+ Fos-hi, WNT2B+ Fos-lo 1,WNT2B+ Fos-lo 2, WNT5B+ 1, WNT5B+ 2, RSPO3+, Inflammatory Fibroblasts, Myofibroblasts, \n",
    "- Endothelial: Endothelial, Microvascular, Post-capillary Venules, Pericytes \n",
    "- Glia\n",
    "- NKs/ILCs: NKs, ILCs\n",
    "- Myeloid: Macrophages, DC1, DC2, Inflammatory Monocytes, CD69+ Mast, CD69- Mast, Cycling Monocytes\n",
    "- T cells: CD4+ Activated Fos-hi, CD4+ Activated Fos-lo, CD4+ Memory, Tregs, CD4+ PD1+, CD8+ IELs, CD8+ IL17+, CD8+ LP, MT-hi, Cycling T\n",
    "- B cells: Plasma, Follicular, GC, Cycling B\n",
    "- Epithelial: Stem, TA 1, TA 2, Cycling TA, Immature Enterocytes 1, Immature Enterocytes 2, Enterocytes, M-like cells, Best4+ Enterocytes, Secretory TA, Immature Goblet, Goblet, Tuft, Enteroendocrine, Enterocyte Progenitors"
   ]
  },
  {
   "cell_type": "code",
   "execution_count": 39,
   "metadata": {
    "collapsed": true,
    "pycharm": {
     "name": "#%%\n"
    }
   },
   "outputs": [],
   "source": [
    "meta['Cluster'] = meta['Cluster'].astype('category')"
   ]
  },
  {
   "cell_type": "code",
   "execution_count": 40,
   "metadata": {
    "collapsed": true,
    "pycharm": {
     "name": "#%%\n"
    }
   },
   "outputs": [],
   "source": [
    "meta['Major_l1'] = meta['Cluster'].cat.add_categories(['Fibroblasts', 'Epithelial', 'Immune'])"
   ]
  },
  {
   "cell_type": "code",
   "execution_count": 41,
   "metadata": {
    "collapsed": true,
    "pycharm": {
     "name": "#%%\n"
    }
   },
   "outputs": [],
   "source": [
    "meta['Major_l1'][np.in1d(meta['Major_l1'], ['WNT2B+ Fos-hi', 'WNT2B+ Fos-lo 1', 'WNT2B+ Fos-lo 2', 'WNT5B+ 1', 'WNT5B+ 2', 'RSPO3+', \n",
    "                                      'Inflammatory Fibroblasts', 'Myofibroblasts', 'Endothelial', 'Microvascular', \n",
    "                                      'Post-capillary Venules', 'Pericytes', 'Glia'])] = 'Fibroblasts'\n",
    "meta['Major_l1'][np.in1d(meta['Major_l1'], ['Stem', 'TA 1', 'TA 2', 'Cycling TA', 'Immature Enterocytes 1', 'Immature Enterocytes 2', \n",
    "                         'Enterocytes', 'M cells', 'Best4+ Enterocytes', 'Secretory TA', 'Immature Goblet', 'Goblet', \n",
    "                         'Tuft', 'Enteroendocrine', 'Enterocyte Progenitors'])] = 'Epithelial'\n",
    "meta['Major_l1'][np.in1d(meta['Major_l1'], ['Macrophages', 'DC1', 'DC2', 'Inflammatory Monocytes', 'CD69+ Mast', 'CD69- Mast', \n",
    "                                      'Cycling Monocytes', 'CD4+ Activated Fos-hi', 'CD4+ Activated Fos-lo', 'CD4+ Memory', \n",
    "                                      'NKs', 'ILCs', 'Tregs', 'CD4+ PD1+', 'CD8+ IELs', 'CD8+ IL17+', 'CD8+ LP', 'MT-hi', \n",
    "                                      'Cycling T', 'Plasma', 'Follicular', 'GC', 'Cycling B'])] = 'Immune'\n",
    "meta['Major_l1'] = meta['Major_l1'].cat.remove_unused_categories()"
   ]
  },
  {
   "cell_type": "code",
   "execution_count": 42,
   "metadata": {
    "collapsed": true,
    "pycharm": {
     "name": "#%%\n"
    }
   },
   "outputs": [],
   "source": [
    "meta['Major_l2'] = meta['Cluster'].cat.add_categories(['Fibroblasts', 'Epithelial', 'Myeloid', 'T cells', 'B cells', 'NKs/ILCs'])"
   ]
  },
  {
   "cell_type": "code",
   "execution_count": 43,
   "metadata": {
    "collapsed": true,
    "pycharm": {
     "name": "#%%\n"
    }
   },
   "outputs": [],
   "source": [
    "meta['Major_l2'][np.in1d(meta['Major_l2'], ['WNT2B+ Fos-hi', 'WNT2B+ Fos-lo 1', 'WNT2B+ Fos-lo 2', 'WNT5B+ 1', 'WNT5B+ 2', 'RSPO3+', \n",
    "                                      'Inflammatory Fibroblasts', 'Myofibroblasts'])] = 'Fibroblasts'\n",
    "meta['Major_l2'][np.in1d(meta['Major_l2'], ['Endothelial', 'Microvascular', \n",
    "                                      'Post-capillary Venules', 'Pericytes'])] = 'Endothelial'\n",
    "meta['Major_l2'][np.in1d(meta['Major_l2'], ['Stem', 'TA 1', 'TA 2', 'Cycling TA', 'Immature Enterocytes 1', 'Immature Enterocytes 2', \n",
    "                         'Enterocytes', 'M cells', 'Best4+ Enterocytes', 'Secretory TA', 'Immature Goblet', 'Goblet', \n",
    "                         'Tuft', 'Enteroendocrine', 'Enterocyte Progenitors'])] = 'Epithelial'\n",
    "meta['Major_l2'][np.in1d(meta['Major_l2'], ['Plasma', 'Follicular', 'GC', 'Cycling B'])] = 'B cells'\n",
    "meta['Major_l2'][np.in1d(meta['Major_l2'], ['Macrophages', 'DC1', 'DC2', 'Inflammatory Monocytes', 'CD69+ Mast', 'CD69- Mast', \n",
    "                                      'Cycling Monocytes'])] = 'Myeloid'\n",
    "meta['Major_l2'][np.in1d(meta['Major_l2'], [ 'CD4+ Activated Fos-hi', 'CD4+ Activated Fos-lo', 'CD4+ Memory', \n",
    "                                      'NKs', 'ILCs', 'Tregs', 'CD4+ PD1+', 'CD8+ IELs', 'CD8+ IL17+', 'CD8+ LP', 'MT-hi', \n",
    "                                      'Cycling T'])] = 'T cells'\n",
    "meta['Major_l2'] = meta['Major_l2'].cat.remove_unused_categories()"
   ]
  },
  {
   "cell_type": "code",
   "execution_count": 44,
   "metadata": {
    "collapsed": false,
    "pycharm": {
     "name": "#%%\n"
    }
   },
   "outputs": [
    {
     "data": {
      "text/plain": [
       "Immune         210614\n",
       "Epithelial     123006\n",
       "Fibroblasts     31872\n",
       "Name: Major_l1, dtype: int64"
      ]
     },
     "execution_count": 44,
     "metadata": {},
     "output_type": "execute_result"
    }
   ],
   "source": [
    "pd.value_counts(meta['Major_l1'])"
   ]
  },
  {
   "cell_type": "code",
   "execution_count": 45,
   "metadata": {
    "collapsed": false,
    "pycharm": {
     "name": "#%%\n"
    }
   },
   "outputs": [
    {
     "data": {
      "text/plain": [
       "Epithelial     123006\n",
       "B cells        107246\n",
       "T cells         76058\n",
       "Myeloid         27310\n",
       "Fibroblasts     24290\n",
       "Endothelial      6320\n",
       "Glia             1262\n",
       "Name: Major_l2, dtype: int64"
      ]
     },
     "execution_count": 45,
     "metadata": {},
     "output_type": "execute_result"
    }
   ],
   "source": [
    "pd.value_counts(meta['Major_l2'])"
   ]
  },
  {
   "cell_type": "markdown",
   "metadata": {
    "pycharm": {
     "name": "#%% md\n"
    }
   },
   "source": [
    "Convert `Major_l2` from categorical to string."
   ]
  },
  {
   "cell_type": "code",
   "execution_count": 46,
   "metadata": {
    "collapsed": true,
    "pycharm": {
     "name": "#%%\n"
    }
   },
   "outputs": [],
   "source": [
    "meta['Major_l2'] = meta['Major_l2'].astype(str)"
   ]
  },
  {
   "cell_type": "markdown",
   "metadata": {
    "pycharm": {
     "name": "#%% md\n"
    }
   },
   "source": [
    "Save to file."
   ]
  },
  {
   "cell_type": "code",
   "execution_count": 50,
   "metadata": {
    "collapsed": true,
    "pycharm": {
     "name": "#%%\n"
    }
   },
   "outputs": [],
   "source": [
    "meta.to_csv(data_path + 'meta_processed.csv')"
   ]
  }
 ],
 "metadata": {
  "kernelspec": {
   "display_name": "Python (sc-tutorial)",
   "language": "python",
   "name": "sc-tutorial"
  },
  "language_info": {
   "codemirror_mode": {
    "name": "ipython",
    "version": 3
   },
   "file_extension": ".py",
   "mimetype": "text/x-python",
   "name": "python",
   "nbconvert_exporter": "python",
   "pygments_lexer": "ipython3",
   "version": "3.7.3"
  },
  "latex_envs": {
   "bibliofile": "biblio.bib",
   "cite_by": "apalike",
   "current_citInitial": 1,
   "eqLabelWithNumbers": true,
   "eqNumInitial": 0
  },
  "toc": {
   "toc_cell": false,
   "toc_number_sections": true,
   "toc_threshold": 6,
   "toc_window_display": false
  }
 },
 "nbformat": 4,
 "nbformat_minor": 4
}