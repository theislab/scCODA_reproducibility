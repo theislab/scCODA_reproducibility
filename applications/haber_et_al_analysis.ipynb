{
 "cells": [
  {
   "cell_type": "markdown",
   "metadata": {
    "collapsed": true,
    "pycharm": {
     "name": "#%% md\n"
    }
   },
   "source": [
    "# Analysis of (Haber et al., 2017)\n",
    "\n",
    "We want to re-analyze the data from [*Haber et al. [2017]*](https://www.nature.com/articles/nature24489). \n",
    "The dataset contains cell compositions of the intestinal epithelium of mice under 4 conditions\n",
    "(control, Salmonella infection, H. polygyrus infection (3 days), and H. polygyrus infection (10 days)).\n",
    "\n",
    "In the original paper, differential abundance was tested via a Poisson regression model, \n",
    "not taking compositional effects into account.\n",
    "We want to analyze whether the findings are consistent with scCODA."
   ]
  },
  {
   "cell_type": "code",
   "execution_count": 1,
   "outputs": [],
   "source": [
    "# Setup\n",
    "import warnings\n",
    "warnings.filterwarnings(\"ignore\")\n",
    "\n",
    "import pandas as pd\n",
    "import matplotlib.pyplot as plt\n",
    "import seaborn as sns\n",
    "import numpy as np\n",
    "\n",
    "from sccoda.util import comp_ana as mod\n",
    "from sccoda.util import cell_composition_data as dat\n",
    "from sccoda.model import other_models as om"
   ],
   "metadata": {
    "collapsed": false,
    "pycharm": {
     "name": "#%%\n"
    }
   }
  },
  {
   "cell_type": "markdown",
   "source": [
    "Load and format data: \n",
    "\n",
    "4 control samples, 2 samples for other conditions each; 8 cell types"
   ],
   "metadata": {
    "collapsed": false,
    "pycharm": {
     "name": "#%% md\n"
    }
   }
  },
  {
   "cell_type": "code",
   "execution_count": 2,
   "outputs": [
    {
     "name": "stdout",
     "output_type": "stream",
     "text": [
      "            Mouse  Endocrine  Enterocyte  Enterocyte.Progenitor  Goblet  Stem  \\\n",
      "0       Control_1         36          59                    136      36   239   \n",
      "1       Control_2          5          46                     23      20    50   \n",
      "2       Control_3         45          98                    188     124   250   \n",
      "3       Control_4         26         221                    198      36   131   \n",
      "4  H.poly.Day10_1         42          71                    203     147   271   \n",
      "5  H.poly.Day10_2         40          57                    383     170   321   \n",
      "6   H.poly.Day3_1         52          75                    347      66   323   \n",
      "7   H.poly.Day3_2         65         126                    115      33    65   \n",
      "8          Salm_1         37         332                    113      59    90   \n",
      "9          Salm_2         32         373                    116      67   117   \n",
      "\n",
      "    TA  TA.Early  Tuft     Condition  \n",
      "0  125       191    18       Control  \n",
      "1   11        40     5       Control  \n",
      "2  155       365    33       Control  \n",
      "3  130       196     4       Control  \n",
      "4  109       180   146  H.poly.Day10  \n",
      "5  244       256    71  H.poly.Day10  \n",
      "6  263       313    51   H.poly.Day3  \n",
      "7   39       129    59   H.poly.Day3  \n",
      "8   47       132    10          Salm  \n",
      "9   65       168    12          Salm  \n"
     ]
    }
   ],
   "source": [
    "cell_counts = pd.read_csv(\"../../scCODA/data/haber_counts.csv\")\n",
    "\n",
    "cell_counts[\"Condition\"] = cell_counts[\"Mouse\"].str.replace(r\"_[0-9]\", \"\")\n",
    "data_all = dat.from_pandas(cell_counts, covariate_columns=[\"Mouse\", \"Condition\"])\n",
    "\n",
    "print(cell_counts)"
   ],
   "metadata": {
    "collapsed": false,
    "pycharm": {
     "name": "#%%\n"
    }
   }
  },
  {
   "cell_type": "markdown",
   "source": [
    "Plot data for supplement:\n",
    "Goblet cells seem like a good reference for Salmonella (not much change)\n",
    "For H. Polygyrus, take TA cells"
   ],
   "metadata": {
    "collapsed": false,
    "pycharm": {
     "name": "#%% md\n"
    }
   }
  },
  {
   "cell_type": "code",
   "execution_count": 3,
   "outputs": [
    {
     "data": {
      "text/plain": "<Figure size 864x360 with 1 Axes>",
      "image/png": "[encoded data removed]"
     },
     "metadata": {
      "needs_background": "light"
     },
     "output_type": "display_data"
    }
   ],
   "source": [
    "# Count data to ratios\n",
    "counts = cell_counts.iloc[:, 1:-1]\n",
    "rowsum = np.sum(counts, axis=1)\n",
    "\n",
    "ratios = counts.div(rowsum, axis=0)\n",
    "ratios[\"Condition\"] = cell_counts[\"Condition\"]\n",
    "\n",
    "# Plot\n",
    "fig, ax = plt.subplots(figsize=(12,5))\n",
    "df = pd.melt(ratios, id_vars=['Condition'], value_vars=ratios.columns[:-1])\n",
    "sns.set_context('notebook')\n",
    "sns.set_style('ticks')\n",
    "d = sns.barplot(x='variable', y = 'value', hue=\"Condition\", data=df, palette=\"Blues\")\n",
    "d.set_ylabel('Fraction')\n",
    "loc, labels = plt.xticks()\n",
    "d.set_xticklabels(labels, rotation=90)\n",
    "d.set_xlabel('Cell type')\n",
    "plt.legend(bbox_to_anchor=(1.2, 1), borderaxespad=0., title=\"Condition\")\n",
    "\n",
    "plot_path = \"../data/benchmark_results/\"\n",
    "# plt.savefig(plot_path + \"haber_bars_blue.svg\", format=\"svg\", bbox_inches=\"tight\")\n",
    "# plt.savefig(plot_path + \"haber_bars_blue.png\", format=\"png\", bbox_inches=\"tight\")\n",
    "\n",
    "plt.show()"
   ],
   "metadata": {
    "collapsed": false,
    "pycharm": {
     "name": "#%%\n"
    }
   }
  },
  {
   "cell_type": "code",
   "execution_count": 4,
   "outputs": [
    {
     "data": {
      "text/plain": "<Figure size 864x360 with 1 Axes>",
      "image/png": "[encoded data removed]"
     },
     "metadata": {},
     "output_type": "display_data"
    }
   ],
   "source": [
    "# Boxplots look a little better\n",
    "fig, ax = plt.subplots(figsize=(12,5))\n",
    "d = sns.boxplot(x='variable', y = 'value', hue=df[\"Condition\"], data=df, fliersize=1,\n",
    "               palette='Blues')\n",
    "\n",
    "d.set_ylabel('Proportion')\n",
    "loc, labels = plt.xticks()\n",
    "d.set_xticklabels(labels, rotation=90)\n",
    "d.set_xlabel('Cell type')\n",
    "d.set_ylim([0,0.5])\n",
    "plt.legend(bbox_to_anchor=(1.33, 1), borderaxespad=0., title=\"Condition\")\n",
    "\n",
    "# plt.savefig(plot_path + \"haber_boxes_blue.svg\", format=\"svg\", bbox_inches=\"tight\")\n",
    "# plt.savefig(plot_path + \"haber_boxes_blue.png\", format=\"png\", bbox_inches=\"tight\")\n",
    "\n",
    "plt.show()"
   ],
   "metadata": {
    "collapsed": false,
    "pycharm": {
     "name": "#%%\n"
    }
   }
  },
  {
   "cell_type": "markdown",
   "source": [
    "Apply scCODA to Salmonella (reference: Goblet cells)\n",
    "\n",
    "--> Only Enterocytes are significant \n",
    "\n",
    "--> Haber et al: Enterocytes, Stem, TA, and TA (early) cells change"
   ],
   "metadata": {
    "collapsed": false,
    "pycharm": {
     "name": "#%% md\n"
    }
   }
  },
  {
   "cell_type": "code",
   "execution_count": 5,
   "outputs": [
    {
     "name": "stdout",
     "output_type": "stream",
     "text": [
      "Automatic reference selection! Reference cell type set to Endocrine\n",
      "MCMC sampling finished. (54.327 sec)\n",
      "Acceptance rate: 66.5%\n"
     ]
    }
   ],
   "source": [
    "# model Salmonella\n",
    "data_salm = data_all[data_all.obs[\"Condition\"].isin([\"Control\", \"Salm\"])]\n",
    "\n",
    "model_salmonella = mod.CompositionalAnalysis(data_salm, formula=\"Condition\", reference_cell_type=\"automatic\")\n",
    "results_salmonella = model_salmonella.sample_hmc()\n",
    "results_salmonella.set_fdr(est_fdr=0.2)"
   ],
   "metadata": {
    "collapsed": false,
    "pycharm": {
     "name": "#%%\n"
    }
   }
  },
  {
   "cell_type": "code",
   "execution_count": 6,
   "outputs": [
    {
     "name": "stdout",
     "output_type": "stream",
     "text": [
      "Compositional Analysis summary (extended):\n",
      "\n",
      "Data: 6 samples, 8 cell types\n",
      "Reference index: 0\n",
      "Formula: Condition\n",
      "Spike-and-slab threshold: 0.996\n",
      "\n",
      "MCMC Sampling: Sampled 20000 chain states (5000 burnin samples) in 54.327 sec. Acceptance rate: 66.5%\n",
      "\n",
      "Intercepts:\n",
      "                       Final Parameter  HDI 3%  HDI 97%     SD  \\\n",
      "Cell Type                                                        \n",
      "Endocrine                        1.191   0.494    1.815  0.357   \n",
      "Enterocyte                       2.346   1.759    2.969  0.325   \n",
      "Enterocyte.Progenitor            2.543   1.929    3.127  0.325   \n",
      "Goblet                           1.700   1.042    2.311  0.341   \n",
      "Stem                             2.724   2.138    3.321  0.318   \n",
      "TA                               2.134   1.512    2.767  0.337   \n",
      "TA.Early                         2.879   2.309    3.478  0.314   \n",
      "Tuft                             0.445  -0.274    1.174  0.393   \n",
      "\n",
      "                       Expected Sample  \n",
      "Cell Type                               \n",
      "Endocrine                    36.646216  \n",
      "Enterocyte                  116.315948  \n",
      "Enterocyte.Progenitor       141.643053  \n",
      "Goblet                       60.965625  \n",
      "Stem                        169.747184  \n",
      "TA                           94.095496  \n",
      "TA.Early                    198.206651  \n",
      "Tuft                         17.379827  \n",
      "\n",
      "\n",
      "Effects:\n",
      "                                         Final Parameter  HDI 3%  HDI 97%  \\\n",
      "Covariate         Cell Type                                                 \n",
      "Condition[T.Salm] Endocrine                     0.000000   0.000    0.000   \n",
      "                  Enterocyte                    1.368287   0.853    1.877   \n",
      "                  Enterocyte.Progenitor         0.000000  -0.381    0.588   \n",
      "                  Goblet                        0.000000  -0.255    1.077   \n",
      "                  Stem                          0.000000  -0.775    0.199   \n",
      "                  TA                            0.000000  -0.855    0.333   \n",
      "                  TA.Early                      0.000000  -0.443    0.509   \n",
      "                  Tuft                          0.000000  -0.900    1.082   \n",
      "\n",
      "                                            SD  Inclusion probability  \\\n",
      "Covariate         Cell Type                                             \n",
      "Condition[T.Salm] Endocrine              0.000               0.000000   \n",
      "                  Enterocyte             0.276               0.996800   \n",
      "                  Enterocyte.Progenitor  0.152               0.306400   \n",
      "                  Goblet                 0.310               0.497733   \n",
      "                  Stem                   0.206               0.371133   \n",
      "                  TA                     0.237               0.371133   \n",
      "                  TA.Early               0.134               0.291733   \n",
      "                  Tuft                   0.323               0.394600   \n",
      "\n",
      "                                         Expected Sample  log2-fold change  \n",
      "Covariate         Cell Type                                                 \n",
      "Condition[T.Salm] Endocrine                    26.027927         -0.493604  \n",
      "                  Enterocyte                  324.555596          1.480417  \n",
      "                  Enterocyte.Progenitor       100.601792         -0.493604  \n",
      "                  Goblet                       43.300755         -0.493604  \n",
      "                  Stem                        120.562715         -0.493604  \n",
      "                  TA                           66.831202         -0.493604  \n",
      "                  TA.Early                    140.776014         -0.493604  \n",
      "                  Tuft                         12.343999         -0.493604  \n"
     ]
    }
   ],
   "source": [
    "results_salmonella.summary_extended()"
   ],
   "metadata": {
    "collapsed": false,
    "pycharm": {
     "name": "#%%\n"
    }
   }
  },
  {
   "cell_type": "markdown",
   "source": [
    "Apply scCODA to H. Polygyrus 3 days (reference: TA cells)\n",
    "\n",
    "--> No significant changes in cell composition\n",
    "\n",
    "--> Haber et al: Tuft cells change"
   ],
   "metadata": {
    "collapsed": false
   }
  },
  {
   "cell_type": "code",
   "execution_count": 7,
   "outputs": [
    {
     "name": "stdout",
     "output_type": "stream",
     "text": [
      "Automatic reference selection! Reference cell type set to TA.Early\n",
      "MCMC sampling finished. (49.505 sec)\n",
      "Acceptance rate: 45.1%\n"
     ]
    }
   ],
   "source": [
    "# model H. polygyrus day 3\n",
    "data_hp3 = data_all[data_all.obs[\"Condition\"].isin([\"Control\", \"H.poly.Day3\"])]\n",
    "\n",
    "model_hp3 = mod.CompositionalAnalysis(data_hp3, formula=\"Condition\", reference_cell_type=\"automatic\")\n",
    "results_hp3 = model_hp3.sample_hmc()\n",
    "results_hp3.set_fdr(est_fdr=0.2)"
   ],
   "metadata": {
    "collapsed": false,
    "pycharm": {
     "name": "#%%\n"
    }
   }
  },
  {
   "cell_type": "code",
   "execution_count": 8,
   "outputs": [
    {
     "name": "stdout",
     "output_type": "stream",
     "text": [
      "Compositional Analysis summary (extended):\n",
      "\n",
      "Data: 6 samples, 8 cell types\n",
      "Reference index: 6\n",
      "Formula: Condition\n",
      "Spike-and-slab threshold: 1.000\n",
      "\n",
      "MCMC Sampling: Sampled 20000 chain states (5000 burnin samples) in 49.505 sec. Acceptance rate: 45.1%\n",
      "\n",
      "Intercepts:\n",
      "                       Final Parameter  HDI 3%  HDI 97%     SD  \\\n",
      "Cell Type                                                        \n",
      "Endocrine                        0.729   0.071    1.354  0.343   \n",
      "Enterocyte                       1.722   1.172    2.277  0.299   \n",
      "Enterocyte.Progenitor            2.051   1.474    2.613  0.296   \n",
      "Goblet                           1.063   0.437    1.694  0.335   \n",
      "Stem                             2.162   1.638    2.701  0.288   \n",
      "TA                               1.652   1.096    2.234  0.308   \n",
      "TA.Early                         2.306   1.761    2.825  0.279   \n",
      "Tuft                             0.310  -0.485    0.965  0.388   \n",
      "\n",
      "                       Expected Sample  \n",
      "Cell Type                               \n",
      "Endocrine                    42.440548  \n",
      "Enterocyte                  114.560633  \n",
      "Enterocyte.Progenitor       159.190918  \n",
      "Goblet                       59.270056  \n",
      "Stem                        177.879121  \n",
      "TA                          106.815626  \n",
      "TA.Early                    205.429771  \n",
      "Tuft                         27.913326  \n",
      "\n",
      "\n",
      "Effects:\n",
      "                                                Final Parameter  HDI 3%  \\\n",
      "Covariate                Cell Type                                        \n",
      "Condition[T.H.poly.Day3] Endocrine                          0.0  -0.445   \n",
      "                         Enterocyte                         0.0  -0.593   \n",
      "                         Enterocyte.Progenitor              0.0  -0.266   \n",
      "                         Goblet                             0.0  -0.782   \n",
      "                         Stem                               0.0  -0.691   \n",
      "                         TA                                 0.0  -0.489   \n",
      "                         TA.Early                           0.0   0.000   \n",
      "                         Tuft                               0.0  -0.496   \n",
      "\n",
      "                                                HDI 97%     SD  \\\n",
      "Covariate                Cell Type                               \n",
      "Condition[T.H.poly.Day3] Endocrine                0.818  0.241   \n",
      "                         Enterocyte               0.371  0.184   \n",
      "                         Enterocyte.Progenitor    0.582  0.164   \n",
      "                         Goblet                   0.359  0.200   \n",
      "                         Stem                     0.224  0.197   \n",
      "                         TA                       0.376  0.156   \n",
      "                         TA.Early                 0.000  0.000   \n",
      "                         Tuft                     1.126  0.360   \n",
      "\n",
      "                                                Inclusion probability  \\\n",
      "Covariate                Cell Type                                      \n",
      "Condition[T.H.poly.Day3] Endocrine                           0.514933   \n",
      "                         Enterocyte                          0.488200   \n",
      "                         Enterocyte.Progenitor               0.472200   \n",
      "                         Goblet                              0.469667   \n",
      "                         Stem                                0.526867   \n",
      "                         TA                                  0.443067   \n",
      "                         TA.Early                            0.000000   \n",
      "                         Tuft                                0.572667   \n",
      "\n",
      "                                                Expected Sample  \\\n",
      "Covariate                Cell Type                                \n",
      "Condition[T.H.poly.Day3] Endocrine                    42.440548   \n",
      "                         Enterocyte                  114.560633   \n",
      "                         Enterocyte.Progenitor       159.190918   \n",
      "                         Goblet                       59.270056   \n",
      "                         Stem                        177.879121   \n",
      "                         TA                          106.815626   \n",
      "                         TA.Early                    205.429771   \n",
      "                         Tuft                         27.913326   \n",
      "\n",
      "                                                log2-fold change  \n",
      "Covariate                Cell Type                                \n",
      "Condition[T.H.poly.Day3] Endocrine                           0.0  \n",
      "                         Enterocyte                          0.0  \n",
      "                         Enterocyte.Progenitor               0.0  \n",
      "                         Goblet                              0.0  \n",
      "                         Stem                                0.0  \n",
      "                         TA                                  0.0  \n",
      "                         TA.Early                            0.0  \n",
      "                         Tuft                                0.0  \n"
     ]
    }
   ],
   "source": [
    "results_hp3.summary_extended()"
   ],
   "metadata": {
    "collapsed": false,
    "pycharm": {
     "name": "#%%\n"
    }
   }
  },
  {
   "cell_type": "markdown",
   "source": [
    "Apply scCODA to H. Polygyrus 10 days (reference: TA cells)\n",
    "\n",
    "--> Enterocytes and Tuft cells are significant \n",
    "\n",
    "--> Haber et al: Enterocytes, Goblet, Tuft, and TA (early) cells change"
   ],
   "metadata": {
    "collapsed": false
   }
  },
  {
   "cell_type": "code",
   "execution_count": 9,
   "outputs": [
    {
     "name": "stdout",
     "output_type": "stream",
     "text": [
      "Automatic reference selection! Reference cell type set to Endocrine\n",
      "MCMC sampling finished. (50.765 sec)\n",
      "Acceptance rate: 65.3%\n"
     ]
    }
   ],
   "source": [
    "# model H. polygyrus day 10\n",
    "data_hp10 = data_all[data_all.obs[\"Condition\"].isin([\"Control\", \"H.poly.Day10\"])]\n",
    "\n",
    "model_hp10 = mod.CompositionalAnalysis(data_hp10, formula=\"Condition\", reference_cell_type=\"automatic\")\n",
    "results_hp10 = model_hp10.sample_hmc()\n",
    "results_hp10.set_fdr(est_fdr=0.2)"
   ],
   "metadata": {
    "collapsed": false,
    "pycharm": {
     "name": "#%%\n"
    }
   }
  },
  {
   "cell_type": "code",
   "execution_count": 15,
   "outputs": [
    {
     "name": "stdout",
     "output_type": "stream",
     "text": [
      "Compositional Analysis summary (extended):\n",
      "\n",
      "Data: 6 samples, 8 cell types\n",
      "Reference index: 0\n",
      "Formula: Condition\n",
      "Spike-and-slab threshold: 1.000\n",
      "\n",
      "MCMC Sampling: Sampled 20000 chain states (5000 burnin samples) in 50.765 sec. Acceptance rate: 65.3%\n",
      "\n",
      "Intercepts:\n",
      "                       Final Parameter  HDI 3%  HDI 97%     SD  \\\n",
      "Cell Type                                                        \n",
      "Endocrine                        0.723   0.056    1.425  0.365   \n",
      "Enterocyte                       1.843   1.085    2.550  0.394   \n",
      "Enterocyte.Progenitor            2.230   1.641    2.877  0.331   \n",
      "Goblet                           1.440   0.768    2.052  0.344   \n",
      "Stem                             2.457   1.878    3.051  0.320   \n",
      "TA                               1.873   1.239    2.499  0.338   \n",
      "TA.Early                         2.464   1.845    3.112  0.338   \n",
      "Tuft                             0.449  -0.316    1.124  0.389   \n",
      "\n",
      "                       Expected Sample  \n",
      "Cell Type                               \n",
      "Endocrine                    38.278267  \n",
      "Enterocyte                  117.317308  \n",
      "Enterocyte.Progenitor       172.756363  \n",
      "Goblet                       78.404576  \n",
      "Stem                        216.779845  \n",
      "TA                          120.890152  \n",
      "TA.Early                    218.302627  \n",
      "Tuft                         29.104194  \n",
      "\n",
      "\n",
      "Effects:\n",
      "                                                 Final Parameter  HDI 3%  \\\n",
      "Covariate                 Cell Type                                        \n",
      "Condition[T.H.poly.Day10] Endocrine                          0.0   0.000   \n",
      "                          Enterocyte                         0.0  -1.502   \n",
      "                          Enterocyte.Progenitor              0.0  -0.268   \n",
      "                          Goblet                             0.0  -0.222   \n",
      "                          Stem                               0.0  -0.460   \n",
      "                          TA                                 0.0  -0.499   \n",
      "                          TA.Early                           0.0  -0.885   \n",
      "                          Tuft                               0.0  -0.186   \n",
      "\n",
      "                                                 HDI 97%     SD  \\\n",
      "Covariate                 Cell Type                               \n",
      "Condition[T.H.poly.Day10] Endocrine                0.000  0.000   \n",
      "                          Enterocyte               0.057  0.481   \n",
      "                          Enterocyte.Progenitor    0.785  0.218   \n",
      "                          Goblet                   1.126  0.331   \n",
      "                          Stem                     0.589  0.164   \n",
      "                          TA                       0.641  0.187   \n",
      "                          TA.Early                 0.187  0.267   \n",
      "                          Tuft                     1.734  0.580   \n",
      "\n",
      "                                                 Inclusion probability  \\\n",
      "Covariate                 Cell Type                                      \n",
      "Condition[T.H.poly.Day10] Endocrine                           0.000000   \n",
      "                          Enterocyte                          0.763067   \n",
      "                          Enterocyte.Progenitor               0.446600   \n",
      "                          Goblet                              0.561933   \n",
      "                          Stem                                0.406600   \n",
      "                          TA                                  0.415267   \n",
      "                          TA.Early                            0.524067   \n",
      "                          Tuft                                0.773733   \n",
      "\n",
      "                                                 Expected Sample  \\\n",
      "Covariate                 Cell Type                                \n",
      "Condition[T.H.poly.Day10] Endocrine                    38.278267   \n",
      "                          Enterocyte                  117.317308   \n",
      "                          Enterocyte.Progenitor       172.756363   \n",
      "                          Goblet                       78.404576   \n",
      "                          Stem                        216.779845   \n",
      "                          TA                          120.890152   \n",
      "                          TA.Early                    218.302627   \n",
      "                          Tuft                         29.104194   \n",
      "\n",
      "                                                 log2-fold change  \n",
      "Covariate                 Cell Type                                \n",
      "Condition[T.H.poly.Day10] Endocrine                           0.0  \n",
      "                          Enterocyte                          0.0  \n",
      "                          Enterocyte.Progenitor               0.0  \n",
      "                          Goblet                              0.0  \n",
      "                          Stem                                0.0  \n",
      "                          TA                                  0.0  \n",
      "                          TA.Early                            0.0  \n",
      "                          Tuft                                0.0  \n"
     ]
    }
   ],
   "source": [
    "results_hp10.summary_extended()"
   ],
   "metadata": {
    "collapsed": false,
    "pycharm": {
     "name": "#%%\n"
    }
   }
  },
  {
   "cell_type": "markdown",
   "source": [
    "## Comparative analysis with *ancom*\n",
    "\n",
    "We want to compare our findings to the results produced by applying *ancom*\n",
    "[(Mandal et al., 2017)](https://pubmed.ncbi.nlm.nih.gov/26028277/) to the data."
   ],
   "metadata": {
    "collapsed": false,
    "pycharm": {
     "name": "#%% md\n"
    }
   }
  },
  {
   "cell_type": "code",
   "execution_count": 11,
   "outputs": [
    {
     "name": "stdout",
     "output_type": "stream",
     "text": [
      "(                       W  Reject null hypothesis\n",
      "Endocrine              0                   False\n",
      "Enterocyte             0                   False\n",
      "Enterocyte.Progenitor  0                   False\n",
      "Goblet                 0                   False\n",
      "Stem                   0                   False\n",
      "TA                     0                   False\n",
      "TA.Early               0                   False\n",
      "Tuft                   0                   False, Percentile              0.0     25.0    50.0    75.0    100.0  0.0     25.0   \\\n",
      "Group                 Control Control Control Control Control   Salm    Salm   \n",
      "Endocrine                 5.0   20.75    31.0   38.25    45.0   32.0   33.25   \n",
      "Enterocyte               46.0   55.75    78.5  128.75   221.0  332.0  342.25   \n",
      "Enterocyte.Progenitor    23.0  107.75   162.0  190.50   198.0  113.0  113.75   \n",
      "Goblet                   20.0   32.00    36.0   58.00   124.0   59.0   61.00   \n",
      "Stem                     50.0  110.75   185.0  241.75   250.0   90.0   96.75   \n",
      "TA                       11.0   96.50   127.5  136.25   155.0   47.0   51.50   \n",
      "TA.Early                 40.0  153.25   193.5  238.25   365.0  132.0  141.00   \n",
      "Tuft                      4.0    4.75    11.5   21.75    33.0   10.0   10.50   \n",
      "\n",
      "Percentile             50.0    75.0   100.0  \n",
      "Group                   Salm    Salm   Salm  \n",
      "Endocrine               34.5   35.75   37.0  \n",
      "Enterocyte             352.5  362.75  373.0  \n",
      "Enterocyte.Progenitor  114.5  115.25  116.0  \n",
      "Goblet                  63.0   65.00   67.0  \n",
      "Stem                   103.5  110.25  117.0  \n",
      "TA                      56.0   60.50   65.0  \n",
      "TA.Early               150.0  159.00  168.0  \n",
      "Tuft                    11.0   11.50   12.0  )\n"
     ]
    }
   ],
   "source": [
    "salm_ancom = data_salm.copy()\n",
    "salm_ancom.obs = salm_ancom.obs.rename(columns={\"Condition\": \"x_0\"})\n",
    "model_salm_ancom = om.AncomModel(salm_ancom)\n",
    "model_salm_ancom.fit_model(alpha=0.2)\n",
    "print(model_salm_ancom.ancom_out)"
   ],
   "metadata": {
    "collapsed": false,
    "pycharm": {
     "name": "#%%\n"
    }
   }
  },
  {
   "cell_type": "code",
   "execution_count": 12,
   "outputs": [
    {
     "name": "stdout",
     "output_type": "stream",
     "text": [
      "(                       W  Reject null hypothesis\n",
      "Endocrine              0                   False\n",
      "Enterocyte             0                   False\n",
      "Enterocyte.Progenitor  0                   False\n",
      "Goblet                 0                   False\n",
      "Stem                   0                   False\n",
      "TA                     0                   False\n",
      "TA.Early               0                   False\n",
      "Tuft                   0                   False, Percentile              0.0     25.0    50.0    75.0    100.0       0.0    \\\n",
      "Group                 Control Control Control Control Control H.poly.Day3   \n",
      "Endocrine                 5.0   20.75    31.0   38.25    45.0        52.0   \n",
      "Enterocyte               46.0   55.75    78.5  128.75   221.0        75.0   \n",
      "Enterocyte.Progenitor    23.0  107.75   162.0  190.50   198.0       115.0   \n",
      "Goblet                   20.0   32.00    36.0   58.00   124.0        33.0   \n",
      "Stem                     50.0  110.75   185.0  241.75   250.0        65.0   \n",
      "TA                       11.0   96.50   127.5  136.25   155.0        39.0   \n",
      "TA.Early                 40.0  153.25   193.5  238.25   365.0       129.0   \n",
      "Tuft                      4.0    4.75    11.5   21.75    33.0        51.0   \n",
      "\n",
      "Percentile                  25.0        50.0        75.0        100.0  \n",
      "Group                 H.poly.Day3 H.poly.Day3 H.poly.Day3 H.poly.Day3  \n",
      "Endocrine                   55.25        58.5       61.75        65.0  \n",
      "Enterocyte                  87.75       100.5      113.25       126.0  \n",
      "Enterocyte.Progenitor      173.00       231.0      289.00       347.0  \n",
      "Goblet                      41.25        49.5       57.75        66.0  \n",
      "Stem                       129.50       194.0      258.50       323.0  \n",
      "TA                          95.00       151.0      207.00       263.0  \n",
      "TA.Early                   175.00       221.0      267.00       313.0  \n",
      "Tuft                        53.00        55.0       57.00        59.0  )\n"
     ]
    }
   ],
   "source": [
    "\n",
    "hp3_ancom = data_hp3.copy()\n",
    "hp3_ancom.obs = hp3_ancom.obs.rename(columns={\"Condition\": \"x_0\"})\n",
    "model_hp3_ancom = om.AncomModel(hp3_ancom)\n",
    "model_hp3_ancom.fit_model(alpha=0.2)\n",
    "print(model_hp3_ancom.ancom_out)"
   ],
   "metadata": {
    "collapsed": false,
    "pycharm": {
     "name": "#%%\n"
    }
   }
  },
  {
   "cell_type": "code",
   "execution_count": 13,
   "outputs": [
    {
     "name": "stdout",
     "output_type": "stream",
     "text": [
      "(                       W  Reject null hypothesis\n",
      "Endocrine              0                   False\n",
      "Enterocyte             0                   False\n",
      "Enterocyte.Progenitor  0                   False\n",
      "Goblet                 0                   False\n",
      "Stem                   0                   False\n",
      "TA                     0                   False\n",
      "TA.Early               0                   False\n",
      "Tuft                   0                   False, Percentile              0.0     25.0    50.0    75.0    100.0        0.0    \\\n",
      "Group                 Control Control Control Control Control H.poly.Day10   \n",
      "Endocrine                 5.0   20.75    31.0   38.25    45.0         40.0   \n",
      "Enterocyte               46.0   55.75    78.5  128.75   221.0         57.0   \n",
      "Enterocyte.Progenitor    23.0  107.75   162.0  190.50   198.0        203.0   \n",
      "Goblet                   20.0   32.00    36.0   58.00   124.0        147.0   \n",
      "Stem                     50.0  110.75   185.0  241.75   250.0        271.0   \n",
      "TA                       11.0   96.50   127.5  136.25   155.0        109.0   \n",
      "TA.Early                 40.0  153.25   193.5  238.25   365.0        180.0   \n",
      "Tuft                      4.0    4.75    11.5   21.75    33.0         71.0   \n",
      "\n",
      "Percentile                   25.0         50.0         75.0         100.0  \n",
      "Group                 H.poly.Day10 H.poly.Day10 H.poly.Day10 H.poly.Day10  \n",
      "Endocrine                    40.50         41.0        41.50         42.0  \n",
      "Enterocyte                   60.50         64.0        67.50         71.0  \n",
      "Enterocyte.Progenitor       248.00        293.0       338.00        383.0  \n",
      "Goblet                      152.75        158.5       164.25        170.0  \n",
      "Stem                        283.50        296.0       308.50        321.0  \n",
      "TA                          142.75        176.5       210.25        244.0  \n",
      "TA.Early                    199.00        218.0       237.00        256.0  \n",
      "Tuft                         89.75        108.5       127.25        146.0  )\n"
     ]
    }
   ],
   "source": [
    "\n",
    "hp10_ancom = data_hp10.copy()\n",
    "hp10_ancom.obs = hp10_ancom.obs.rename(columns={\"Condition\": \"x_0\"})\n",
    "model_hp10_ancom = om.AncomModel(hp10_ancom)\n",
    "model_hp10_ancom.fit_model(alpha=0.2)\n",
    "print(model_hp10_ancom.ancom_out)"
   ],
   "metadata": {
    "collapsed": false,
    "pycharm": {
     "name": "#%%\n"
    }
   }
  },
  {
   "cell_type": "code",
   "execution_count": 14,
   "outputs": [
    {
     "name": "stderr",
     "output_type": "stream",
     "text": [
      "Trying to set attribute `.X` of view, copying.\n"
     ]
    },
    {
     "name": "stdout",
     "output_type": "stream",
     "text": [
      "(                       W  Reject null hypothesis\n",
      "Endocrine              0                   False\n",
      "Enterocyte             0                   False\n",
      "Enterocyte.Progenitor  0                   False\n",
      "Goblet                 0                   False\n",
      "Stem                   0                   False\n",
      "TA                     0                   False\n",
      "TA.Early               0                   False\n",
      "Tuft                   0                   False, Percentile              0.0     25.0    50.0    75.0    100.0  0.0     25.0   \\\n",
      "Group                 Control Control Control Control Control   Salm    Salm   \n",
      "Endocrine                 5.0   20.75    31.0   38.25    45.0   32.0   33.25   \n",
      "Enterocyte               46.0   55.75    78.5  128.75   221.0  332.0  342.25   \n",
      "Enterocyte.Progenitor    23.0  107.75   162.0  190.50   198.0  113.0  113.75   \n",
      "Goblet                   20.0   32.00    36.0   58.00   124.0   59.0   61.00   \n",
      "Stem                     50.0  110.75   185.0  241.75   250.0   90.0   96.75   \n",
      "TA                       11.0   96.50   127.5  136.25   155.0   47.0   51.50   \n",
      "TA.Early                 40.0  153.25   193.5  238.25   365.0  132.0  141.00   \n",
      "Tuft                      4.0    4.75    11.5   21.75    33.0   10.0   10.50   \n",
      "\n",
      "Percentile             50.0    75.0   100.0  \n",
      "Group                   Salm    Salm   Salm  \n",
      "Endocrine               34.5   35.75   37.0  \n",
      "Enterocyte             352.5  362.75  373.0  \n",
      "Enterocyte.Progenitor  114.5  115.25  116.0  \n",
      "Goblet                  63.0   65.00   67.0  \n",
      "Stem                   103.5  110.25  117.0  \n",
      "TA                      56.0   60.50   65.0  \n",
      "TA.Early               150.0  159.00  168.0  \n",
      "Tuft                    11.0   11.50   12.0  )\n"
     ]
    }
   ],
   "source": [
    "data_salm = data_all[data_all.obs[\"Condition\"].isin([\"Control\", \"Salm\"])]\n",
    "\n",
    "model_ancom = om.AncomModel(data_salm, covariate_column=\"Condition\")\n",
    "model_ancom.fit_model(alpha=0.2)\n",
    "print(model_ancom.ancom_out)"
   ],
   "metadata": {
    "collapsed": false,
    "pycharm": {
     "name": "#%%\n"
    }
   }
  }
 ],
 "metadata": {
  "kernelspec": {
   "name": "python3",
   "language": "python",
   "display_name": "Python 3"
  },
  "language_info": {
   "codemirror_mode": {
    "name": "ipython",
    "version": 2
   },
   "file_extension": ".py",
   "mimetype": "text/x-python",
   "name": "python",
   "nbconvert_exporter": "python",
   "pygments_lexer": "ipython2",
   "version": "2.7.6"
  }
 },
 "nbformat": 4,
 "nbformat_minor": 0
}