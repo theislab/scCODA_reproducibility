{
 "cells": [
  {
   "cell_type": "markdown",
   "metadata": {
    "collapsed": true,
    "pycharm": {
     "name": "#%% md\n"
    }
   },
   "source": [
    "# Analysis of (Haber et al.)\n",
    "\n",
    "We want to re-analyze the data from [*Haber et al. [2017]*](https://www.nature.com/articles/nature24489). \n",
    "The dataset contains cell compositions of the intestinal epithelium of mice under 4 conditions\n",
    "(control, Salmonella infection, H. polygyrus infection (3 days), and H. polygyrus infection (10 days)).\n",
    "\n",
    "In the original paper, differential abundance was tested via a Poisson regression model, \n",
    "not taking compositional effects into account.\n",
    "We want to analyze whether the findings are consistent with SCDCdm."
   ]
  },
  {
   "cell_type": "code",
   "execution_count": 1,
   "outputs": [],
   "source": [
    "# Setup\n",
    "import warnings\n",
    "warnings.filterwarnings(\"ignore\")\n",
    "\n",
    "import pandas as pd\n",
    "import matplotlib.pyplot as plt\n",
    "import seaborn as sns\n",
    "import numpy as np\n",
    "\n",
    "from scdcdm.util import comp_ana as mod\n",
    "from scdcdm.util import cell_composition_data as dat"
   ],
   "metadata": {
    "collapsed": false,
    "pycharm": {
     "name": "#%%\n",
     "is_executing": false
    }
   }
  },
  {
   "cell_type": "markdown",
   "source": [
    "Load and format data: \n",
    "\n",
    "4 control samples, 2 samples for other conditions each; 8 cell types"
   ],
   "metadata": {
    "collapsed": false,
    "pycharm": {
     "name": "#%% md\n"
    }
   }
  },
  {
   "cell_type": "code",
   "execution_count": 2,
   "outputs": [
    {
     "name": "stdout",
     "text": [
      "            Mouse  Endocrine  Enterocyte  Enterocyte.Progenitor  Goblet  Stem  \\\n",
      "0       Control_1         36          59                    136      36   239   \n",
      "1       Control_2          5          46                     23      20    50   \n",
      "2       Control_3         45          98                    188     124   250   \n",
      "3       Control_4         26         221                    198      36   131   \n",
      "4  H.poly.Day10_1         42          71                    203     147   271   \n",
      "5  H.poly.Day10_2         40          57                    383     170   321   \n",
      "6   H.poly.Day3_1         52          75                    347      66   323   \n",
      "7   H.poly.Day3_2         65         126                    115      33    65   \n",
      "8          Salm_1         37         332                    113      59    90   \n",
      "9          Salm_2         32         373                    116      67   117   \n",
      "\n",
      "    TA  TA.Early  Tuft     Condition  \n",
      "0  125       191    18       Control  \n",
      "1   11        40     5       Control  \n",
      "2  155       365    33       Control  \n",
      "3  130       196     4       Control  \n",
      "4  109       180   146  H.poly.Day10  \n",
      "5  244       256    71  H.poly.Day10  \n",
      "6  263       313    51   H.poly.Day3  \n",
      "7   39       129    59   H.poly.Day3  \n",
      "8   47       132    10          Salm  \n",
      "9   65       168    12          Salm  \n"
     ],
     "output_type": "stream"
    }
   ],
   "source": [
    "cell_counts = pd.read_csv(\"../data/haber_counts.csv\")\n",
    "\n",
    "cell_counts[\"Condition\"] = cell_counts[\"Mouse\"].str.replace(r\"_[0-9]\", \"\")\n",
    "data_all = dat.from_pandas(cell_counts, covariate_columns=[\"Mouse\", \"Condition\"])\n",
    "\n",
    "print(cell_counts)"
   ],
   "metadata": {
    "collapsed": false,
    "pycharm": {
     "name": "#%%\n",
     "is_executing": false
    }
   }
  },
  {
   "cell_type": "markdown",
   "source": [
    "Plot data for supplement:\n",
    "Goblet cells seem like a good baseline for Salmonella (not much change)\n",
    "For H. Polygyrus, take TA cells"
   ],
   "metadata": {
    "collapsed": false,
    "pycharm": {
     "name": "#%% md\n"
    }
   }
  },
  {
   "cell_type": "code",
   "execution_count": 3,
   "outputs": [
    {
     "data": {
      "text/plain": "<Figure size 864x360 with 1 Axes>",
      "image/png": "[encoded data removed]"
     },
     "metadata": {
      "needs_background": "light"
     },
     "output_type": "display_data"
    }
   ],
   "source": [
    "# Count data to ratios\n",
    "counts = cell_counts.iloc[:, 1:-1]\n",
    "rowsum = np.sum(counts, axis=1)\n",
    "\n",
    "ratios = counts.div(rowsum, axis=0)\n",
    "ratios[\"Condition\"] = cell_counts[\"Condition\"]\n",
    "\n",
    "# Plot\n",
    "fig, ax = plt.subplots(figsize=(12,5))\n",
    "df = pd.melt(ratios, id_vars=['Condition'], value_vars=ratios.columns[:-1])\n",
    "sns.set_context('notebook')\n",
    "sns.set_style('ticks')\n",
    "d = sns.barplot(x='variable', y = 'value', hue=\"Condition\", data=df, palette=\"Blues\")\n",
    "d.set_ylabel('Fraction')\n",
    "loc, labels = plt.xticks()\n",
    "d.set_xticklabels(labels, rotation=90)\n",
    "d.set_xlabel('Cell type')\n",
    "plt.legend(bbox_to_anchor=(1.2, 1), borderaxespad=0., title=\"Condition\")\n",
    "\n",
    "plot_path = \"C:\\\\Users\\\\Johannes\\\\Documents\\\\Uni\\\\Master's_Thesis\\\\SCDCdm\\\\data\\\\benchmark_results\\\\\"\n",
    "plt.savefig(plot_path + \"haber_bars_blue.svg\", format=\"svg\", bbox_inches=\"tight\")\n",
    "plt.savefig(plot_path + \"haber_bars_blue.png\", format=\"png\", bbox_inches=\"tight\")\n",
    "\n",
    "plt.show()"
   ],
   "metadata": {
    "collapsed": false,
    "pycharm": {
     "name": "#%%\n",
     "is_executing": false
    }
   }
  },
  {
   "cell_type": "code",
   "execution_count": 7,
   "outputs": [
    {
     "data": {
      "text/plain": "<Figure size 864x360 with 1 Axes>",
      "image/png": "[encoded data removed]"
     },
     "metadata": {},
     "output_type": "display_data"
    }
   ],
   "source": [
    "# Boxplots look a little better\n",
    "fig, ax = plt.subplots(figsize=(12,5))\n",
    "d = sns.boxplot(x='variable', y = 'value', hue=df[\"Condition\"], data=df, fliersize=1,\n",
    "               palette='Blues')\n",
    "\n",
    "d.set_ylabel('Proportion')\n",
    "loc, labels = plt.xticks()\n",
    "d.set_xticklabels(labels, rotation=90)\n",
    "d.set_xlabel('Cell type')\n",
    "d.set_ylim([0,0.5])\n",
    "plt.legend(bbox_to_anchor=(1.33, 1), borderaxespad=0., title=\"Condition\")\n",
    "\n",
    "plt.savefig(plot_path + \"haber_boxes_blue.svg\", format=\"svg\", bbox_inches=\"tight\")\n",
    "plt.savefig(plot_path + \"haber_boxes_blue.png\", format=\"png\", bbox_inches=\"tight\")\n",
    "\n",
    "plt.show()"
   ],
   "metadata": {
    "collapsed": false,
    "pycharm": {
     "name": "#%%\n",
     "is_executing": false
    }
   }
  },
  {
   "cell_type": "markdown",
   "source": [
    "Apply SCDCdm to Salmonella (baseline: Goblet cells)\n",
    "\n",
    "--> Only Enterocytes are significant \n",
    "\n",
    "--> Haber et al: Enterocytes, Stem, TA, and TA (early) cells change"
   ],
   "metadata": {
    "collapsed": false,
    "pycharm": {
     "name": "#%% md\n"
    }
   }
  },
  {
   "cell_type": "code",
   "execution_count": 5,
   "outputs": [
    {
     "name": "stdout",
     "text": [
      "MCMC sampling finished. (188.231 sec)\n",
      "Acceptance rate: 47.9%\n"
     ],
     "output_type": "stream"
    }
   ],
   "source": [
    "# model Salmonella\n",
    "data_salm = data_all[data_all.obs[\"Condition\"].isin([\"Control\", \"Salm\"])]\n",
    "\n",
    "model_salmonella = mod.CompositionalAnalysis(data_salm, formula=\"Condition\", baseline_index=\"Goblet\")\n",
    "results_salmonella = model_salmonella.sample_hmc()"
   ],
   "metadata": {
    "collapsed": false,
    "pycharm": {
     "name": "#%%\n",
     "is_executing": false
    }
   }
  },
  {
   "cell_type": "code",
   "execution_count": 8,
   "outputs": [
    {
     "name": "stdout",
     "text": [
      "Compositional Analysis summary:\n",
      "\n",
      "Data: 6 samples, 8 cell types\n",
      "Baseline index: 3\n",
      "Formula: Condition\n",
      "\n",
      "Intercepts:\n",
      "                       Final Parameter  Expected Sample\n",
      "Cell Type                                              \n",
      "Endocrine                        1.061        33.569993\n",
      "Enterocyte                       2.296       115.426344\n",
      "Enterocyte.Progenitor            2.499       141.405636\n",
      "Goblet                           1.733        65.735073\n",
      "Stem                             2.674       168.448929\n",
      "TA                               2.085        93.469260\n",
      "TA.Early                         2.844       199.663333\n",
      "Tuft                             0.397        17.281432\n",
      "\n",
      "\n",
      "Effects:\n",
      "                                         Final Parameter  Expected Sample  \\\n",
      "Covariate         Cell Type                                                 \n",
      "Condition[T.Salm] Endocrine                     0.000000        23.497788   \n",
      "                  Enterocyte                    1.411191       331.324310   \n",
      "                  Enterocyte.Progenitor         0.000000        98.978862   \n",
      "                  Goblet                        0.000000        46.012188   \n",
      "                  Stem                          0.000000       117.908194   \n",
      "                  TA                            0.000000        65.425122   \n",
      "                  TA.Early                      0.000000       139.757155   \n",
      "                  Tuft                          0.000000        12.096381   \n",
      "\n",
      "                                         log2-fold change  \n",
      "Covariate         Cell Type                                \n",
      "Condition[T.Salm] Endocrine                     -0.514647  \n",
      "                  Enterocyte                     1.521272  \n",
      "                  Enterocyte.Progenitor         -0.514647  \n",
      "                  Goblet                        -0.514647  \n",
      "                  Stem                          -0.514647  \n",
      "                  TA                            -0.514647  \n",
      "                  TA.Early                      -0.514647  \n",
      "                  Tuft                          -0.514647  \n"
     ],
     "output_type": "stream"
    }
   ],
   "source": [
    "results_salmonella.summary()"
   ],
   "metadata": {
    "collapsed": false,
    "pycharm": {
     "name": "#%%\n",
     "is_executing": false
    }
   }
  },
  {
   "cell_type": "markdown",
   "source": [
    "Apply SCDCdm to H. Polygyrus 3 days (baseline: TA cells)\n",
    "\n",
    "--> No significant changes in cell composition\n",
    "\n",
    "--> Haber et al: Tuft cells change"
   ],
   "metadata": {
    "collapsed": false
   }
  },
  {
   "cell_type": "code",
   "execution_count": 9,
   "outputs": [
    {
     "name": "stdout",
     "text": [
      "MCMC sampling finished. (238.644 sec)\n",
      "Acceptance rate: 48.0%\n"
     ],
     "output_type": "stream"
    }
   ],
   "source": [
    "# model H. polygyrus day 3\n",
    "data_hp3 = data_all[data_all.obs[\"Condition\"].isin([\"Control\", \"H.poly.Day3\"])]\n",
    "\n",
    "model_hp3 = mod.CompositionalAnalysis(data_hp3, formula=\"Condition\", baseline_index=\"TA\")\n",
    "results_hp3 = model_hp3.sample_hmc()"
   ],
   "metadata": {
    "collapsed": false,
    "pycharm": {
     "name": "#%%\n",
     "is_executing": false
    }
   }
  },
  {
   "cell_type": "code",
   "execution_count": 10,
   "outputs": [
    {
     "name": "stdout",
     "text": [
      "Compositional Analysis summary:\n",
      "\n",
      "Data: 6 samples, 8 cell types\n",
      "Baseline index: 5\n",
      "Formula: Condition\n",
      "\n",
      "Intercepts:\n",
      "                       Final Parameter  Expected Sample\n",
      "Cell Type                                              \n",
      "Endocrine                        0.698        41.112200\n",
      "Enterocyte                       1.734       115.851004\n",
      "Enterocyte.Progenitor            2.033       156.226193\n",
      "Goblet                           1.051        58.516275\n",
      "Stem                             2.180       180.965230\n",
      "TA                               1.643       105.774018\n",
      "TA.Early                         2.318       207.743660\n",
      "Tuft                             0.289        27.311420\n",
      "\n",
      "\n",
      "Effects:\n",
      "                                                Final Parameter  \\\n",
      "Covariate                Cell Type                                \n",
      "Condition[T.H.poly.Day3] Endocrine                          0.0   \n",
      "                         Enterocyte                         0.0   \n",
      "                         Enterocyte.Progenitor              0.0   \n",
      "                         Goblet                             0.0   \n",
      "                         Stem                               0.0   \n",
      "                         TA                                 0.0   \n",
      "                         TA.Early                           0.0   \n",
      "                         Tuft                               0.0   \n",
      "\n",
      "                                                Expected Sample  \\\n",
      "Covariate                Cell Type                                \n",
      "Condition[T.H.poly.Day3] Endocrine                    41.112200   \n",
      "                         Enterocyte                  115.851004   \n",
      "                         Enterocyte.Progenitor       156.226193   \n",
      "                         Goblet                       58.516275   \n",
      "                         Stem                        180.965230   \n",
      "                         TA                          105.774018   \n",
      "                         TA.Early                    207.743660   \n",
      "                         Tuft                         27.311420   \n",
      "\n",
      "                                                log2-fold change  \n",
      "Covariate                Cell Type                                \n",
      "Condition[T.H.poly.Day3] Endocrine                           0.0  \n",
      "                         Enterocyte                          0.0  \n",
      "                         Enterocyte.Progenitor               0.0  \n",
      "                         Goblet                              0.0  \n",
      "                         Stem                                0.0  \n",
      "                         TA                                  0.0  \n",
      "                         TA.Early                            0.0  \n",
      "                         Tuft                                0.0  \n"
     ],
     "output_type": "stream"
    }
   ],
   "source": [
    "results_hp3.summary()"
   ],
   "metadata": {
    "collapsed": false,
    "pycharm": {
     "name": "#%%\n",
     "is_executing": false
    }
   }
  },
  {
   "cell_type": "markdown",
   "source": [
    "Apply SCDCdm to H. Polygyrus 10 days (baseline: TA cells)\n",
    "\n",
    "--> Enterocytes and Tuft cells are significant \n",
    "\n",
    "--> Haber et al: Enterocytes, Goblet, Tuft, and TA (early) cells change"
   ],
   "metadata": {
    "collapsed": false
   }
  },
  {
   "cell_type": "code",
   "execution_count": 13,
   "outputs": [
    {
     "name": "stdout",
     "text": [
      "MCMC sampling finished. (179.790 sec)\n",
      "Acceptance rate: 65.7%\n"
     ],
     "output_type": "stream"
    }
   ],
   "source": [
    "# model H. polygyrus day 10\n",
    "data_hp10 = data_all[data_all.obs[\"Condition\"].isin([\"Control\", \"H.poly.Day10\"])]\n",
    "\n",
    "model_hp10 = mod.CompositionalAnalysis(data_hp10, formula=\"Condition\", baseline_index=\"TA\")\n",
    "results_hp10 = model_hp10.sample_hmc()"
   ],
   "metadata": {
    "collapsed": false,
    "pycharm": {
     "name": "#%%\n",
     "is_executing": false
    }
   }
  },
  {
   "cell_type": "code",
   "execution_count": 14,
   "outputs": [
    {
     "name": "stdout",
     "text": [
      "Compositional Analysis summary:\n",
      "\n",
      "Data: 6 samples, 8 cell types\n",
      "Baseline index: 5\n",
      "Formula: Condition\n",
      "\n",
      "Intercepts:\n",
      "                       Final Parameter  Expected Sample\n",
      "Cell Type                                              \n",
      "Endocrine                        0.722        37.769397\n",
      "Enterocyte                       1.853       117.038058\n",
      "Enterocyte.Progenitor            2.241       172.517584\n",
      "Goblet                           1.426        76.363067\n",
      "Stem                             2.469       216.696805\n",
      "TA                               1.902       122.915751\n",
      "TA.Early                         2.486       220.412142\n",
      "Tuft                             0.427        28.120509\n",
      "\n",
      "\n",
      "Effects:\n",
      "                                                 Final Parameter  \\\n",
      "Covariate                 Cell Type                                \n",
      "Condition[T.H.poly.Day10] Endocrine                     0.000000   \n",
      "                          Enterocyte                   -0.741428   \n",
      "                          Enterocyte.Progenitor         0.000000   \n",
      "                          Goblet                        0.000000   \n",
      "                          Stem                          0.000000   \n",
      "                          TA                            0.000000   \n",
      "                          TA.Early                      0.000000   \n",
      "                          Tuft                          0.854927   \n",
      "\n",
      "                                                 Expected Sample  \\\n",
      "Covariate                 Cell Type                                \n",
      "Condition[T.H.poly.Day10] Endocrine                    38.677246   \n",
      "                          Enterocyte                   57.101108   \n",
      "                          Enterocyte.Progenitor       176.664325   \n",
      "                          Goblet                       78.198578   \n",
      "                          Stem                        221.905466   \n",
      "                          TA                          125.870231   \n",
      "                          TA.Early                    225.710107   \n",
      "                          Tuft                         67.706253   \n",
      "\n",
      "                                                 log2-fold change  \n",
      "Covariate                 Cell Type                                \n",
      "Condition[T.H.poly.Day10] Endocrine                      0.034267  \n",
      "                          Enterocyte                    -1.035387  \n",
      "                          Enterocyte.Progenitor          0.034267  \n",
      "                          Goblet                         0.034267  \n",
      "                          Stem                           0.034267  \n",
      "                          TA                             0.034267  \n",
      "                          TA.Early                       0.034267  \n",
      "                          Tuft                           1.267666  \n"
     ],
     "output_type": "stream"
    }
   ],
   "source": [
    "results_hp10.summary()"
   ],
   "metadata": {
    "collapsed": false,
    "pycharm": {
     "name": "#%%\n",
     "is_executing": false
    }
   }
  }
 ],
 "metadata": {
  "kernelspec": {
   "name": "pycharm-6bf36ab6",
   "language": "python",
   "display_name": "PyCharm (SCDCdm_public)"
  },
  "language_info": {
   "codemirror_mode": {
    "name": "ipython",
    "version": 2
   },
   "file_extension": ".py",
   "mimetype": "text/x-python",
   "name": "python",
   "nbconvert_exporter": "python",
   "pygments_lexer": "ipython2",
   "version": "2.7.6"
  },
  "pycharm": {
   "stem_cell": {
    "cell_type": "raw",
    "source": [],
    "metadata": {
     "collapsed": false
    }
   }
  }
 },
 "nbformat": 4,
 "nbformat_minor": 0
}