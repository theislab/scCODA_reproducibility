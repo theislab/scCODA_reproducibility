{
 "cells": [
  {
   "cell_type": "markdown",
   "metadata": {
    "collapsed": true,
    "pycharm": {
     "name": "#%% md\n"
    }
   },
   "source": [
    "# Analysis of (Haber et al., 2017)\n",
    "\n",
    "We want to re-analyze the data from [*Haber et al. [2017]*](https://www.nature.com/articles/nature24489). \n",
    "The dataset contains cell compositions of the intestinal epithelium of mice under 4 conditions\n",
    "(control, Salmonella infection, H. polygyrus infection (3 days), and H. polygyrus infection (10 days)).\n",
    "\n",
    "In the original paper, differential abundance was tested via a Poisson regression model, \n",
    "not taking compositional effects into account.\n",
    "We want to analyze whether the findings are consistent with scCODA."
   ]
  },
  {
   "cell_type": "code",
   "execution_count": 1,
   "outputs": [],
   "source": [
    "# Setup\n",
    "import warnings\n",
    "warnings.filterwarnings(\"ignore\")\n",
    "\n",
    "import pandas as pd\n",
    "import matplotlib.pyplot as plt\n",
    "import seaborn as sns\n",
    "import numpy as np\n",
    "\n",
    "from sccoda.util import comp_ana as mod\n",
    "from sccoda.util import cell_composition_data as dat\n",
    "from sccoda.model import other_models as om"
   ],
   "metadata": {
    "collapsed": false,
    "pycharm": {
     "name": "#%%\n"
    }
   }
  },
  {
   "cell_type": "markdown",
   "source": [
    "Load and format data: \n",
    "\n",
    "4 control samples, 2 samples for other conditions each; 8 cell types"
   ],
   "metadata": {
    "collapsed": false,
    "pycharm": {
     "name": "#%% md\n"
    }
   }
  },
  {
   "cell_type": "code",
   "execution_count": 2,
   "outputs": [
    {
     "name": "stdout",
     "output_type": "stream",
     "text": [
      "            Mouse  Endocrine  Enterocyte  Enterocyte.Progenitor  Goblet  Stem  \\\n",
      "0       Control_1         36          59                    136      36   239   \n",
      "1       Control_2          5          46                     23      20    50   \n",
      "2       Control_3         45          98                    188     124   250   \n",
      "3       Control_4         26         221                    198      36   131   \n",
      "4  H.poly.Day10_1         42          71                    203     147   271   \n",
      "5  H.poly.Day10_2         40          57                    383     170   321   \n",
      "6   H.poly.Day3_1         52          75                    347      66   323   \n",
      "7   H.poly.Day3_2         65         126                    115      33    65   \n",
      "8          Salm_1         37         332                    113      59    90   \n",
      "9          Salm_2         32         373                    116      67   117   \n",
      "\n",
      "    TA  TA.Early  Tuft     Condition  \n",
      "0  125       191    18       Control  \n",
      "1   11        40     5       Control  \n",
      "2  155       365    33       Control  \n",
      "3  130       196     4       Control  \n",
      "4  109       180   146  H.poly.Day10  \n",
      "5  244       256    71  H.poly.Day10  \n",
      "6  263       313    51   H.poly.Day3  \n",
      "7   39       129    59   H.poly.Day3  \n",
      "8   47       132    10          Salm  \n",
      "9   65       168    12          Salm  \n"
     ]
    }
   ],
   "source": [
    "cell_counts = pd.read_csv(\"../../scCODA/data/haber_counts.csv\")\n",
    "\n",
    "cell_counts[\"Condition\"] = cell_counts[\"Mouse\"].str.replace(r\"_[0-9]\", \"\")\n",
    "data_all = dat.from_pandas(cell_counts, covariate_columns=[\"Mouse\", \"Condition\"])\n",
    "\n",
    "print(cell_counts)"
   ],
   "metadata": {
    "collapsed": false,
    "pycharm": {
     "name": "#%%\n"
    }
   }
  },
  {
   "cell_type": "markdown",
   "source": [
    "Plot data for supplement:\n",
    "Goblet cells seem like a good reference for Salmonella (not much change)\n",
    "For H. Polygyrus, take TA cells"
   ],
   "metadata": {
    "collapsed": false,
    "pycharm": {
     "name": "#%% md\n"
    }
   }
  },
  {
   "cell_type": "code",
   "execution_count": 3,
   "outputs": [
    {
     "data": {
      "text/plain": "<Figure size 864x360 with 1 Axes>",
      "image/png": "[encoded data removed]"
     },
     "metadata": {
      "needs_background": "light"
     },
     "output_type": "display_data"
    }
   ],
   "source": [
    "# Count data to ratios\n",
    "counts = cell_counts.iloc[:, 1:-1]\n",
    "rowsum = np.sum(counts, axis=1)\n",
    "\n",
    "ratios = counts.div(rowsum, axis=0)\n",
    "ratios[\"Condition\"] = cell_counts[\"Condition\"]\n",
    "\n",
    "# Plot\n",
    "fig, ax = plt.subplots(figsize=(12,5))\n",
    "df = pd.melt(ratios, id_vars=['Condition'], value_vars=ratios.columns[:-1])\n",
    "sns.set_context('notebook')\n",
    "sns.set_style('ticks')\n",
    "d = sns.barplot(x='variable', y = 'value', hue=\"Condition\", data=df, palette=\"Blues\")\n",
    "d.set_ylabel('Fraction')\n",
    "loc, labels = plt.xticks()\n",
    "d.set_xticklabels(labels, rotation=90)\n",
    "d.set_xlabel('Cell type')\n",
    "plt.legend(bbox_to_anchor=(1.2, 1), borderaxespad=0., title=\"Condition\")\n",
    "\n",
    "plot_path = \"../data/benchmark_results/\"\n",
    "# plt.savefig(plot_path + \"haber_bars_blue.svg\", format=\"svg\", bbox_inches=\"tight\")\n",
    "# plt.savefig(plot_path + \"haber_bars_blue.png\", format=\"png\", bbox_inches=\"tight\")\n",
    "\n",
    "plt.show()"
   ],
   "metadata": {
    "collapsed": false,
    "pycharm": {
     "name": "#%%\n"
    }
   }
  },
  {
   "cell_type": "code",
   "execution_count": 4,
   "outputs": [
    {
     "data": {
      "text/plain": "<Figure size 864x360 with 1 Axes>",
      "image/png": "[encoded data removed]"
     },
     "metadata": {},
     "output_type": "display_data"
    }
   ],
   "source": [
    "# Boxplots look a little better\n",
    "fig, ax = plt.subplots(figsize=(12,5))\n",
    "d = sns.boxplot(x='variable', y = 'value', hue=df[\"Condition\"], data=df, fliersize=1,\n",
    "               palette='Blues')\n",
    "\n",
    "d.set_ylabel('Proportion')\n",
    "loc, labels = plt.xticks()\n",
    "d.set_xticklabels(labels, rotation=90)\n",
    "d.set_xlabel('Cell type')\n",
    "d.set_ylim([0,0.5])\n",
    "plt.legend(bbox_to_anchor=(1.33, 1), borderaxespad=0., title=\"Condition\")\n",
    "\n",
    "# plt.savefig(plot_path + \"haber_boxes_blue.svg\", format=\"svg\", bbox_inches=\"tight\")\n",
    "# plt.savefig(plot_path + \"haber_boxes_blue.png\", format=\"png\", bbox_inches=\"tight\")\n",
    "\n",
    "plt.show()"
   ],
   "metadata": {
    "collapsed": false,
    "pycharm": {
     "name": "#%%\n"
    }
   }
  },
  {
   "cell_type": "markdown",
   "source": [
    "Apply scCODA to Salmonella (reference: Goblet cells)\n",
    "\n",
    "--> Only Enterocytes are significant \n",
    "\n",
    "--> Haber et al: Enterocytes, Stem, TA, and TA (early) cells change"
   ],
   "metadata": {
    "collapsed": false,
    "pycharm": {
     "name": "#%% md\n"
    }
   }
  },
  {
   "cell_type": "code",
   "execution_count": 5,
   "outputs": [
    {
     "name": "stdout",
     "output_type": "stream",
     "text": [
      "Automatic reference selection! Reference cell type set to Endocrine\n",
      "MCMC sampling finished. (80.725 sec)\n",
      "Acceptance rate: 56.4%\n"
     ]
    }
   ],
   "source": [
    "# model Salmonella\n",
    "data_salm = data_all[data_all.obs[\"Condition\"].isin([\"Control\", \"Salm\"])]\n",
    "\n",
    "model_salmonella = mod.CompositionalAnalysis(data_salm, formula=\"Condition\", reference_cell_type=\"automatic\")\n",
    "results_salmonella = model_salmonella.sample_hmc()"
   ],
   "metadata": {
    "collapsed": false,
    "pycharm": {
     "name": "#%%\n"
    }
   }
  },
  {
   "cell_type": "code",
   "execution_count": 6,
   "outputs": [
    {
     "name": "stdout",
     "output_type": "stream",
     "text": [
      "Compositional Analysis summary:\n",
      "\n",
      "Data: 6 samples, 8 cell types\n",
      "Reference index: 0\n",
      "Formula: Condition\n",
      "\n",
      "Intercepts:\n",
      "                       Final Parameter  Expected Sample\n",
      "Cell Type                                              \n",
      "Endocrine                        1.193        37.199374\n",
      "Enterocyte                       2.326       115.502472\n",
      "Enterocyte.Progenitor            2.530       141.640468\n",
      "Goblet                           1.676        60.297578\n",
      "Stem                             2.708       169.235618\n",
      "TA                               2.119        93.905780\n",
      "TA.Early                         2.875       199.994914\n",
      "Tuft                             0.423        17.223796\n",
      "\n",
      "\n",
      "Effects:\n",
      "                                         Final Parameter  Expected Sample  \\\n",
      "Covariate         Cell Type                                                 \n",
      "Condition[T.Salm] Endocrine                     0.000000        25.829800   \n",
      "                  Enterocyte                    1.430821       335.408862   \n",
      "                  Enterocyte.Progenitor         0.000000        98.349640   \n",
      "                  Goblet                        0.000000        41.868296   \n",
      "                  Stem                          0.000000       117.510640   \n",
      "                  TA                            0.000000        65.204526   \n",
      "                  TA.Early                      0.000000       138.868700   \n",
      "                  Tuft                          0.000000        11.959535   \n",
      "\n",
      "                                         log2-fold change  \n",
      "Covariate         Cell Type                                \n",
      "Condition[T.Salm] Endocrine                     -0.526242  \n",
      "                  Enterocyte                     1.537997  \n",
      "                  Enterocyte.Progenitor         -0.526242  \n",
      "                  Goblet                        -0.526242  \n",
      "                  Stem                          -0.526242  \n",
      "                  TA                            -0.526242  \n",
      "                  TA.Early                      -0.526242  \n",
      "                  Tuft                          -0.526242  \n"
     ]
    }
   ],
   "source": [
    "results_salmonella.summary()"
   ],
   "metadata": {
    "collapsed": false,
    "pycharm": {
     "name": "#%%\n"
    }
   }
  },
  {
   "cell_type": "markdown",
   "source": [
    "Apply scCODA to H. Polygyrus 3 days (reference: TA cells)\n",
    "\n",
    "--> No significant changes in cell composition\n",
    "\n",
    "--> Haber et al: Tuft cells change"
   ],
   "metadata": {
    "collapsed": false
   }
  },
  {
   "cell_type": "code",
   "execution_count": 7,
   "outputs": [
    {
     "name": "stdout",
     "output_type": "stream",
     "text": [
      "Automatic reference selection! Reference cell type set to TA.Early\n",
      "MCMC sampling finished. (62.098 sec)\n",
      "Acceptance rate: 68.2%\n"
     ]
    }
   ],
   "source": [
    "# model H. polygyrus day 3\n",
    "data_hp3 = data_all[data_all.obs[\"Condition\"].isin([\"Control\", \"H.poly.Day3\"])]\n",
    "\n",
    "model_hp3 = mod.CompositionalAnalysis(data_hp3, formula=\"Condition\", reference_cell_type=\"automatic\")\n",
    "results_hp3 = model_hp3.sample_hmc()"
   ],
   "metadata": {
    "collapsed": false,
    "pycharm": {
     "name": "#%%\n"
    }
   }
  },
  {
   "cell_type": "code",
   "execution_count": 8,
   "outputs": [
    {
     "name": "stdout",
     "output_type": "stream",
     "text": [
      "Compositional Analysis summary (extended):\n",
      "\n",
      "Data: 6 samples, 8 cell types\n",
      "Reference index: 6\n",
      "Formula: Condition\n",
      "Spike-and-slab threshold: 0.579\n",
      "\n",
      "MCMC Sampling: Sampled 20000 chain states (5000 burnin samples) in 62.098 sec. Acceptance rate: 68.2%\n",
      "\n",
      "Intercepts:\n",
      "                       Final Parameter  HDI 3%  HDI 97%     SD  \\\n",
      "Cell Type                                                        \n",
      "Endocrine                        0.702  -0.070    1.330  0.373   \n",
      "Enterocyte                       1.741   1.169    2.312  0.306   \n",
      "Enterocyte.Progenitor            2.043   1.447    2.578  0.302   \n",
      "Goblet                           1.077   0.471    1.727  0.334   \n",
      "Stem                             2.187   1.679    2.828  0.301   \n",
      "TA                               1.653   1.066    2.269  0.320   \n",
      "TA.Early                         2.323   1.783    2.855  0.288   \n",
      "Tuft                             0.301  -0.412    0.985  0.379   \n",
      "\n",
      "                       Expected Sample  \n",
      "Cell Type                               \n",
      "Endocrine                    40.919972  \n",
      "Enterocyte                  115.655768  \n",
      "Enterocyte.Progenitor       156.431508  \n",
      "Goblet                       59.538208  \n",
      "Stem                        180.660262  \n",
      "TA                          105.913028  \n",
      "TA.Early                    206.979191  \n",
      "Tuft                         27.402062  \n",
      "\n",
      "\n",
      "Effects:\n",
      "                                                Final Parameter  HDI 3%  \\\n",
      "Covariate                Cell Type                                        \n",
      "Condition[T.H.poly.Day3] Endocrine                          0.0  -0.374   \n",
      "                         Enterocyte                         0.0  -0.697   \n",
      "                         Enterocyte.Progenitor              0.0  -0.266   \n",
      "                         Goblet                             0.0  -0.716   \n",
      "                         Stem                               0.0  -0.729   \n",
      "                         TA                                 0.0  -0.576   \n",
      "                         TA.Early                           0.0   0.000   \n",
      "                         Tuft                               0.0  -0.373   \n",
      "\n",
      "                                                HDI 97%     SD  \\\n",
      "Covariate                Cell Type                               \n",
      "Condition[T.H.poly.Day3] Endocrine                1.024  0.357   \n",
      "                         Enterocyte               0.335  0.235   \n",
      "                         Enterocyte.Progenitor    0.699  0.244   \n",
      "                         Goblet                   0.442  0.272   \n",
      "                         Stem                     0.204  0.243   \n",
      "                         TA                       0.446  0.229   \n",
      "                         TA.Early                 0.000  0.000   \n",
      "                         Tuft                     1.297  0.458   \n",
      "\n",
      "                                                Inclusion probability  \\\n",
      "Covariate                Cell Type                                      \n",
      "Condition[T.H.poly.Day3] Endocrine                           0.499200   \n",
      "                         Enterocyte                          0.413133   \n",
      "                         Enterocyte.Progenitor               0.450467   \n",
      "                         Goblet                              0.449867   \n",
      "                         Stem                                0.414000   \n",
      "                         TA                                  0.418000   \n",
      "                         TA.Early                            0.000000   \n",
      "                         Tuft                                0.563200   \n",
      "\n",
      "                                                Expected Sample  \\\n",
      "Covariate                Cell Type                                \n",
      "Condition[T.H.poly.Day3] Endocrine                    40.919972   \n",
      "                         Enterocyte                  115.655768   \n",
      "                         Enterocyte.Progenitor       156.431508   \n",
      "                         Goblet                       59.538208   \n",
      "                         Stem                        180.660262   \n",
      "                         TA                          105.913028   \n",
      "                         TA.Early                    206.979191   \n",
      "                         Tuft                         27.402062   \n",
      "\n",
      "                                                log2-fold change  \n",
      "Covariate                Cell Type                                \n",
      "Condition[T.H.poly.Day3] Endocrine                           0.0  \n",
      "                         Enterocyte                          0.0  \n",
      "                         Enterocyte.Progenitor               0.0  \n",
      "                         Goblet                              0.0  \n",
      "                         Stem                                0.0  \n",
      "                         TA                                  0.0  \n",
      "                         TA.Early                            0.0  \n",
      "                         Tuft                                0.0  \n"
     ]
    }
   ],
   "source": [
    "results_hp3.summary_extended()"
   ],
   "metadata": {
    "collapsed": false,
    "pycharm": {
     "name": "#%%\n"
    }
   }
  },
  {
   "cell_type": "markdown",
   "source": [
    "Apply scCODA to H. Polygyrus 10 days (reference: TA cells)\n",
    "\n",
    "--> Enterocytes and Tuft cells are significant \n",
    "\n",
    "--> Haber et al: Enterocytes, Goblet, Tuft, and TA (early) cells change"
   ],
   "metadata": {
    "collapsed": false
   }
  },
  {
   "cell_type": "code",
   "execution_count": 9,
   "outputs": [
    {
     "name": "stdout",
     "output_type": "stream",
     "text": [
      "Automatic reference selection! Reference cell type set to Endocrine\n",
      "MCMC sampling finished. (59.703 sec)\n",
      "Acceptance rate: 57.1%\n"
     ]
    }
   ],
   "source": [
    "# model H. polygyrus day 10\n",
    "data_hp10 = data_all[data_all.obs[\"Condition\"].isin([\"Control\", \"H.poly.Day10\"])]\n",
    "\n",
    "model_hp10 = mod.CompositionalAnalysis(data_hp10, formula=\"Condition\", reference_cell_type=\"automatic\")\n",
    "results_hp10 = model_hp10.sample_hmc()"
   ],
   "metadata": {
    "collapsed": false,
    "pycharm": {
     "name": "#%%\n"
    }
   }
  },
  {
   "cell_type": "code",
   "execution_count": 10,
   "outputs": [
    {
     "name": "stdout",
     "output_type": "stream",
     "text": [
      "Compositional Analysis summary:\n",
      "\n",
      "Data: 6 samples, 8 cell types\n",
      "Reference index: 0\n",
      "Formula: Condition\n",
      "\n",
      "Intercepts:\n",
      "                       Final Parameter  Expected Sample\n",
      "Cell Type                                              \n",
      "Endocrine                        0.742        38.791457\n",
      "Enterocyte                       1.851       117.589536\n",
      "Enterocyte.Progenitor            2.216       169.389374\n",
      "Goblet                           1.430        77.184608\n",
      "Stem                             2.453       214.691058\n",
      "TA                               1.879       120.928572\n",
      "TA.Early                         2.497       224.348367\n",
      "Tuft                             0.448        28.910361\n",
      "\n",
      "\n",
      "Effects:\n",
      "                                                 Final Parameter  \\\n",
      "Covariate                 Cell Type                                \n",
      "Condition[T.H.poly.Day10] Endocrine                     0.000000   \n",
      "                          Enterocyte                   -0.747900   \n",
      "                          Enterocyte.Progenitor         0.000000   \n",
      "                          Goblet                        0.000000   \n",
      "                          Stem                          0.000000   \n",
      "                          TA                            0.000000   \n",
      "                          TA.Early                      0.000000   \n",
      "                          Tuft                          0.881375   \n",
      "\n",
      "                                                 Expected Sample  \\\n",
      "Covariate                 Cell Type                                \n",
      "Condition[T.H.poly.Day10] Endocrine                    39.632260   \n",
      "                          Enterocyte                   56.868622   \n",
      "                          Enterocyte.Progenitor       173.060879   \n",
      "                          Goblet                       78.857580   \n",
      "                          Stem                        219.344474   \n",
      "                          TA                          123.549692   \n",
      "                          TA.Early                    229.211105   \n",
      "                          Tuft                         71.308721   \n",
      "\n",
      "                                                 log2-fold change  \n",
      "Covariate                 Cell Type                                \n",
      "Condition[T.H.poly.Day10] Endocrine                      0.030936  \n",
      "                          Enterocyte                    -1.048055  \n",
      "                          Enterocyte.Progenitor          0.030936  \n",
      "                          Goblet                         0.030936  \n",
      "                          Stem                           0.030936  \n",
      "                          TA                             0.030936  \n",
      "                          TA.Early                       0.030936  \n",
      "                          Tuft                           1.302492  \n"
     ]
    }
   ],
   "source": [
    "results_hp10.summary()"
   ],
   "metadata": {
    "collapsed": false,
    "pycharm": {
     "name": "#%%\n"
    }
   }
  },
  {
   "cell_type": "markdown",
   "source": [
    "## Comparative analysis with *ancom*\n",
    "\n",
    "We want to compare our findings to the results produced by applying *ancom*\n",
    "[(Mandal et al., 2017)](https://pubmed.ncbi.nlm.nih.gov/26028277/) to the data."
   ],
   "metadata": {
    "collapsed": false,
    "pycharm": {
     "name": "#%% md\n"
    }
   }
  },
  {
   "cell_type": "code",
   "execution_count": 11,
   "outputs": [
    {
     "name": "stdout",
     "output_type": "stream",
     "text": [
      "(   W  Reject null hypothesis\n",
      "0  0                   False\n",
      "1  0                   False\n",
      "2  0                   False\n",
      "3  0                   False\n",
      "4  0                   False\n",
      "5  0                   False\n",
      "6  0                   False\n",
      "7  0                   False, Percentile   0.0     25.0    50.0    75.0    100.0  0.0     25.0   50.0   \\\n",
      "Group      Control Control Control Control Control   Salm    Salm   Salm   \n",
      "0              5.0   20.75    31.0   38.25    45.0   32.0   33.25   34.5   \n",
      "1             46.0   55.75    78.5  128.75   221.0  332.0  342.25  352.5   \n",
      "2             23.0  107.75   162.0  190.50   198.0  113.0  113.75  114.5   \n",
      "3             20.0   32.00    36.0   58.00   124.0   59.0   61.00   63.0   \n",
      "4             50.0  110.75   185.0  241.75   250.0   90.0   96.75  103.5   \n",
      "5             11.0   96.50   127.5  136.25   155.0   47.0   51.50   56.0   \n",
      "6             40.0  153.25   193.5  238.25   365.0  132.0  141.00  150.0   \n",
      "7              4.0    4.75    11.5   21.75    33.0   10.0   10.50   11.0   \n",
      "\n",
      "Percentile   75.0   100.0  \n",
      "Group         Salm   Salm  \n",
      "0            35.75   37.0  \n",
      "1           362.75  373.0  \n",
      "2           115.25  116.0  \n",
      "3            65.00   67.0  \n",
      "4           110.25  117.0  \n",
      "5            60.50   65.0  \n",
      "6           159.00  168.0  \n",
      "7            11.50   12.0  )\n"
     ]
    }
   ],
   "source": [
    "salm_ancom = data_salm.copy()\n",
    "salm_ancom.obs = salm_ancom.obs.rename(columns={\"Condition\": \"x_0\"})\n",
    "model_salm_ancom = om.AncomModel(salm_ancom)\n",
    "model_salm_ancom.fit_model()\n",
    "print(model_salm_ancom.ancom_out)"
   ],
   "metadata": {
    "collapsed": false,
    "pycharm": {
     "name": "#%%\n"
    }
   }
  },
  {
   "cell_type": "code",
   "execution_count": 12,
   "outputs": [
    {
     "name": "stdout",
     "output_type": "stream",
     "text": [
      "(   W  Reject null hypothesis\n",
      "0  0                   False\n",
      "1  0                   False\n",
      "2  0                   False\n",
      "3  0                   False\n",
      "4  0                   False\n",
      "5  0                   False\n",
      "6  0                   False\n",
      "7  0                   False, Percentile   0.0     25.0    50.0    75.0    100.0       0.0         25.0   \\\n",
      "Group      Control Control Control Control Control H.poly.Day3 H.poly.Day3   \n",
      "0              5.0   20.75    31.0   38.25    45.0        52.0       55.25   \n",
      "1             46.0   55.75    78.5  128.75   221.0        75.0       87.75   \n",
      "2             23.0  107.75   162.0  190.50   198.0       115.0      173.00   \n",
      "3             20.0   32.00    36.0   58.00   124.0        33.0       41.25   \n",
      "4             50.0  110.75   185.0  241.75   250.0        65.0      129.50   \n",
      "5             11.0   96.50   127.5  136.25   155.0        39.0       95.00   \n",
      "6             40.0  153.25   193.5  238.25   365.0       129.0      175.00   \n",
      "7              4.0    4.75    11.5   21.75    33.0        51.0       53.00   \n",
      "\n",
      "Percentile       50.0        75.0        100.0  \n",
      "Group      H.poly.Day3 H.poly.Day3 H.poly.Day3  \n",
      "0                 58.5       61.75        65.0  \n",
      "1                100.5      113.25       126.0  \n",
      "2                231.0      289.00       347.0  \n",
      "3                 49.5       57.75        66.0  \n",
      "4                194.0      258.50       323.0  \n",
      "5                151.0      207.00       263.0  \n",
      "6                221.0      267.00       313.0  \n",
      "7                 55.0       57.00        59.0  )\n"
     ]
    }
   ],
   "source": [
    "\n",
    "hp3_ancom = data_hp3.copy()\n",
    "hp3_ancom.obs = hp3_ancom.obs.rename(columns={\"Condition\": \"x_0\"})\n",
    "model_hp3_ancom = om.AncomModel(hp3_ancom)\n",
    "model_hp3_ancom.fit_model()\n",
    "print(model_hp3_ancom.ancom_out)"
   ],
   "metadata": {
    "collapsed": false,
    "pycharm": {
     "name": "#%%\n"
    }
   }
  },
  {
   "cell_type": "code",
   "execution_count": 13,
   "outputs": [
    {
     "name": "stdout",
     "output_type": "stream",
     "text": [
      "(   W  Reject null hypothesis\n",
      "0  0                   False\n",
      "1  0                   False\n",
      "2  0                   False\n",
      "3  0                   False\n",
      "4  0                   False\n",
      "5  0                   False\n",
      "6  0                   False\n",
      "7  0                   False, Percentile   0.0     25.0    50.0    75.0    100.0        0.0          25.0   \\\n",
      "Group      Control Control Control Control Control H.poly.Day10 H.poly.Day10   \n",
      "0              5.0   20.75    31.0   38.25    45.0         40.0        40.50   \n",
      "1             46.0   55.75    78.5  128.75   221.0         57.0        60.50   \n",
      "2             23.0  107.75   162.0  190.50   198.0        203.0       248.00   \n",
      "3             20.0   32.00    36.0   58.00   124.0        147.0       152.75   \n",
      "4             50.0  110.75   185.0  241.75   250.0        271.0       283.50   \n",
      "5             11.0   96.50   127.5  136.25   155.0        109.0       142.75   \n",
      "6             40.0  153.25   193.5  238.25   365.0        180.0       199.00   \n",
      "7              4.0    4.75    11.5   21.75    33.0         71.0        89.75   \n",
      "\n",
      "Percentile        50.0         75.0         100.0  \n",
      "Group      H.poly.Day10 H.poly.Day10 H.poly.Day10  \n",
      "0                  41.0        41.50         42.0  \n",
      "1                  64.0        67.50         71.0  \n",
      "2                 293.0       338.00        383.0  \n",
      "3                 158.5       164.25        170.0  \n",
      "4                 296.0       308.50        321.0  \n",
      "5                 176.5       210.25        244.0  \n",
      "6                 218.0       237.00        256.0  \n",
      "7                 108.5       127.25        146.0  )\n"
     ]
    }
   ],
   "source": [
    "\n",
    "hp10_ancom = data_hp10.copy()\n",
    "hp10_ancom.obs = hp10_ancom.obs.rename(columns={\"Condition\": \"x_0\"})\n",
    "model_hp10_ancom = om.AncomModel(hp10_ancom)\n",
    "model_hp10_ancom.fit_model()\n",
    "print(model_hp10_ancom.ancom_out)"
   ],
   "metadata": {
    "collapsed": false,
    "pycharm": {
     "name": "#%%\n"
    }
   }
  },
  {
   "cell_type": "code",
   "execution_count": 14,
   "outputs": [
    {
     "name": "stdout",
     "output_type": "stream",
     "text": [
      "(   W  Reject null hypothesis\n",
      "0  0                   False\n",
      "1  0                   False\n",
      "2  0                   False\n",
      "3  0                   False\n",
      "4  0                   False\n",
      "5  0                   False\n",
      "6  0                   False\n",
      "7  0                   False, Percentile   0.0     25.0    50.0    75.0    100.0  0.0     25.0   50.0   \\\n",
      "Group      Control Control Control Control Control   Salm    Salm   Salm   \n",
      "0              5.0   20.75    31.0   38.25    45.0   32.0   33.25   34.5   \n",
      "1             46.0   55.75    78.5  128.75   221.0  332.0  342.25  352.5   \n",
      "2             23.0  107.75   162.0  190.50   198.0  113.0  113.75  114.5   \n",
      "3             20.0   32.00    36.0   58.00   124.0   59.0   61.00   63.0   \n",
      "4             50.0  110.75   185.0  241.75   250.0   90.0   96.75  103.5   \n",
      "5             11.0   96.50   127.5  136.25   155.0   47.0   51.50   56.0   \n",
      "6             40.0  153.25   193.5  238.25   365.0  132.0  141.00  150.0   \n",
      "7              4.0    4.75    11.5   21.75    33.0   10.0   10.50   11.0   \n",
      "\n",
      "Percentile   75.0   100.0  \n",
      "Group         Salm   Salm  \n",
      "0            35.75   37.0  \n",
      "1           362.75  373.0  \n",
      "2           115.25  116.0  \n",
      "3            65.00   67.0  \n",
      "4           110.25  117.0  \n",
      "5            60.50   65.0  \n",
      "6           159.00  168.0  \n",
      "7            11.50   12.0  )\n"
     ]
    }
   ],
   "source": [
    "data_salm = data_all[data_all.obs[\"Condition\"].isin([\"Control\", \"Salm\"])]\n",
    "\n",
    "model_ancom = om.AncomModel(data_salm, covariate_column=\"Condition\")\n",
    "model_ancom.fit_model()\n",
    "print(model_ancom.ancom_out)"
   ],
   "metadata": {
    "collapsed": false,
    "pycharm": {
     "name": "#%%\n"
    }
   }
  },
  {
   "cell_type": "code",
   "execution_count": 14,
   "outputs": [],
   "source": [],
   "metadata": {
    "collapsed": false,
    "pycharm": {
     "name": "#%%\n"
    }
   }
  }
 ],
 "metadata": {
  "kernelspec": {
   "name": "python3",
   "language": "python",
   "display_name": "Python 3"
  },
  "language_info": {
   "codemirror_mode": {
    "name": "ipython",
    "version": 2
   },
   "file_extension": ".py",
   "mimetype": "text/x-python",
   "name": "python",
   "nbconvert_exporter": "python",
   "pygments_lexer": "ipython2",
   "version": "2.7.6"
  }
 },
 "nbformat": 4,
 "nbformat_minor": 0
}